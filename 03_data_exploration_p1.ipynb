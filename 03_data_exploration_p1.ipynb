{
 "cells": [
  {
   "cell_type": "code",
   "execution_count": 1,
   "id": "2a04b4c7-6753-4b67-a83f-f118a4f6dac0",
   "metadata": {},
   "outputs": [],
   "source": [
    "# Run this file with the following parameters from comand line:\n",
    "# jupyter-lab --ServerApp.iopub_msg_rate_limit=1.0e10\n",
    "# It helps to render from ydata-profing to the JuputerLab\n",
    "# https://stackoverflow.com/questions/43288550/iopub-data-rate-exceeded-in-jupyter-notebook-when-viewing-image"
   ]
  },
  {
   "cell_type": "markdown",
   "id": "11ea98f7-8b21-4fd1-bfeb-44c7508c7a1f",
   "metadata": {},
   "source": [
    "# 03. Data Exploration of the NBA SQLite database"
   ]
  },
  {
   "cell_type": "markdown",
   "id": "6e0a2da1-7412-4734-b289-a9cda4de86fe",
   "metadata": {},
   "source": [
    "Use DBeaver to generate ER diagram for the NBA SQLite database:"
   ]
  },
  {
   "cell_type": "markdown",
   "id": "e584259b-afb6-4528-b551-8ac80248ddf4",
   "metadata": {},
   "source": [
    "<figure>\n",
    "    <img src=\"figures/3.1 ER diagram.png\" alt=\"Fig. 3.1. The NBA database ER diagram.\">\n",
    "    <figcaption style=\"text-align:center;\">Fig. 3.1. The NBA database ER diagram.</figcaption>\n",
    "</figure>"
   ]
  },
  {
   "cell_type": "markdown",
   "id": "becfe600-f60a-4751-bddc-3f8bf26b35b4",
   "metadata": {},
   "source": [
    "As we can see from the ER diagram:\n",
    "- 16 tables;\n",
    "- the tables have between 4 and 55 columns;\n",
    "- the columns have TEXT, REAL, INTEGER, TIMESTAMP (not native, native type is TEXT) types;\n",
    "- no views;\n",
    "- no direct relatioships."
   ]
  },
  {
   "cell_type": "markdown",
   "id": "c901b078-dfa2-41f1-a8fb-8ffdf88aa40a",
   "metadata": {},
   "source": [
    "Import libraries, import auxilliary functions, set pandas, and set logger:"
   ]
  },
  {
   "cell_type": "code",
   "execution_count": 2,
   "id": "49ba2c61-95b1-4604-9f0d-8d1129a3f6ae",
   "metadata": {},
   "outputs": [],
   "source": [
    "import sqlite3\n",
    "\n",
    "from utils.data_exploration_p1 import (\n",
    "    get_db_info,\n",
    "    plot_mpl_bars,\n",
    "    print_db_info,\n",
    "    create_reports\n",
    ")\n",
    "\n"
   ]
  },
  {
   "cell_type": "markdown",
   "id": "6c9f4a9b-a631-4397-9bab-c950789a2520",
   "metadata": {},
   "source": [
    "Establish a connection to our database and create a cursor."
   ]
  },
  {
   "cell_type": "code",
   "execution_count": 3,
   "id": "6a92570c-bba3-42bf-a236-1b5ebdb86987",
   "metadata": {},
   "outputs": [],
   "source": [
    "conn = sqlite3.connect(\"/Users/lex/Sync/AI/DB/NBA/nba.sqlite\")\n",
    "cur = conn.cursor()"
   ]
  },
  {
   "cell_type": "markdown",
   "id": "9b76cb15-1c87-4be0-b07c-7cb6dad66518",
   "metadata": {},
   "source": [
    "Return a dictionary of list for every table in DB and a number a rows for every table."
   ]
  },
  {
   "cell_type": "code",
   "execution_count": 4,
   "id": "3a4ad198-082d-4c38-b688-080c9cf138ef",
   "metadata": {},
   "outputs": [
    {
     "name": "stdout",
     "output_type": "stream",
     "text": [
      "2023-07-13 22:04:31,995 | utils.data_exploration | INFO | The list of dictionaries db_info has been created.\n"
     ]
    }
   ],
   "source": [
    "db_info, num_rows = get_db_info(cur)"
   ]
  },
  {
   "cell_type": "markdown",
   "id": "bc35cb45-f4b0-46fe-ba7e-e35e242d51f1",
   "metadata": {},
   "source": [
    "The num_rows is a DataFrame that have \"Table Name\" and \"A num of rows columns\". Let's visualize it ([see Python code](utils/data_exploration_p1.py)):"
   ]
  },
  {
   "cell_type": "code",
   "execution_count": 5,
   "id": "b6ec3073-8443-4eb5-a928-7a7484b1da9c",
   "metadata": {},
   "outputs": [
    {
     "name": "stdout",
     "output_type": "stream",
     "text": [
      "             Table Name  A num of rows\n",
      "0                  game          65698\n",
      "1          game_summary          58110\n",
      "2           other_stats          28271\n",
      "3             officials          70971\n",
      "4      inactive_players         110191\n",
      "5             game_info          58053\n",
      "6            line_score          58053\n",
      "7          play_by_play       13592899\n",
      "8                player           4815\n",
      "9                  team             30\n",
      "10   common_player_info           3632\n",
      "11         team_details             27\n",
      "12         team_history             50\n",
      "13  draft_combine_stats           1633\n",
      "14        draft_history           8257\n",
      "15     team_info_common              0\n"
     ]
    }
   ],
   "source": [
    "print(num_rows)"
   ]
  },
  {
   "cell_type": "code",
   "execution_count": 6,
   "id": "0bf3193f-b81e-48b3-bc36-b5b0beac55ea",
   "metadata": {},
   "outputs": [],
   "source": [
    "plot_mpl_bars(num_rows)"
   ]
  },
  {
   "cell_type": "markdown",
   "id": "0e2e9292-23ba-4259-87b2-9f59e0238d3b",
   "metadata": {},
   "source": [
    "<figure>\n",
    "    <img src=\"figures/3.2 A num of rows in tables.png\" alt=\"Fig. 3.2. A num of rows in tables.\">\n",
    "    <figcaption style=\"text-align:center;\">Fig. 3.2. A num of rows in tables.</figcaption>\n",
    "</figure>"
   ]
  },
  {
   "cell_type": "markdown",
   "id": "7d10f3ef-649c-43ca-88ac-7fe86911b116",
   "metadata": {},
   "source": [
    "As we can see there is the play_by_play table that has significantly more rows than other tables. The play_by_play table has more than 13 million rows. Using functions like pandas.describe() or ydata-profiling with this table can take several hours on an average computer.\n",
    "\n",
    "Print a list of table names and main data about columns ([see Python code](utils/data_exploration_p1.py)):"
   ]
  },
  {
   "cell_type": "code",
   "execution_count": 7,
   "id": "495877d1-e3e2-4e90-bde8-6f70dff6fdd8",
   "metadata": {},
   "outputs": [
    {
     "name": "stdout",
     "output_type": "stream",
     "text": [
      "Table name: game\n",
      "Table columns:\n",
      "                Column Name       Type  NOTNULL DFLT_VALUE   PK\n",
      "ID                                                            \n",
      "0                season_id       TEXT        0        None   0\n",
      "1             team_id_home       TEXT        0        None   0\n",
      "2   team_abbreviation_home       TEXT        0        None   0\n",
      "3           team_name_home       TEXT        0        None   0\n",
      "4                  game_id       TEXT        0        None   0\n",
      "5                game_date  TIMESTAMP        0        None   0\n",
      "6             matchup_home       TEXT        0        None   0\n",
      "7                  wl_home       TEXT        0        None   0\n",
      "8                      min    INTEGER        0        None   0\n",
      "9                 fgm_home       REAL        0        None   0\n",
      "10                fga_home       REAL        0        None   0\n",
      "11             fg_pct_home       REAL        0        None   0\n",
      "12               fg3m_home       REAL        0        None   0\n",
      "13               fg3a_home       REAL        0        None   0\n",
      "14            fg3_pct_home       REAL        0        None   0\n",
      "15                ftm_home       REAL        0        None   0\n",
      "16                fta_home       REAL        0        None   0\n",
      "17             ft_pct_home       REAL        0        None   0\n",
      "18               oreb_home       REAL        0        None   0\n",
      "19               dreb_home       REAL        0        None   0\n",
      "20                reb_home       REAL        0        None   0\n",
      "21                ast_home       REAL        0        None   0\n",
      "22                stl_home       REAL        0        None   0\n",
      "23                blk_home       REAL        0        None   0\n",
      "24                tov_home       REAL        0        None   0\n",
      "25                 pf_home       REAL        0        None   0\n",
      "26                pts_home       REAL        0        None   0\n",
      "27         plus_minus_home    INTEGER        0        None   0\n",
      "28    video_available_home    INTEGER        0        None   0\n",
      "29            team_id_away       TEXT        0        None   0\n",
      "30  team_abbreviation_away       TEXT        0        None   0\n",
      "31          team_name_away       TEXT        0        None   0\n",
      "32            matchup_away       TEXT        0        None   0\n",
      "33                 wl_away       TEXT        0        None   0\n",
      "34                fgm_away       REAL        0        None   0\n",
      "35                fga_away       REAL        0        None   0\n",
      "36             fg_pct_away       REAL        0        None   0\n",
      "37               fg3m_away       REAL        0        None   0\n",
      "38               fg3a_away       REAL        0        None   0\n",
      "39            fg3_pct_away       REAL        0        None   0\n",
      "40                ftm_away       REAL        0        None   0\n",
      "41                fta_away       REAL        0        None   0\n",
      "42             ft_pct_away       REAL        0        None   0\n",
      "43               oreb_away       REAL        0        None   0\n",
      "44               dreb_away       REAL        0        None   0\n",
      "45                reb_away       REAL        0        None   0\n",
      "46                ast_away       REAL        0        None   0\n",
      "47                stl_away       REAL        0        None   0\n",
      "48                blk_away       REAL        0        None   0\n",
      "49                tov_away       REAL        0        None   0\n",
      "50                 pf_away       REAL        0        None   0\n",
      "51                pts_away       REAL        0        None   0\n",
      "52         plus_minus_away    INTEGER        0        None   0\n",
      "53    video_available_away    INTEGER        0        None   0\n",
      "54             season_type       TEXT        0        None   0\n",
      "\n",
      "Table name: game_summary\n",
      "Table columns:\n",
      "                          Column Name       Type  NOTNULL DFLT_VALUE   PK\n",
      "ID                                                                      \n",
      "0                      game_date_est  TIMESTAMP        0        None   0\n",
      "1                      game_sequence    INTEGER        0        None   0\n",
      "2                            game_id       TEXT        0        None   0\n",
      "3                     game_status_id    INTEGER        0        None   0\n",
      "4                   game_status_text       TEXT        0        None   0\n",
      "5                           gamecode       TEXT        0        None   0\n",
      "6                       home_team_id       TEXT        0        None   0\n",
      "7                    visitor_team_id       TEXT        0        None   0\n",
      "8                             season       TEXT        0        None   0\n",
      "9                        live_period    INTEGER        0        None   0\n",
      "10                      live_pc_time       TEXT        0        None   0\n",
      "11  natl_tv_broadcaster_abbreviation       TEXT        0        None   0\n",
      "12            live_period_time_bcast       TEXT        0        None   0\n",
      "13                         wh_status    INTEGER        0        None   0\n",
      "\n",
      "Table name: other_stats\n",
      "Table columns:\n",
      "                Column Name     Type  NOTNULL DFLT_VALUE   PK\n",
      "ID                                                          \n",
      "0                  game_id     TEXT        0        None   0\n",
      "1                league_id     TEXT        0        None   0\n",
      "2             team_id_home     TEXT        0        None   0\n",
      "3   team_abbreviation_home     TEXT        0        None   0\n",
      "4           team_city_home     TEXT        0        None   0\n",
      "5           pts_paint_home  INTEGER        0        None   0\n",
      "6      pts_2nd_chance_home  INTEGER        0        None   0\n",
      "7              pts_fb_home  INTEGER        0        None   0\n",
      "8        largest_lead_home  INTEGER        0        None   0\n",
      "9             lead_changes  INTEGER        0        None   0\n",
      "10              times_tied  INTEGER        0        None   0\n",
      "11     team_turnovers_home  INTEGER        0        None   0\n",
      "12    total_turnovers_home  INTEGER        0        None   0\n",
      "13      team_rebounds_home  INTEGER        0        None   0\n",
      "14         pts_off_to_home  INTEGER        0        None   0\n",
      "15            team_id_away     TEXT        0        None   0\n",
      "16  team_abbreviation_away     TEXT        0        None   0\n",
      "17          team_city_away     TEXT        0        None   0\n",
      "18          pts_paint_away  INTEGER        0        None   0\n",
      "19     pts_2nd_chance_away  INTEGER        0        None   0\n",
      "20             pts_fb_away  INTEGER        0        None   0\n",
      "21       largest_lead_away  INTEGER        0        None   0\n",
      "22     team_turnovers_away  INTEGER        0        None   0\n",
      "23    total_turnovers_away  INTEGER        0        None   0\n",
      "24      team_rebounds_away  INTEGER        0        None   0\n",
      "25         pts_off_to_away  INTEGER        0        None   0\n",
      "\n",
      "Table name: officials\n",
      "Table columns:\n",
      "     Column Name  Type  NOTNULL DFLT_VALUE   PK\n",
      "ID                                            \n",
      "0       game_id  TEXT        0        None   0\n",
      "1   official_id  TEXT        0        None   0\n",
      "2    first_name  TEXT        0        None   0\n",
      "3     last_name  TEXT        0        None   0\n",
      "4    jersey_num  TEXT        0        None   0\n",
      "\n",
      "Table name: inactive_players\n",
      "Table columns:\n",
      "           Column Name  Type  NOTNULL DFLT_VALUE   PK\n",
      "ID                                                  \n",
      "0             game_id  TEXT        0        None   0\n",
      "1           player_id  TEXT        0        None   0\n",
      "2          first_name  TEXT        0        None   0\n",
      "3           last_name  TEXT        0        None   0\n",
      "4          jersey_num  TEXT        0        None   0\n",
      "5             team_id  TEXT        0        None   0\n",
      "6           team_city  TEXT        0        None   0\n",
      "7           team_name  TEXT        0        None   0\n",
      "8   team_abbreviation  TEXT        0        None   0\n",
      "\n",
      "Table name: game_info\n",
      "Table columns:\n",
      "    Column Name       Type  NOTNULL DFLT_VALUE   PK\n",
      "ID                                                \n",
      "0      game_id       TEXT        0        None   0\n",
      "1    game_date  TIMESTAMP        0        None   0\n",
      "2   attendance    INTEGER        0        None   0\n",
      "3    game_time       TEXT        0        None   0\n",
      "\n",
      "Table name: line_score\n",
      "Table columns:\n",
      "                Column Name       Type  NOTNULL DFLT_VALUE   PK\n",
      "ID                                                            \n",
      "0            game_date_est  TIMESTAMP        0        None   0\n",
      "1            game_sequence    INTEGER        0        None   0\n",
      "2                  game_id       TEXT        0        None   0\n",
      "3             team_id_home       TEXT        0        None   0\n",
      "4   team_abbreviation_home       TEXT        0        None   0\n",
      "5      team_city_name_home       TEXT        0        None   0\n",
      "6       team_nickname_home       TEXT        0        None   0\n",
      "7    team_wins_losses_home       TEXT        0        None   0\n",
      "8            pts_qtr1_home       TEXT        0        None   0\n",
      "9            pts_qtr2_home       TEXT        0        None   0\n",
      "10           pts_qtr3_home       TEXT        0        None   0\n",
      "11           pts_qtr4_home       TEXT        0        None   0\n",
      "12            pts_ot1_home    INTEGER        0        None   0\n",
      "13            pts_ot2_home    INTEGER        0        None   0\n",
      "14            pts_ot3_home    INTEGER        0        None   0\n",
      "15            pts_ot4_home    INTEGER        0        None   0\n",
      "16            pts_ot5_home    INTEGER        0        None   0\n",
      "17            pts_ot6_home    INTEGER        0        None   0\n",
      "18            pts_ot7_home    INTEGER        0        None   0\n",
      "19            pts_ot8_home    INTEGER        0        None   0\n",
      "20            pts_ot9_home    INTEGER        0        None   0\n",
      "21           pts_ot10_home    INTEGER        0        None   0\n",
      "22                pts_home       REAL        0        None   0\n",
      "23            team_id_away       TEXT        0        None   0\n",
      "24  team_abbreviation_away       TEXT        0        None   0\n",
      "25     team_city_name_away       TEXT        0        None   0\n",
      "26      team_nickname_away       TEXT        0        None   0\n",
      "27   team_wins_losses_away       TEXT        0        None   0\n",
      "28           pts_qtr1_away    INTEGER        0        None   0\n",
      "29           pts_qtr2_away       TEXT        0        None   0\n",
      "30           pts_qtr3_away       TEXT        0        None   0\n",
      "31           pts_qtr4_away    INTEGER        0        None   0\n",
      "32            pts_ot1_away    INTEGER        0        None   0\n",
      "33            pts_ot2_away    INTEGER        0        None   0\n",
      "34            pts_ot3_away    INTEGER        0        None   0\n",
      "35            pts_ot4_away    INTEGER        0        None   0\n",
      "36            pts_ot5_away    INTEGER        0        None   0\n",
      "37            pts_ot6_away    INTEGER        0        None   0\n",
      "38            pts_ot7_away    INTEGER        0        None   0\n",
      "39            pts_ot8_away    INTEGER        0        None   0\n",
      "40            pts_ot9_away    INTEGER        0        None   0\n",
      "41           pts_ot10_away    INTEGER        0        None   0\n",
      "42                pts_away       REAL        0        None   0\n",
      "\n",
      "Table name: play_by_play\n",
      "Table columns:\n",
      "                   Column Name     Type  NOTNULL DFLT_VALUE   PK\n",
      "ID                                                             \n",
      "0                     game_id     TEXT        0        None   0\n",
      "1                    eventnum  INTEGER        0        None   0\n",
      "2                eventmsgtype  INTEGER        0        None   0\n",
      "3          eventmsgactiontype  INTEGER        0        None   0\n",
      "4                      period  INTEGER        0        None   0\n",
      "5                wctimestring     TEXT        0        None   0\n",
      "6                pctimestring     TEXT        0        None   0\n",
      "7             homedescription     TEXT        0        None   0\n",
      "8          neutraldescription     TEXT        0        None   0\n",
      "9          visitordescription     TEXT        0        None   0\n",
      "10                      score     TEXT        0        None   0\n",
      "11                scoremargin     TEXT        0        None   0\n",
      "12                person1type     REAL        0        None   0\n",
      "13                 player1_id     TEXT        0        None   0\n",
      "14               player1_name     TEXT        0        None   0\n",
      "15            player1_team_id     TEXT        0        None   0\n",
      "16          player1_team_city     TEXT        0        None   0\n",
      "17      player1_team_nickname     TEXT        0        None   0\n",
      "18  player1_team_abbreviation     TEXT        0        None   0\n",
      "19                person2type     REAL        0        None   0\n",
      "20                 player2_id     TEXT        0        None   0\n",
      "21               player2_name     TEXT        0        None   0\n",
      "22            player2_team_id     TEXT        0        None   0\n",
      "23          player2_team_city     TEXT        0        None   0\n",
      "24      player2_team_nickname     TEXT        0        None   0\n",
      "25  player2_team_abbreviation     TEXT        0        None   0\n",
      "26                person3type     REAL        0        None   0\n",
      "27                 player3_id     TEXT        0        None   0\n",
      "28               player3_name     TEXT        0        None   0\n",
      "29            player3_team_id     TEXT        0        None   0\n",
      "30          player3_team_city     TEXT        0        None   0\n",
      "31      player3_team_nickname     TEXT        0        None   0\n",
      "32  player3_team_abbreviation     TEXT        0        None   0\n",
      "33       video_available_flag     TEXT        0        None   0\n",
      "\n",
      "Table name: player\n",
      "Table columns:\n",
      "    Column Name     Type  NOTNULL DFLT_VALUE   PK\n",
      "ID                                              \n",
      "0           id     TEXT        0        None   0\n",
      "1    full_name     TEXT        0        None   0\n",
      "2   first_name     TEXT        0        None   0\n",
      "3    last_name     TEXT        0        None   0\n",
      "4    is_active  INTEGER        0        None   0\n",
      "\n",
      "Table name: team\n",
      "Table columns:\n",
      "      Column Name  Type  NOTNULL DFLT_VALUE   PK\n",
      "ID                                             \n",
      "0             id  TEXT        0        None   0\n",
      "1      full_name  TEXT        0        None   0\n",
      "2   abbreviation  TEXT        0        None   0\n",
      "3       nickname  TEXT        0        None   0\n",
      "4           city  TEXT        0        None   0\n",
      "5          state  TEXT        0        None   0\n",
      "6   year_founded  REAL        0        None   0\n",
      "\n",
      "Table name: common_player_info\n",
      "Table columns:\n",
      "                          Column Name       Type  NOTNULL DFLT_VALUE   PK\n",
      "ID                                                                      \n",
      "0                          person_id       TEXT        0        None   0\n",
      "1                         first_name       TEXT        0        None   0\n",
      "2                          last_name       TEXT        0        None   0\n",
      "3                 display_first_last       TEXT        0        None   0\n",
      "4           display_last_comma_first       TEXT        0        None   0\n",
      "5                    display_fi_last       TEXT        0        None   0\n",
      "6                        player_slug       TEXT        0        None   0\n",
      "7                          birthdate  TIMESTAMP        0        None   0\n",
      "8                             school       TEXT        0        None   0\n",
      "9                            country       TEXT        0        None   0\n",
      "10                  last_affiliation       TEXT        0        None   0\n",
      "11                            height       TEXT        0        None   0\n",
      "12                            weight       TEXT        0        None   0\n",
      "13                        season_exp       REAL        0        None   0\n",
      "14                            jersey       TEXT        0        None   0\n",
      "15                          position       TEXT        0        None   0\n",
      "16                      rosterstatus       TEXT        0        None   0\n",
      "17  games_played_current_season_flag       TEXT        0        None   0\n",
      "18                           team_id    INTEGER        0        None   0\n",
      "19                         team_name       TEXT        0        None   0\n",
      "20                 team_abbreviation       TEXT        0        None   0\n",
      "21                         team_code       TEXT        0        None   0\n",
      "22                         team_city       TEXT        0        None   0\n",
      "23                        playercode       TEXT        0        None   0\n",
      "24                         from_year       REAL        0        None   0\n",
      "25                           to_year       REAL        0        None   0\n",
      "26                      dleague_flag       TEXT        0        None   0\n",
      "27                          nba_flag       TEXT        0        None   0\n",
      "28                 games_played_flag       TEXT        0        None   0\n",
      "29                        draft_year       TEXT        0        None   0\n",
      "30                       draft_round       TEXT        0        None   0\n",
      "31                      draft_number       TEXT        0        None   0\n",
      "32                  greatest_75_flag       TEXT        0        None   0\n",
      "\n",
      "Table name: team_details\n",
      "Table columns:\n",
      "            Column Name  Type  NOTNULL DFLT_VALUE   PK\n",
      "ID                                                   \n",
      "0              team_id  TEXT        0        None   0\n",
      "1         abbreviation  TEXT        0        None   0\n",
      "2             nickname  TEXT        0        None   0\n",
      "3          yearfounded  REAL        0        None   0\n",
      "4                 city  TEXT        0        None   0\n",
      "5                arena  TEXT        0        None   0\n",
      "6        arenacapacity  REAL        0        None   0\n",
      "7                owner  TEXT        0        None   0\n",
      "8       generalmanager  TEXT        0        None   0\n",
      "9            headcoach  TEXT        0        None   0\n",
      "10  dleagueaffiliation  TEXT        0        None   0\n",
      "11            facebook  TEXT        0        None   0\n",
      "12           instagram  TEXT        0        None   0\n",
      "13             twitter  TEXT        0        None   0\n",
      "\n",
      "Table name: team_history\n",
      "Table columns:\n",
      "          Column Name     Type  NOTNULL DFLT_VALUE   PK\n",
      "ID                                                    \n",
      "0            team_id     TEXT        0        None   0\n",
      "1               city     TEXT        0        None   0\n",
      "2           nickname     TEXT        0        None   0\n",
      "3       year_founded  INTEGER        0        None   0\n",
      "4   year_active_till  INTEGER        0        None   0\n",
      "\n",
      "Table name: draft_combine_stats\n",
      "Table columns:\n",
      "                      Column Name  Type  NOTNULL DFLT_VALUE   PK\n",
      "ID                                                             \n",
      "0                         season  TEXT        0        None   0\n",
      "1                      player_id  TEXT        0        None   0\n",
      "2                     first_name  TEXT        0        None   0\n",
      "3                      last_name  TEXT        0        None   0\n",
      "4                    player_name  TEXT        0        None   0\n",
      "5                       position  TEXT        0        None   0\n",
      "6                height_wo_shoes  REAL        0        None   0\n",
      "7          height_wo_shoes_ft_in  TEXT        0        None   0\n",
      "8                 height_w_shoes  REAL        0        None   0\n",
      "9           height_w_shoes_ft_in  TEXT        0        None   0\n",
      "10                        weight  TEXT        0        None   0\n",
      "11                      wingspan  REAL        0        None   0\n",
      "12                wingspan_ft_in  TEXT        0        None   0\n",
      "13                standing_reach  REAL        0        None   0\n",
      "14          standing_reach_ft_in  TEXT        0        None   0\n",
      "15                  body_fat_pct  TEXT        0        None   0\n",
      "16                   hand_length  TEXT        0        None   0\n",
      "17                    hand_width  TEXT        0        None   0\n",
      "18        standing_vertical_leap  REAL        0        None   0\n",
      "19             max_vertical_leap  REAL        0        None   0\n",
      "20             lane_agility_time  REAL        0        None   0\n",
      "21    modified_lane_agility_time  REAL        0        None   0\n",
      "22          three_quarter_sprint  REAL        0        None   0\n",
      "23                   bench_press  REAL        0        None   0\n",
      "24      spot_fifteen_corner_left  TEXT        0        None   0\n",
      "25       spot_fifteen_break_left  TEXT        0        None   0\n",
      "26          spot_fifteen_top_key  TEXT        0        None   0\n",
      "27      spot_fifteen_break_right  TEXT        0        None   0\n",
      "28     spot_fifteen_corner_right  TEXT        0        None   0\n",
      "29      spot_college_corner_left  TEXT        0        None   0\n",
      "30       spot_college_break_left  TEXT        0        None   0\n",
      "31          spot_college_top_key  TEXT        0        None   0\n",
      "32      spot_college_break_right  TEXT        0        None   0\n",
      "33     spot_college_corner_right  TEXT        0        None   0\n",
      "34          spot_nba_corner_left  TEXT        0        None   0\n",
      "35           spot_nba_break_left  TEXT        0        None   0\n",
      "36              spot_nba_top_key  TEXT        0        None   0\n",
      "37          spot_nba_break_right  TEXT        0        None   0\n",
      "38         spot_nba_corner_right  TEXT        0        None   0\n",
      "39   off_drib_fifteen_break_left  TEXT        0        None   0\n",
      "40      off_drib_fifteen_top_key  TEXT        0        None   0\n",
      "41  off_drib_fifteen_break_right  TEXT        0        None   0\n",
      "42   off_drib_college_break_left  TEXT        0        None   0\n",
      "43      off_drib_college_top_key  TEXT        0        None   0\n",
      "44  off_drib_college_break_right  TEXT        0        None   0\n",
      "45               on_move_fifteen  TEXT        0        None   0\n",
      "46               on_move_college  TEXT        0        None   0\n",
      "\n",
      "Table name: draft_history\n",
      "Table columns:\n",
      "             Column Name     Type  NOTNULL DFLT_VALUE   PK\n",
      "ID                                                       \n",
      "0             person_id     TEXT        0        None   0\n",
      "1           player_name     TEXT        0        None   0\n",
      "2                season     TEXT        0        None   0\n",
      "3          round_number  INTEGER        0        None   0\n",
      "4            round_pick  INTEGER        0        None   0\n",
      "5          overall_pick  INTEGER        0        None   0\n",
      "6            draft_type     TEXT        0        None   0\n",
      "7               team_id     TEXT        0        None   0\n",
      "8             team_city     TEXT        0        None   0\n",
      "9             team_name     TEXT        0        None   0\n",
      "10    team_abbreviation     TEXT        0        None   0\n",
      "11         organization     TEXT        0        None   0\n",
      "12    organization_type     TEXT        0        None   0\n",
      "13  player_profile_flag     TEXT        0        None   0\n",
      "\n",
      "Table name: team_info_common\n",
      "Table columns:\n",
      "           Column Name     Type  NOTNULL DFLT_VALUE   PK\n",
      "ID                                                     \n",
      "0             team_id     TEXT        0        None   0\n",
      "1         season_year     TEXT        0        None   0\n",
      "2           team_city     TEXT        0        None   0\n",
      "3           team_name     TEXT        0        None   0\n",
      "4   team_abbreviation     TEXT        0        None   0\n",
      "5     team_conference     TEXT        0        None   0\n",
      "6       team_division     TEXT        0        None   0\n",
      "7           team_code     TEXT        0        None   0\n",
      "8           team_slug     TEXT        0        None   0\n",
      "9                   w  INTEGER        0        None   0\n",
      "10                  l  INTEGER        0        None   0\n",
      "11                pct     REAL        0        None   0\n",
      "12          conf_rank  INTEGER        0        None   0\n",
      "13           div_rank  INTEGER        0        None   0\n",
      "14           min_year  INTEGER        0        None   0\n",
      "15           max_year  INTEGER        0        None   0\n",
      "16          league_id     TEXT        0        None   0\n",
      "17          season_id     TEXT        0        None   0\n",
      "18           pts_rank  INTEGER        0        None   0\n",
      "19             pts_pg     REAL        0        None   0\n",
      "20           reb_rank  INTEGER        0        None   0\n",
      "21             reb_pg     REAL        0        None   0\n",
      "22           ast_rank  INTEGER        0        None   0\n",
      "23             ast_pg     REAL        0        None   0\n",
      "24       opp_pts_rank  INTEGER        0        None   0\n",
      "25         opp_pts_pg     REAL        0        None   0\n",
      "\n"
     ]
    }
   ],
   "source": [
    "print_db_info(db_info)"
   ]
  },
  {
   "cell_type": "markdown",
   "id": "eeaba422-8fa6-49f6-ae3a-4c1ea8c79d2e",
   "metadata": {},
   "source": [
    "Generate a report for each table using the ydata-profiling library. We will pass a list of \"excluded\" tables to the create_reports function, which can be found [here](utils/data_exploration_p1.py). It means a list of \"big\" tables that are similar to the play_by_play table. For these 'excluded' tables, we will randomly select 100,000 rows (by default) for initial exploration. The reports are saved in the reports directory and outputted to widgets in Jupyter Lab notebook.  It is a more comfortabe way to explore the reports in a browser."
   ]
  },
  {
   "cell_type": "code",
   "execution_count": 8,
   "id": "a6e150c3-e231-4789-80e7-ae305d4f7e34",
   "metadata": {
    "scrolled": true
   },
   "outputs": [
    {
     "name": "stdout",
     "output_type": "stream",
     "text": [
      "2023-07-13 22:04:33,006 | utils.data_exploration | INFO | Generating the profile report for table game...\n"
     ]
    },
    {
     "data": {
      "application/vnd.jupyter.widget-view+json": {
       "model_id": "7c492f00b59041fcb0b28858829dc9e1",
       "version_major": 2,
       "version_minor": 0
      },
      "text/plain": [
       "Summarize dataset:   0%|          | 0/5 [00:00<?, ?it/s]"
      ]
     },
     "metadata": {},
     "output_type": "display_data"
    },
    {
     "data": {
      "application/vnd.jupyter.widget-view+json": {
       "model_id": "6e3e54f2b4204132b2b2d1c18532aa21",
       "version_major": 2,
       "version_minor": 0
      },
      "text/plain": [
       "Generate report structure:   0%|          | 0/1 [00:00<?, ?it/s]"
      ]
     },
     "metadata": {},
     "output_type": "display_data"
    },
    {
     "data": {
      "application/vnd.jupyter.widget-view+json": {
       "model_id": "",
       "version_major": 2,
       "version_minor": 0
      },
      "text/plain": [
       "Render widgets:   0%|          | 0/1 [00:00<?, ?it/s]"
      ]
     },
     "metadata": {},
     "output_type": "display_data"
    },
    {
     "data": {
      "application/vnd.jupyter.widget-view+json": {
       "model_id": "a3b56e9f5c7142758adb77488694c932",
       "version_major": 2,
       "version_minor": 0
      },
      "text/plain": [
       "VBox(children=(Tab(children=(Tab(children=(GridBox(children=(VBox(children=(GridspecLayout(children=(HTML(valu…"
      ]
     },
     "metadata": {},
     "output_type": "display_data"
    },
    {
     "data": {
      "application/vnd.jupyter.widget-view+json": {
       "model_id": "3c3da141e914400dbc93a04ac5ffc460",
       "version_major": 2,
       "version_minor": 0
      },
      "text/plain": [
       "Render HTML:   0%|          | 0/1 [00:00<?, ?it/s]"
      ]
     },
     "metadata": {},
     "output_type": "display_data"
    },
    {
     "data": {
      "application/vnd.jupyter.widget-view+json": {
       "model_id": "292a75e556c7477098f942e6dba2b5b0",
       "version_major": 2,
       "version_minor": 0
      },
      "text/plain": [
       "Export report to file:   0%|          | 0/1 [00:00<?, ?it/s]"
      ]
     },
     "metadata": {},
     "output_type": "display_data"
    },
    {
     "name": "stdout",
     "output_type": "stream",
     "text": [
      "2023-07-13 22:04:56,892 | utils.data_exploration | INFO | Generating the profile report for table game_summary...\n"
     ]
    },
    {
     "data": {
      "application/vnd.jupyter.widget-view+json": {
       "model_id": "acd718910ca845fe893dd315fcb6cf5e",
       "version_major": 2,
       "version_minor": 0
      },
      "text/plain": [
       "Summarize dataset:   0%|          | 0/5 [00:00<?, ?it/s]"
      ]
     },
     "metadata": {},
     "output_type": "display_data"
    },
    {
     "data": {
      "application/vnd.jupyter.widget-view+json": {
       "model_id": "ea472b545e46489b814a0b71171bd869",
       "version_major": 2,
       "version_minor": 0
      },
      "text/plain": [
       "Generate report structure:   0%|          | 0/1 [00:00<?, ?it/s]"
      ]
     },
     "metadata": {},
     "output_type": "display_data"
    },
    {
     "data": {
      "application/vnd.jupyter.widget-view+json": {
       "model_id": "",
       "version_major": 2,
       "version_minor": 0
      },
      "text/plain": [
       "Render widgets:   0%|          | 0/1 [00:00<?, ?it/s]"
      ]
     },
     "metadata": {},
     "output_type": "display_data"
    },
    {
     "data": {
      "application/vnd.jupyter.widget-view+json": {
       "model_id": "49fae51b4bb04cecb44678d9c4893ee5",
       "version_major": 2,
       "version_minor": 0
      },
      "text/plain": [
       "VBox(children=(Tab(children=(Tab(children=(GridBox(children=(VBox(children=(GridspecLayout(children=(HTML(valu…"
      ]
     },
     "metadata": {},
     "output_type": "display_data"
    },
    {
     "data": {
      "application/vnd.jupyter.widget-view+json": {
       "model_id": "710945e8a6234904a53c102b90846181",
       "version_major": 2,
       "version_minor": 0
      },
      "text/plain": [
       "Render HTML:   0%|          | 0/1 [00:00<?, ?it/s]"
      ]
     },
     "metadata": {},
     "output_type": "display_data"
    },
    {
     "data": {
      "application/vnd.jupyter.widget-view+json": {
       "model_id": "9effd90d842447b98dfe69b439d6510a",
       "version_major": 2,
       "version_minor": 0
      },
      "text/plain": [
       "Export report to file:   0%|          | 0/1 [00:00<?, ?it/s]"
      ]
     },
     "metadata": {},
     "output_type": "display_data"
    },
    {
     "name": "stdout",
     "output_type": "stream",
     "text": [
      "2023-07-13 22:05:06,695 | utils.data_exploration | INFO | Generating the profile report for table other_stats...\n"
     ]
    },
    {
     "data": {
      "application/vnd.jupyter.widget-view+json": {
       "model_id": "ec0377161ff648de9820c6647367acdc",
       "version_major": 2,
       "version_minor": 0
      },
      "text/plain": [
       "Summarize dataset:   0%|          | 0/5 [00:00<?, ?it/s]"
      ]
     },
     "metadata": {},
     "output_type": "display_data"
    },
    {
     "data": {
      "application/vnd.jupyter.widget-view+json": {
       "model_id": "d5a48af4d42e4ab786c7940be87e699c",
       "version_major": 2,
       "version_minor": 0
      },
      "text/plain": [
       "Generate report structure:   0%|          | 0/1 [00:00<?, ?it/s]"
      ]
     },
     "metadata": {},
     "output_type": "display_data"
    },
    {
     "data": {
      "application/vnd.jupyter.widget-view+json": {
       "model_id": "",
       "version_major": 2,
       "version_minor": 0
      },
      "text/plain": [
       "Render widgets:   0%|          | 0/1 [00:00<?, ?it/s]"
      ]
     },
     "metadata": {},
     "output_type": "display_data"
    },
    {
     "data": {
      "application/vnd.jupyter.widget-view+json": {
       "model_id": "1cb869de10d44b97b9094db4b6c19842",
       "version_major": 2,
       "version_minor": 0
      },
      "text/plain": [
       "VBox(children=(Tab(children=(Tab(children=(GridBox(children=(VBox(children=(GridspecLayout(children=(HTML(valu…"
      ]
     },
     "metadata": {},
     "output_type": "display_data"
    },
    {
     "data": {
      "application/vnd.jupyter.widget-view+json": {
       "model_id": "8c306508dbcd43d68709214d4c87226b",
       "version_major": 2,
       "version_minor": 0
      },
      "text/plain": [
       "Render HTML:   0%|          | 0/1 [00:00<?, ?it/s]"
      ]
     },
     "metadata": {},
     "output_type": "display_data"
    },
    {
     "data": {
      "application/vnd.jupyter.widget-view+json": {
       "model_id": "fd9df46b453b43a1b743e138be33ea76",
       "version_major": 2,
       "version_minor": 0
      },
      "text/plain": [
       "Export report to file:   0%|          | 0/1 [00:00<?, ?it/s]"
      ]
     },
     "metadata": {},
     "output_type": "display_data"
    },
    {
     "name": "stdout",
     "output_type": "stream",
     "text": [
      "2023-07-13 22:05:18,213 | utils.data_exploration | INFO | Generating the profile report for table officials...\n"
     ]
    },
    {
     "data": {
      "application/vnd.jupyter.widget-view+json": {
       "model_id": "091410c486f94768b1219626402bfc4c",
       "version_major": 2,
       "version_minor": 0
      },
      "text/plain": [
       "Summarize dataset:   0%|          | 0/5 [00:00<?, ?it/s]"
      ]
     },
     "metadata": {},
     "output_type": "display_data"
    },
    {
     "data": {
      "application/vnd.jupyter.widget-view+json": {
       "model_id": "0dda1268726c40dfb5a05053f43cccca",
       "version_major": 2,
       "version_minor": 0
      },
      "text/plain": [
       "Generate report structure:   0%|          | 0/1 [00:00<?, ?it/s]"
      ]
     },
     "metadata": {},
     "output_type": "display_data"
    },
    {
     "data": {
      "application/vnd.jupyter.widget-view+json": {
       "model_id": "",
       "version_major": 2,
       "version_minor": 0
      },
      "text/plain": [
       "Render widgets:   0%|          | 0/1 [00:00<?, ?it/s]"
      ]
     },
     "metadata": {},
     "output_type": "display_data"
    },
    {
     "data": {
      "application/vnd.jupyter.widget-view+json": {
       "model_id": "1f29d86da6774cb0bb614958948389fe",
       "version_major": 2,
       "version_minor": 0
      },
      "text/plain": [
       "VBox(children=(Tab(children=(Tab(children=(GridBox(children=(VBox(children=(GridspecLayout(children=(HTML(valu…"
      ]
     },
     "metadata": {},
     "output_type": "display_data"
    },
    {
     "data": {
      "application/vnd.jupyter.widget-view+json": {
       "model_id": "55eccf60402a4ff6a6126abba183f637",
       "version_major": 2,
       "version_minor": 0
      },
      "text/plain": [
       "Render HTML:   0%|          | 0/1 [00:00<?, ?it/s]"
      ]
     },
     "metadata": {},
     "output_type": "display_data"
    },
    {
     "data": {
      "application/vnd.jupyter.widget-view+json": {
       "model_id": "0e95fa4e1a414fe1a641624685213847",
       "version_major": 2,
       "version_minor": 0
      },
      "text/plain": [
       "Export report to file:   0%|          | 0/1 [00:00<?, ?it/s]"
      ]
     },
     "metadata": {},
     "output_type": "display_data"
    },
    {
     "name": "stdout",
     "output_type": "stream",
     "text": [
      "2023-07-13 22:05:23,612 | utils.data_exploration | INFO | Generating the profile report for table inactive_players...\n"
     ]
    },
    {
     "data": {
      "application/vnd.jupyter.widget-view+json": {
       "model_id": "b10401266cdc45dcb89a414cdb2f3468",
       "version_major": 2,
       "version_minor": 0
      },
      "text/plain": [
       "Summarize dataset:   0%|          | 0/5 [00:00<?, ?it/s]"
      ]
     },
     "metadata": {},
     "output_type": "display_data"
    },
    {
     "data": {
      "application/vnd.jupyter.widget-view+json": {
       "model_id": "c20b0795705f40aea743d6d1ed2599ca",
       "version_major": 2,
       "version_minor": 0
      },
      "text/plain": [
       "Generate report structure:   0%|          | 0/1 [00:00<?, ?it/s]"
      ]
     },
     "metadata": {},
     "output_type": "display_data"
    },
    {
     "data": {
      "application/vnd.jupyter.widget-view+json": {
       "model_id": "",
       "version_major": 2,
       "version_minor": 0
      },
      "text/plain": [
       "Render widgets:   0%|          | 0/1 [00:00<?, ?it/s]"
      ]
     },
     "metadata": {},
     "output_type": "display_data"
    },
    {
     "data": {
      "application/vnd.jupyter.widget-view+json": {
       "model_id": "cbc5e3b5997741aa99c6cdc000d82628",
       "version_major": 2,
       "version_minor": 0
      },
      "text/plain": [
       "VBox(children=(Tab(children=(Tab(children=(GridBox(children=(VBox(children=(GridspecLayout(children=(HTML(valu…"
      ]
     },
     "metadata": {},
     "output_type": "display_data"
    },
    {
     "data": {
      "application/vnd.jupyter.widget-view+json": {
       "model_id": "41797da431ca4502a1866299bc22bf95",
       "version_major": 2,
       "version_minor": 0
      },
      "text/plain": [
       "Render HTML:   0%|          | 0/1 [00:00<?, ?it/s]"
      ]
     },
     "metadata": {},
     "output_type": "display_data"
    },
    {
     "data": {
      "application/vnd.jupyter.widget-view+json": {
       "model_id": "6cdebad35b2f4290b6f71b491329be56",
       "version_major": 2,
       "version_minor": 0
      },
      "text/plain": [
       "Export report to file:   0%|          | 0/1 [00:00<?, ?it/s]"
      ]
     },
     "metadata": {},
     "output_type": "display_data"
    },
    {
     "name": "stdout",
     "output_type": "stream",
     "text": [
      "2023-07-13 22:05:32,602 | utils.data_exploration | INFO | Generating the profile report for table game_info...\n"
     ]
    },
    {
     "data": {
      "application/vnd.jupyter.widget-view+json": {
       "model_id": "c12b4f7d19ca47b2b21493887af1c2ee",
       "version_major": 2,
       "version_minor": 0
      },
      "text/plain": [
       "Summarize dataset:   0%|          | 0/5 [00:00<?, ?it/s]"
      ]
     },
     "metadata": {},
     "output_type": "display_data"
    },
    {
     "data": {
      "application/vnd.jupyter.widget-view+json": {
       "model_id": "0df4fd8c2d41458fa04bca55dcfcf9f2",
       "version_major": 2,
       "version_minor": 0
      },
      "text/plain": [
       "Generate report structure:   0%|          | 0/1 [00:00<?, ?it/s]"
      ]
     },
     "metadata": {},
     "output_type": "display_data"
    },
    {
     "data": {
      "application/vnd.jupyter.widget-view+json": {
       "model_id": "",
       "version_major": 2,
       "version_minor": 0
      },
      "text/plain": [
       "Render widgets:   0%|          | 0/1 [00:00<?, ?it/s]"
      ]
     },
     "metadata": {},
     "output_type": "display_data"
    },
    {
     "data": {
      "application/vnd.jupyter.widget-view+json": {
       "model_id": "b7f89ec942e74213a4a14bb5f49928e0",
       "version_major": 2,
       "version_minor": 0
      },
      "text/plain": [
       "VBox(children=(Tab(children=(Tab(children=(GridBox(children=(VBox(children=(GridspecLayout(children=(HTML(valu…"
      ]
     },
     "metadata": {},
     "output_type": "display_data"
    },
    {
     "data": {
      "application/vnd.jupyter.widget-view+json": {
       "model_id": "0efc0d14f23445a181367f1d4ba5cf82",
       "version_major": 2,
       "version_minor": 0
      },
      "text/plain": [
       "Render HTML:   0%|          | 0/1 [00:00<?, ?it/s]"
      ]
     },
     "metadata": {},
     "output_type": "display_data"
    },
    {
     "data": {
      "application/vnd.jupyter.widget-view+json": {
       "model_id": "7ad373bce413412e9d713dbce405cafe",
       "version_major": 2,
       "version_minor": 0
      },
      "text/plain": [
       "Export report to file:   0%|          | 0/1 [00:00<?, ?it/s]"
      ]
     },
     "metadata": {},
     "output_type": "display_data"
    },
    {
     "name": "stdout",
     "output_type": "stream",
     "text": [
      "2023-07-13 22:05:36,392 | utils.data_exploration | INFO | Generating the profile report for table line_score...\n"
     ]
    },
    {
     "data": {
      "application/vnd.jupyter.widget-view+json": {
       "model_id": "eb3362e56d894e40a886bd0306c9af26",
       "version_major": 2,
       "version_minor": 0
      },
      "text/plain": [
       "Summarize dataset:   0%|          | 0/5 [00:00<?, ?it/s]"
      ]
     },
     "metadata": {},
     "output_type": "display_data"
    },
    {
     "data": {
      "application/vnd.jupyter.widget-view+json": {
       "model_id": "a0b50dfa9784440aa0a1066b416af9a4",
       "version_major": 2,
       "version_minor": 0
      },
      "text/plain": [
       "Generate report structure:   0%|          | 0/1 [00:00<?, ?it/s]"
      ]
     },
     "metadata": {},
     "output_type": "display_data"
    },
    {
     "data": {
      "application/vnd.jupyter.widget-view+json": {
       "model_id": "",
       "version_major": 2,
       "version_minor": 0
      },
      "text/plain": [
       "Render widgets:   0%|          | 0/1 [00:00<?, ?it/s]"
      ]
     },
     "metadata": {},
     "output_type": "display_data"
    },
    {
     "data": {
      "application/vnd.jupyter.widget-view+json": {
       "model_id": "30a6209c31854d58bef6247a08f1f603",
       "version_major": 2,
       "version_minor": 0
      },
      "text/plain": [
       "VBox(children=(Tab(children=(Tab(children=(GridBox(children=(VBox(children=(GridspecLayout(children=(HTML(valu…"
      ]
     },
     "metadata": {},
     "output_type": "display_data"
    },
    {
     "data": {
      "application/vnd.jupyter.widget-view+json": {
       "model_id": "2e892926abe04ebfaf1c7120c224a797",
       "version_major": 2,
       "version_minor": 0
      },
      "text/plain": [
       "Render HTML:   0%|          | 0/1 [00:00<?, ?it/s]"
      ]
     },
     "metadata": {},
     "output_type": "display_data"
    },
    {
     "data": {
      "application/vnd.jupyter.widget-view+json": {
       "model_id": "de3f68e5cb4f45f4a7a53a71f6ab18fa",
       "version_major": 2,
       "version_minor": 0
      },
      "text/plain": [
       "Export report to file:   0%|          | 0/1 [00:00<?, ?it/s]"
      ]
     },
     "metadata": {},
     "output_type": "display_data"
    },
    {
     "name": "stdout",
     "output_type": "stream",
     "text": [
      "2023-07-13 22:06:03,104 | utils.data_exploration | INFO | Generating the profile report for table play_by_play...\n"
     ]
    },
    {
     "data": {
      "application/vnd.jupyter.widget-view+json": {
       "model_id": "635dc307c73246f8a52e9ccd7dd888ad",
       "version_major": 2,
       "version_minor": 0
      },
      "text/plain": [
       "Summarize dataset:   0%|          | 0/5 [00:00<?, ?it/s]"
      ]
     },
     "metadata": {},
     "output_type": "display_data"
    },
    {
     "data": {
      "application/vnd.jupyter.widget-view+json": {
       "model_id": "062f528b12474f5199939a5cc6ba1c03",
       "version_major": 2,
       "version_minor": 0
      },
      "text/plain": [
       "Generate report structure:   0%|          | 0/1 [00:00<?, ?it/s]"
      ]
     },
     "metadata": {},
     "output_type": "display_data"
    },
    {
     "data": {
      "application/vnd.jupyter.widget-view+json": {
       "model_id": "",
       "version_major": 2,
       "version_minor": 0
      },
      "text/plain": [
       "Render widgets:   0%|          | 0/1 [00:00<?, ?it/s]"
      ]
     },
     "metadata": {},
     "output_type": "display_data"
    },
    {
     "data": {
      "application/vnd.jupyter.widget-view+json": {
       "model_id": "957c2db705a34267af98b0b594c9a0d1",
       "version_major": 2,
       "version_minor": 0
      },
      "text/plain": [
       "VBox(children=(Tab(children=(Tab(children=(GridBox(children=(VBox(children=(GridspecLayout(children=(HTML(valu…"
      ]
     },
     "metadata": {},
     "output_type": "display_data"
    },
    {
     "data": {
      "application/vnd.jupyter.widget-view+json": {
       "model_id": "b9d4bfb54e4b4dcbb1fc8c4f6bf1d23e",
       "version_major": 2,
       "version_minor": 0
      },
      "text/plain": [
       "Render HTML:   0%|          | 0/1 [00:00<?, ?it/s]"
      ]
     },
     "metadata": {},
     "output_type": "display_data"
    },
    {
     "data": {
      "application/vnd.jupyter.widget-view+json": {
       "model_id": "10704b9af053403cac88d46af013fb59",
       "version_major": 2,
       "version_minor": 0
      },
      "text/plain": [
       "Export report to file:   0%|          | 0/1 [00:00<?, ?it/s]"
      ]
     },
     "metadata": {},
     "output_type": "display_data"
    },
    {
     "name": "stdout",
     "output_type": "stream",
     "text": [
      "2023-07-13 22:06:31,069 | utils.data_exploration | INFO | Generating the profile report for table player...\n"
     ]
    },
    {
     "data": {
      "application/vnd.jupyter.widget-view+json": {
       "model_id": "74d69607ffbc4e9b8293a28dff62bac0",
       "version_major": 2,
       "version_minor": 0
      },
      "text/plain": [
       "Summarize dataset:   0%|          | 0/5 [00:00<?, ?it/s]"
      ]
     },
     "metadata": {},
     "output_type": "display_data"
    },
    {
     "data": {
      "application/vnd.jupyter.widget-view+json": {
       "model_id": "9aa7e644a5cd4af8acf52c2d55941c1b",
       "version_major": 2,
       "version_minor": 0
      },
      "text/plain": [
       "Generate report structure:   0%|          | 0/1 [00:00<?, ?it/s]"
      ]
     },
     "metadata": {},
     "output_type": "display_data"
    },
    {
     "data": {
      "application/vnd.jupyter.widget-view+json": {
       "model_id": "",
       "version_major": 2,
       "version_minor": 0
      },
      "text/plain": [
       "Render widgets:   0%|          | 0/1 [00:00<?, ?it/s]"
      ]
     },
     "metadata": {},
     "output_type": "display_data"
    },
    {
     "data": {
      "application/vnd.jupyter.widget-view+json": {
       "model_id": "a9fa0d7f46f14bdc85c1d6b1065f3f8e",
       "version_major": 2,
       "version_minor": 0
      },
      "text/plain": [
       "VBox(children=(Tab(children=(Tab(children=(GridBox(children=(VBox(children=(GridspecLayout(children=(HTML(valu…"
      ]
     },
     "metadata": {},
     "output_type": "display_data"
    },
    {
     "data": {
      "application/vnd.jupyter.widget-view+json": {
       "model_id": "2beedc185ca349409812c47ab15b160a",
       "version_major": 2,
       "version_minor": 0
      },
      "text/plain": [
       "Render HTML:   0%|          | 0/1 [00:00<?, ?it/s]"
      ]
     },
     "metadata": {},
     "output_type": "display_data"
    },
    {
     "data": {
      "application/vnd.jupyter.widget-view+json": {
       "model_id": "830fc9528f694cd1a3f6ccc3ea11c7b6",
       "version_major": 2,
       "version_minor": 0
      },
      "text/plain": [
       "Export report to file:   0%|          | 0/1 [00:00<?, ?it/s]"
      ]
     },
     "metadata": {},
     "output_type": "display_data"
    },
    {
     "name": "stdout",
     "output_type": "stream",
     "text": [
      "2023-07-13 22:06:35,586 | utils.data_exploration | INFO | Generating the profile report for table team...\n"
     ]
    },
    {
     "data": {
      "application/vnd.jupyter.widget-view+json": {
       "model_id": "49a633b8f4f34d7591e597bc3e0c7925",
       "version_major": 2,
       "version_minor": 0
      },
      "text/plain": [
       "Summarize dataset:   0%|          | 0/5 [00:00<?, ?it/s]"
      ]
     },
     "metadata": {},
     "output_type": "display_data"
    },
    {
     "data": {
      "application/vnd.jupyter.widget-view+json": {
       "model_id": "97e79fd37534411f92eda4537c59eef0",
       "version_major": 2,
       "version_minor": 0
      },
      "text/plain": [
       "Generate report structure:   0%|          | 0/1 [00:00<?, ?it/s]"
      ]
     },
     "metadata": {},
     "output_type": "display_data"
    },
    {
     "data": {
      "application/vnd.jupyter.widget-view+json": {
       "model_id": "",
       "version_major": 2,
       "version_minor": 0
      },
      "text/plain": [
       "Render widgets:   0%|          | 0/1 [00:00<?, ?it/s]"
      ]
     },
     "metadata": {},
     "output_type": "display_data"
    },
    {
     "data": {
      "application/vnd.jupyter.widget-view+json": {
       "model_id": "dc0748fbb5d04812ad801534f87679fa",
       "version_major": 2,
       "version_minor": 0
      },
      "text/plain": [
       "VBox(children=(Tab(children=(Tab(children=(GridBox(children=(VBox(children=(GridspecLayout(children=(HTML(valu…"
      ]
     },
     "metadata": {},
     "output_type": "display_data"
    },
    {
     "data": {
      "application/vnd.jupyter.widget-view+json": {
       "model_id": "a6ea33fdc2d44081aecf5ff9db0f4d28",
       "version_major": 2,
       "version_minor": 0
      },
      "text/plain": [
       "Render HTML:   0%|          | 0/1 [00:00<?, ?it/s]"
      ]
     },
     "metadata": {},
     "output_type": "display_data"
    },
    {
     "data": {
      "application/vnd.jupyter.widget-view+json": {
       "model_id": "077ed456569144dc87b63c26faf34ff5",
       "version_major": 2,
       "version_minor": 0
      },
      "text/plain": [
       "Export report to file:   0%|          | 0/1 [00:00<?, ?it/s]"
      ]
     },
     "metadata": {},
     "output_type": "display_data"
    },
    {
     "name": "stdout",
     "output_type": "stream",
     "text": [
      "2023-07-13 22:06:40,480 | utils.data_exploration | INFO | Generating the profile report for table common_player_info...\n"
     ]
    },
    {
     "data": {
      "application/vnd.jupyter.widget-view+json": {
       "model_id": "b4525d64f2034e02993b1c80dc20226d",
       "version_major": 2,
       "version_minor": 0
      },
      "text/plain": [
       "Summarize dataset:   0%|          | 0/5 [00:00<?, ?it/s]"
      ]
     },
     "metadata": {},
     "output_type": "display_data"
    },
    {
     "data": {
      "application/vnd.jupyter.widget-view+json": {
       "model_id": "42013f96a13f48378ed5eaae235d3b16",
       "version_major": 2,
       "version_minor": 0
      },
      "text/plain": [
       "Generate report structure:   0%|          | 0/1 [00:00<?, ?it/s]"
      ]
     },
     "metadata": {},
     "output_type": "display_data"
    },
    {
     "data": {
      "application/vnd.jupyter.widget-view+json": {
       "model_id": "",
       "version_major": 2,
       "version_minor": 0
      },
      "text/plain": [
       "Render widgets:   0%|          | 0/1 [00:00<?, ?it/s]"
      ]
     },
     "metadata": {},
     "output_type": "display_data"
    },
    {
     "data": {
      "application/vnd.jupyter.widget-view+json": {
       "model_id": "690f1a2e06a24223bb6b5484c448ac84",
       "version_major": 2,
       "version_minor": 0
      },
      "text/plain": [
       "VBox(children=(Tab(children=(Tab(children=(GridBox(children=(VBox(children=(GridspecLayout(children=(HTML(valu…"
      ]
     },
     "metadata": {},
     "output_type": "display_data"
    },
    {
     "data": {
      "application/vnd.jupyter.widget-view+json": {
       "model_id": "199b951c7b70483689fe3a7d836b1519",
       "version_major": 2,
       "version_minor": 0
      },
      "text/plain": [
       "Render HTML:   0%|          | 0/1 [00:00<?, ?it/s]"
      ]
     },
     "metadata": {},
     "output_type": "display_data"
    },
    {
     "data": {
      "application/vnd.jupyter.widget-view+json": {
       "model_id": "4bc60a7506d640b097c376a92a7bf6e2",
       "version_major": 2,
       "version_minor": 0
      },
      "text/plain": [
       "Export report to file:   0%|          | 0/1 [00:00<?, ?it/s]"
      ]
     },
     "metadata": {},
     "output_type": "display_data"
    },
    {
     "name": "stdout",
     "output_type": "stream",
     "text": [
      "2023-07-13 22:07:05,455 | utils.data_exploration | INFO | Generating the profile report for table team_details...\n"
     ]
    },
    {
     "data": {
      "application/vnd.jupyter.widget-view+json": {
       "model_id": "02512cbd7d4648ac96212146a463ecd3",
       "version_major": 2,
       "version_minor": 0
      },
      "text/plain": [
       "Summarize dataset:   0%|          | 0/5 [00:00<?, ?it/s]"
      ]
     },
     "metadata": {},
     "output_type": "display_data"
    },
    {
     "data": {
      "application/vnd.jupyter.widget-view+json": {
       "model_id": "bdea84319b5445858c492c26c484878b",
       "version_major": 2,
       "version_minor": 0
      },
      "text/plain": [
       "Generate report structure:   0%|          | 0/1 [00:00<?, ?it/s]"
      ]
     },
     "metadata": {},
     "output_type": "display_data"
    },
    {
     "data": {
      "application/vnd.jupyter.widget-view+json": {
       "model_id": "",
       "version_major": 2,
       "version_minor": 0
      },
      "text/plain": [
       "Render widgets:   0%|          | 0/1 [00:00<?, ?it/s]"
      ]
     },
     "metadata": {},
     "output_type": "display_data"
    },
    {
     "data": {
      "application/vnd.jupyter.widget-view+json": {
       "model_id": "335f95300c504ef9b81b137185e90c88",
       "version_major": 2,
       "version_minor": 0
      },
      "text/plain": [
       "VBox(children=(Tab(children=(Tab(children=(GridBox(children=(VBox(children=(GridspecLayout(children=(HTML(valu…"
      ]
     },
     "metadata": {},
     "output_type": "display_data"
    },
    {
     "data": {
      "application/vnd.jupyter.widget-view+json": {
       "model_id": "f12b40fba52441fd81e57536bfa8270b",
       "version_major": 2,
       "version_minor": 0
      },
      "text/plain": [
       "Render HTML:   0%|          | 0/1 [00:00<?, ?it/s]"
      ]
     },
     "metadata": {},
     "output_type": "display_data"
    },
    {
     "data": {
      "application/vnd.jupyter.widget-view+json": {
       "model_id": "9bdb6489091c47eaad92dcd2b54c46dd",
       "version_major": 2,
       "version_minor": 0
      },
      "text/plain": [
       "Export report to file:   0%|          | 0/1 [00:00<?, ?it/s]"
      ]
     },
     "metadata": {},
     "output_type": "display_data"
    },
    {
     "name": "stdout",
     "output_type": "stream",
     "text": [
      "2023-07-13 22:07:16,657 | utils.data_exploration | INFO | Generating the profile report for table team_history...\n"
     ]
    },
    {
     "data": {
      "application/vnd.jupyter.widget-view+json": {
       "model_id": "c78191b2c06a4363aa2c78c9108209ff",
       "version_major": 2,
       "version_minor": 0
      },
      "text/plain": [
       "Summarize dataset:   0%|          | 0/5 [00:00<?, ?it/s]"
      ]
     },
     "metadata": {},
     "output_type": "display_data"
    },
    {
     "data": {
      "application/vnd.jupyter.widget-view+json": {
       "model_id": "7aa839958dd448fea9f8386225ec095d",
       "version_major": 2,
       "version_minor": 0
      },
      "text/plain": [
       "Generate report structure:   0%|          | 0/1 [00:00<?, ?it/s]"
      ]
     },
     "metadata": {},
     "output_type": "display_data"
    },
    {
     "data": {
      "application/vnd.jupyter.widget-view+json": {
       "model_id": "",
       "version_major": 2,
       "version_minor": 0
      },
      "text/plain": [
       "Render widgets:   0%|          | 0/1 [00:00<?, ?it/s]"
      ]
     },
     "metadata": {},
     "output_type": "display_data"
    },
    {
     "data": {
      "application/vnd.jupyter.widget-view+json": {
       "model_id": "b3ab13639c1844d8aa86abc820d1a396",
       "version_major": 2,
       "version_minor": 0
      },
      "text/plain": [
       "VBox(children=(Tab(children=(Tab(children=(GridBox(children=(VBox(children=(GridspecLayout(children=(HTML(valu…"
      ]
     },
     "metadata": {},
     "output_type": "display_data"
    },
    {
     "data": {
      "application/vnd.jupyter.widget-view+json": {
       "model_id": "ad5e114673404cfca41ad5fac0ca2f8e",
       "version_major": 2,
       "version_minor": 0
      },
      "text/plain": [
       "Render HTML:   0%|          | 0/1 [00:00<?, ?it/s]"
      ]
     },
     "metadata": {},
     "output_type": "display_data"
    },
    {
     "data": {
      "application/vnd.jupyter.widget-view+json": {
       "model_id": "1c4039cb16de4a21b08efa1242f21983",
       "version_major": 2,
       "version_minor": 0
      },
      "text/plain": [
       "Export report to file:   0%|          | 0/1 [00:00<?, ?it/s]"
      ]
     },
     "metadata": {},
     "output_type": "display_data"
    },
    {
     "name": "stdout",
     "output_type": "stream",
     "text": [
      "2023-07-13 22:07:20,186 | utils.data_exploration | INFO | Generating the profile report for table draft_combine_stats...\n"
     ]
    },
    {
     "data": {
      "application/vnd.jupyter.widget-view+json": {
       "model_id": "9ff7b3f6c8874955a879c895bb8ffee8",
       "version_major": 2,
       "version_minor": 0
      },
      "text/plain": [
       "Summarize dataset:   0%|          | 0/5 [00:00<?, ?it/s]"
      ]
     },
     "metadata": {},
     "output_type": "display_data"
    },
    {
     "data": {
      "application/vnd.jupyter.widget-view+json": {
       "model_id": "de693c801d3c485ba777a995455f04f0",
       "version_major": 2,
       "version_minor": 0
      },
      "text/plain": [
       "Generate report structure:   0%|          | 0/1 [00:00<?, ?it/s]"
      ]
     },
     "metadata": {},
     "output_type": "display_data"
    },
    {
     "data": {
      "application/vnd.jupyter.widget-view+json": {
       "model_id": "",
       "version_major": 2,
       "version_minor": 0
      },
      "text/plain": [
       "Render widgets:   0%|          | 0/1 [00:00<?, ?it/s]"
      ]
     },
     "metadata": {},
     "output_type": "display_data"
    },
    {
     "data": {
      "application/vnd.jupyter.widget-view+json": {
       "model_id": "8574d4fbbcb9447f910f94e50e2f0669",
       "version_major": 2,
       "version_minor": 0
      },
      "text/plain": [
       "VBox(children=(Tab(children=(Tab(children=(GridBox(children=(VBox(children=(GridspecLayout(children=(HTML(valu…"
      ]
     },
     "metadata": {},
     "output_type": "display_data"
    },
    {
     "data": {
      "application/vnd.jupyter.widget-view+json": {
       "model_id": "75a558b2f8904acd9f14304c4d7776e1",
       "version_major": 2,
       "version_minor": 0
      },
      "text/plain": [
       "Render HTML:   0%|          | 0/1 [00:00<?, ?it/s]"
      ]
     },
     "metadata": {},
     "output_type": "display_data"
    },
    {
     "data": {
      "application/vnd.jupyter.widget-view+json": {
       "model_id": "8c4621554d434b1c96e6e0d409f68804",
       "version_major": 2,
       "version_minor": 0
      },
      "text/plain": [
       "Export report to file:   0%|          | 0/1 [00:00<?, ?it/s]"
      ]
     },
     "metadata": {},
     "output_type": "display_data"
    },
    {
     "name": "stdout",
     "output_type": "stream",
     "text": [
      "2023-07-13 22:07:48,733 | utils.data_exploration | INFO | Generating the profile report for table draft_history...\n"
     ]
    },
    {
     "data": {
      "application/vnd.jupyter.widget-view+json": {
       "model_id": "4dfe4a2fd78d40b193e74e1fa4668c87",
       "version_major": 2,
       "version_minor": 0
      },
      "text/plain": [
       "Summarize dataset:   0%|          | 0/5 [00:00<?, ?it/s]"
      ]
     },
     "metadata": {},
     "output_type": "display_data"
    },
    {
     "data": {
      "application/vnd.jupyter.widget-view+json": {
       "model_id": "5a4e8b8c74b24ece81ac330b6fdfd65a",
       "version_major": 2,
       "version_minor": 0
      },
      "text/plain": [
       "Generate report structure:   0%|          | 0/1 [00:00<?, ?it/s]"
      ]
     },
     "metadata": {},
     "output_type": "display_data"
    },
    {
     "data": {
      "application/vnd.jupyter.widget-view+json": {
       "model_id": "",
       "version_major": 2,
       "version_minor": 0
      },
      "text/plain": [
       "Render widgets:   0%|          | 0/1 [00:00<?, ?it/s]"
      ]
     },
     "metadata": {},
     "output_type": "display_data"
    },
    {
     "data": {
      "application/vnd.jupyter.widget-view+json": {
       "model_id": "d2ccb33d8f6f4f31b8924a252d260782",
       "version_major": 2,
       "version_minor": 0
      },
      "text/plain": [
       "VBox(children=(Tab(children=(Tab(children=(GridBox(children=(VBox(children=(GridspecLayout(children=(HTML(valu…"
      ]
     },
     "metadata": {},
     "output_type": "display_data"
    },
    {
     "data": {
      "application/vnd.jupyter.widget-view+json": {
       "model_id": "040af3feab344665807f4ef45e29eb27",
       "version_major": 2,
       "version_minor": 0
      },
      "text/plain": [
       "Render HTML:   0%|          | 0/1 [00:00<?, ?it/s]"
      ]
     },
     "metadata": {},
     "output_type": "display_data"
    },
    {
     "data": {
      "application/vnd.jupyter.widget-view+json": {
       "model_id": "56455a0cdb8a4011bc141c391b8e5fa3",
       "version_major": 2,
       "version_minor": 0
      },
      "text/plain": [
       "Export report to file:   0%|          | 0/1 [00:00<?, ?it/s]"
      ]
     },
     "metadata": {},
     "output_type": "display_data"
    },
    {
     "name": "stdout",
     "output_type": "stream",
     "text": [
      "2023-07-13 22:07:58,175 | utils.data_exploration | INFO | The profile reports have been generated.\n",
      "The following tables have been excluded (several million lines take a few hours to create the report):\n",
      "['play_by_play']\n",
      "The empty dataframes for tables:\n",
      "['team_info_common']\n"
     ]
    }
   ],
   "source": [
    "create_reports(db_info, conn, excluded_tables=[\"play_by_play\"])"
   ]
  },
  {
   "cell_type": "markdown",
   "id": "3b438e4e-a316-403a-b467-90e064cbd0d7",
   "metadata": {},
   "source": [
    "Close cursor and connection:"
   ]
  },
  {
   "cell_type": "code",
   "execution_count": 9,
   "id": "c44f677e-d772-4cdf-86f7-51ad108fde92",
   "metadata": {},
   "outputs": [],
   "source": [
    "cur.close()\n",
    "conn.close()"
   ]
  }
 ],
 "metadata": {
  "kernelspec": {
   "display_name": "Python 3.9 (env_mc_tf)",
   "language": "python",
   "name": "env_mc_tf"
  },
  "language_info": {
   "codemirror_mode": {
    "name": "ipython",
    "version": 3
   },
   "file_extension": ".py",
   "mimetype": "text/x-python",
   "name": "python",
   "nbconvert_exporter": "python",
   "pygments_lexer": "ipython3",
   "version": "3.9.16"
  }
 },
 "nbformat": 4,
 "nbformat_minor": 5
}
