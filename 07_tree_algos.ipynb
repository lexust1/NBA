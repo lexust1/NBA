{
 "cells": [
  {
   "cell_type": "markdown",
   "id": "9de826c3-5636-4b29-ae2b-e773f2806c68",
   "metadata": {},
   "source": [
    "# 07. Tree algorithms"
   ]
  },
  {
   "cell_type": "markdown",
   "id": "0b1e5ec8-3265-4a99-83bd-3774a85e9ceb",
   "metadata": {},
   "source": [
    "## Data preparation"
   ]
  },
  {
   "cell_type": "markdown",
   "id": "da727387-6b7b-4cbd-a36d-94c6583ca9ef",
   "metadata": {},
   "source": [
    "Import libraries and scaler:"
   ]
  },
  {
   "cell_type": "code",
   "execution_count": 124,
   "id": "949eb8b4-e2d4-4cd8-89f0-c2d1dc32fd37",
   "metadata": {},
   "outputs": [],
   "source": [
    "# Import the third party libraries\n",
    "import joblib\n",
    "import pandas as pd\n",
    "import plotly.express as px\n",
    "import seaborn as sns\n",
    "from scipy.stats import randint, uniform\n",
    "from sklearn.ensemble import GradientBoostingRegressor, RandomForestRegressor\n",
    "from sklearn.metrics import mean_absolute_error, mean_squared_error, r2_score\n",
    "from sklearn.model_selection import GridSearchCV, RandomizedSearchCV, train_test_split\n",
    "from sklearn.tree import DecisionTreeRegressor\n",
    "from xgboost import XGBRegressor\n",
    "# Import scaler\n",
    "scaler = joblib.load(\"pkls/scaler.pkl\")"
   ]
  },
  {
   "cell_type": "markdown",
   "id": "3d8f2dfe-739b-47f2-ae23-dcc7128bb139",
   "metadata": {},
   "source": [
    "Import the data from the csv-file:"
   ]
  },
  {
   "cell_type": "code",
   "execution_count": 2,
   "id": "4b8e5138-53ac-4f1b-afb7-6afd30f228ca",
   "metadata": {},
   "outputs": [],
   "source": [
    "df_grouped = pd.read_csv(\"csv/df_grouped.csv\", index_col=0)"
   ]
  },
  {
   "cell_type": "code",
   "execution_count": 3,
   "id": "e76cb219-2368-4c41-9954-a92b6a033bb9",
   "metadata": {},
   "outputs": [
    {
     "data": {
      "text/html": [
       "<div>\n",
       "<style scoped>\n",
       "    .dataframe tbody tr th:only-of-type {\n",
       "        vertical-align: middle;\n",
       "    }\n",
       "\n",
       "    .dataframe tbody tr th {\n",
       "        vertical-align: top;\n",
       "    }\n",
       "\n",
       "    .dataframe thead th {\n",
       "        text-align: right;\n",
       "    }\n",
       "</style>\n",
       "<table border=\"1\" class=\"dataframe\">\n",
       "  <thead>\n",
       "    <tr style=\"text-align: right;\">\n",
       "      <th></th>\n",
       "      <th>name</th>\n",
       "      <th>season</th>\n",
       "      <th>pts</th>\n",
       "      <th>reb</th>\n",
       "      <th>ast</th>\n",
       "      <th>blk</th>\n",
       "      <th>fga</th>\n",
       "      <th>fgm</th>\n",
       "      <th>fta</th>\n",
       "      <th>ftm</th>\n",
       "      <th>...</th>\n",
       "      <th>reb_scaled</th>\n",
       "      <th>ast_scaled</th>\n",
       "      <th>blk_scaled</th>\n",
       "      <th>fga_scaled</th>\n",
       "      <th>fgm_scaled</th>\n",
       "      <th>fta_scaled</th>\n",
       "      <th>ftm_scaled</th>\n",
       "      <th>turnover_scaled</th>\n",
       "      <th>age_scaled</th>\n",
       "      <th>eff_scaled.1</th>\n",
       "    </tr>\n",
       "  </thead>\n",
       "  <tbody>\n",
       "    <tr>\n",
       "      <th>0</th>\n",
       "      <td>A.C. Green</td>\n",
       "      <td>1985</td>\n",
       "      <td>343.0</td>\n",
       "      <td>242.0</td>\n",
       "      <td>36.0</td>\n",
       "      <td>32.0</td>\n",
       "      <td>228.0</td>\n",
       "      <td>130.0</td>\n",
       "      <td>130.0</td>\n",
       "      <td>82.0</td>\n",
       "      <td>...</td>\n",
       "      <td>0.584318</td>\n",
       "      <td>-0.464939</td>\n",
       "      <td>0.510461</td>\n",
       "      <td>-0.269465</td>\n",
       "      <td>-0.069449</td>\n",
       "      <td>0.373497</td>\n",
       "      <td>0.160376</td>\n",
       "      <td>0.219002</td>\n",
       "      <td>-1.181264</td>\n",
       "      <td>-0.021090</td>\n",
       "    </tr>\n",
       "    <tr>\n",
       "      <th>1</th>\n",
       "      <td>A.C. Green</td>\n",
       "      <td>1986</td>\n",
       "      <td>696.0</td>\n",
       "      <td>507.0</td>\n",
       "      <td>65.0</td>\n",
       "      <td>58.0</td>\n",
       "      <td>478.0</td>\n",
       "      <td>257.0</td>\n",
       "      <td>226.0</td>\n",
       "      <td>182.0</td>\n",
       "      <td>...</td>\n",
       "      <td>2.358664</td>\n",
       "      <td>-0.180549</td>\n",
       "      <td>1.478240</td>\n",
       "      <td>0.615634</td>\n",
       "      <td>0.882597</td>\n",
       "      <td>1.306460</td>\n",
       "      <td>1.403696</td>\n",
       "      <td>0.590877</td>\n",
       "      <td>-0.936562</td>\n",
       "      <td>1.218922</td>\n",
       "    </tr>\n",
       "    <tr>\n",
       "      <th>2</th>\n",
       "      <td>A.C. Green</td>\n",
       "      <td>1987</td>\n",
       "      <td>834.0</td>\n",
       "      <td>616.0</td>\n",
       "      <td>81.0</td>\n",
       "      <td>32.0</td>\n",
       "      <td>561.0</td>\n",
       "      <td>284.0</td>\n",
       "      <td>346.0</td>\n",
       "      <td>266.0</td>\n",
       "      <td>...</td>\n",
       "      <td>3.088489</td>\n",
       "      <td>-0.023644</td>\n",
       "      <td>0.510461</td>\n",
       "      <td>0.909486</td>\n",
       "      <td>1.085000</td>\n",
       "      <td>2.472664</td>\n",
       "      <td>2.448084</td>\n",
       "      <td>1.045391</td>\n",
       "      <td>-0.447157</td>\n",
       "      <td>1.152998</td>\n",
       "    </tr>\n",
       "    <tr>\n",
       "      <th>3</th>\n",
       "      <td>A.C. Green</td>\n",
       "      <td>1988</td>\n",
       "      <td>831.0</td>\n",
       "      <td>542.0</td>\n",
       "      <td>75.0</td>\n",
       "      <td>38.0</td>\n",
       "      <td>563.0</td>\n",
       "      <td>295.0</td>\n",
       "      <td>302.0</td>\n",
       "      <td>241.0</td>\n",
       "      <td>...</td>\n",
       "      <td>2.593012</td>\n",
       "      <td>-0.082484</td>\n",
       "      <td>0.733795</td>\n",
       "      <td>0.916567</td>\n",
       "      <td>1.167461</td>\n",
       "      <td>2.045056</td>\n",
       "      <td>2.137254</td>\n",
       "      <td>0.818134</td>\n",
       "      <td>-0.447157</td>\n",
       "      <td>1.476769</td>\n",
       "    </tr>\n",
       "    <tr>\n",
       "      <th>4</th>\n",
       "      <td>A.C. Green</td>\n",
       "      <td>1989</td>\n",
       "      <td>728.0</td>\n",
       "      <td>494.0</td>\n",
       "      <td>64.0</td>\n",
       "      <td>36.0</td>\n",
       "      <td>553.0</td>\n",
       "      <td>255.0</td>\n",
       "      <td>276.0</td>\n",
       "      <td>207.0</td>\n",
       "      <td>...</td>\n",
       "      <td>2.271621</td>\n",
       "      <td>-0.190356</td>\n",
       "      <td>0.659350</td>\n",
       "      <td>0.881163</td>\n",
       "      <td>0.867604</td>\n",
       "      <td>1.792378</td>\n",
       "      <td>1.714526</td>\n",
       "      <td>0.694175</td>\n",
       "      <td>-0.202455</td>\n",
       "      <td>1.084648</td>\n",
       "    </tr>\n",
       "    <tr>\n",
       "      <th>...</th>\n",
       "      <td>...</td>\n",
       "      <td>...</td>\n",
       "      <td>...</td>\n",
       "      <td>...</td>\n",
       "      <td>...</td>\n",
       "      <td>...</td>\n",
       "      <td>...</td>\n",
       "      <td>...</td>\n",
       "      <td>...</td>\n",
       "      <td>...</td>\n",
       "      <td>...</td>\n",
       "      <td>...</td>\n",
       "      <td>...</td>\n",
       "      <td>...</td>\n",
       "      <td>...</td>\n",
       "      <td>...</td>\n",
       "      <td>...</td>\n",
       "      <td>...</td>\n",
       "      <td>...</td>\n",
       "      <td>...</td>\n",
       "      <td>...</td>\n",
       "    </tr>\n",
       "    <tr>\n",
       "      <th>15576</th>\n",
       "      <td>Zydrunas Ilgauskas</td>\n",
       "      <td>2008</td>\n",
       "      <td>533.0</td>\n",
       "      <td>323.0</td>\n",
       "      <td>46.0</td>\n",
       "      <td>50.0</td>\n",
       "      <td>463.0</td>\n",
       "      <td>217.0</td>\n",
       "      <td>111.0</td>\n",
       "      <td>91.0</td>\n",
       "      <td>...</td>\n",
       "      <td>1.126665</td>\n",
       "      <td>-0.366874</td>\n",
       "      <td>1.180462</td>\n",
       "      <td>0.562528</td>\n",
       "      <td>0.582740</td>\n",
       "      <td>0.188848</td>\n",
       "      <td>0.272275</td>\n",
       "      <td>0.198342</td>\n",
       "      <td>1.510459</td>\n",
       "      <td>1.145182</td>\n",
       "    </tr>\n",
       "    <tr>\n",
       "      <th>15577</th>\n",
       "      <td>Zydrunas Ilgauskas</td>\n",
       "      <td>2009</td>\n",
       "      <td>351.0</td>\n",
       "      <td>264.0</td>\n",
       "      <td>39.0</td>\n",
       "      <td>43.0</td>\n",
       "      <td>336.0</td>\n",
       "      <td>147.0</td>\n",
       "      <td>63.0</td>\n",
       "      <td>48.0</td>\n",
       "      <td>...</td>\n",
       "      <td>0.731622</td>\n",
       "      <td>-0.435519</td>\n",
       "      <td>0.919906</td>\n",
       "      <td>0.112898</td>\n",
       "      <td>0.057990</td>\n",
       "      <td>-0.277634</td>\n",
       "      <td>-0.262352</td>\n",
       "      <td>-0.194193</td>\n",
       "      <td>1.999864</td>\n",
       "      <td>0.040535</td>\n",
       "    </tr>\n",
       "    <tr>\n",
       "      <th>15578</th>\n",
       "      <td>Zydrunas Ilgauskas</td>\n",
       "      <td>2010</td>\n",
       "      <td>235.0</td>\n",
       "      <td>188.0</td>\n",
       "      <td>16.0</td>\n",
       "      <td>40.0</td>\n",
       "      <td>199.0</td>\n",
       "      <td>104.0</td>\n",
       "      <td>35.0</td>\n",
       "      <td>27.0</td>\n",
       "      <td>...</td>\n",
       "      <td>0.222753</td>\n",
       "      <td>-0.661070</td>\n",
       "      <td>0.808239</td>\n",
       "      <td>-0.372136</td>\n",
       "      <td>-0.264356</td>\n",
       "      <td>-0.549748</td>\n",
       "      <td>-0.523449</td>\n",
       "      <td>-0.214853</td>\n",
       "      <td>1.999864</td>\n",
       "      <td>-0.240238</td>\n",
       "    </tr>\n",
       "    <tr>\n",
       "      <th>15579</th>\n",
       "      <td>Zylan Cheatham</td>\n",
       "      <td>2019</td>\n",
       "      <td>10.0</td>\n",
       "      <td>6.0</td>\n",
       "      <td>2.0</td>\n",
       "      <td>0.0</td>\n",
       "      <td>7.0</td>\n",
       "      <td>5.0</td>\n",
       "      <td>0.0</td>\n",
       "      <td>0.0</td>\n",
       "      <td>...</td>\n",
       "      <td>-0.995855</td>\n",
       "      <td>-0.798362</td>\n",
       "      <td>-0.680650</td>\n",
       "      <td>-1.051892</td>\n",
       "      <td>-1.006502</td>\n",
       "      <td>-0.889891</td>\n",
       "      <td>-0.859146</td>\n",
       "      <td>-1.041242</td>\n",
       "      <td>-0.691859</td>\n",
       "      <td>-0.936876</td>\n",
       "    </tr>\n",
       "    <tr>\n",
       "      <th>15580</th>\n",
       "      <td>Zylan Cheatham</td>\n",
       "      <td>2021</td>\n",
       "      <td>34.0</td>\n",
       "      <td>24.0</td>\n",
       "      <td>4.0</td>\n",
       "      <td>1.0</td>\n",
       "      <td>25.0</td>\n",
       "      <td>14.0</td>\n",
       "      <td>5.0</td>\n",
       "      <td>4.0</td>\n",
       "      <td>...</td>\n",
       "      <td>-0.875333</td>\n",
       "      <td>-0.778749</td>\n",
       "      <td>-0.643428</td>\n",
       "      <td>-0.988165</td>\n",
       "      <td>-0.939034</td>\n",
       "      <td>-0.841299</td>\n",
       "      <td>-0.809413</td>\n",
       "      <td>-0.979263</td>\n",
       "      <td>-0.202455</td>\n",
       "      <td>-0.329609</td>\n",
       "    </tr>\n",
       "  </tbody>\n",
       "</table>\n",
       "<p>15581 rows × 27 columns</p>\n",
       "</div>"
      ],
      "text/plain": [
       "                     name  season    pts    reb   ast   blk    fga    fgm   \n",
       "0              A.C. Green    1985  343.0  242.0  36.0  32.0  228.0  130.0  \\\n",
       "1              A.C. Green    1986  696.0  507.0  65.0  58.0  478.0  257.0   \n",
       "2              A.C. Green    1987  834.0  616.0  81.0  32.0  561.0  284.0   \n",
       "3              A.C. Green    1988  831.0  542.0  75.0  38.0  563.0  295.0   \n",
       "4              A.C. Green    1989  728.0  494.0  64.0  36.0  553.0  255.0   \n",
       "...                   ...     ...    ...    ...   ...   ...    ...    ...   \n",
       "15576  Zydrunas Ilgauskas    2008  533.0  323.0  46.0  50.0  463.0  217.0   \n",
       "15577  Zydrunas Ilgauskas    2009  351.0  264.0  39.0  43.0  336.0  147.0   \n",
       "15578  Zydrunas Ilgauskas    2010  235.0  188.0  16.0  40.0  199.0  104.0   \n",
       "15579      Zylan Cheatham    2019   10.0    6.0   2.0   0.0    7.0    5.0   \n",
       "15580      Zylan Cheatham    2021   34.0   24.0   4.0   1.0   25.0   14.0   \n",
       "\n",
       "         fta    ftm  ...  reb_scaled  ast_scaled  blk_scaled  fga_scaled   \n",
       "0      130.0   82.0  ...    0.584318   -0.464939    0.510461   -0.269465  \\\n",
       "1      226.0  182.0  ...    2.358664   -0.180549    1.478240    0.615634   \n",
       "2      346.0  266.0  ...    3.088489   -0.023644    0.510461    0.909486   \n",
       "3      302.0  241.0  ...    2.593012   -0.082484    0.733795    0.916567   \n",
       "4      276.0  207.0  ...    2.271621   -0.190356    0.659350    0.881163   \n",
       "...      ...    ...  ...         ...         ...         ...         ...   \n",
       "15576  111.0   91.0  ...    1.126665   -0.366874    1.180462    0.562528   \n",
       "15577   63.0   48.0  ...    0.731622   -0.435519    0.919906    0.112898   \n",
       "15578   35.0   27.0  ...    0.222753   -0.661070    0.808239   -0.372136   \n",
       "15579    0.0    0.0  ...   -0.995855   -0.798362   -0.680650   -1.051892   \n",
       "15580    5.0    4.0  ...   -0.875333   -0.778749   -0.643428   -0.988165   \n",
       "\n",
       "       fgm_scaled  fta_scaled  ftm_scaled  turnover_scaled  age_scaled   \n",
       "0       -0.069449    0.373497    0.160376         0.219002   -1.181264  \\\n",
       "1        0.882597    1.306460    1.403696         0.590877   -0.936562   \n",
       "2        1.085000    2.472664    2.448084         1.045391   -0.447157   \n",
       "3        1.167461    2.045056    2.137254         0.818134   -0.447157   \n",
       "4        0.867604    1.792378    1.714526         0.694175   -0.202455   \n",
       "...           ...         ...         ...              ...         ...   \n",
       "15576    0.582740    0.188848    0.272275         0.198342    1.510459   \n",
       "15577    0.057990   -0.277634   -0.262352        -0.194193    1.999864   \n",
       "15578   -0.264356   -0.549748   -0.523449        -0.214853    1.999864   \n",
       "15579   -1.006502   -0.889891   -0.859146        -1.041242   -0.691859   \n",
       "15580   -0.939034   -0.841299   -0.809413        -0.979263   -0.202455   \n",
       "\n",
       "       eff_scaled.1  \n",
       "0         -0.021090  \n",
       "1          1.218922  \n",
       "2          1.152998  \n",
       "3          1.476769  \n",
       "4          1.084648  \n",
       "...             ...  \n",
       "15576      1.145182  \n",
       "15577      0.040535  \n",
       "15578     -0.240238  \n",
       "15579     -0.936876  \n",
       "15580     -0.329609  \n",
       "\n",
       "[15581 rows x 27 columns]"
      ]
     },
     "execution_count": 3,
     "metadata": {},
     "output_type": "execute_result"
    }
   ],
   "source": [
    "df_grouped"
   ]
  },
  {
   "cell_type": "markdown",
   "id": "60283ee1-6987-41e5-9f10-34c18e2ef8b9",
   "metadata": {},
   "source": [
    "## Feature engineering"
   ]
  },
  {
   "cell_type": "markdown",
   "id": "5c6dc8f2-c7ff-43cc-9d4a-4be568e99912",
   "metadata": {},
   "source": [
    "Use pts, reb, ast, blk, fga, fgm, fta, ftm, turnover, age as the features, scale the x and y, and create a dataframe of scaled features:"
   ]
  },
  {
   "cell_type": "code",
   "execution_count": 4,
   "id": "cc4c0bbf-dc70-4a89-a7be-91bf37d82f2a",
   "metadata": {},
   "outputs": [],
   "source": [
    "scaled_features = [\"pts_scaled\", \"reb_scaled\", \"ast_scaled\", \"blk_scaled\", \"fga_scaled\", \"fgm_scaled\", \"fta_scaled\", \"ftm_scaled\", \"turnover_scaled\", \"age_scaled\"]\n",
    "x_scaled = df_grouped[scaled_features]\n",
    "y_scaled = df_grouped[\"eff_scaled\"]"
   ]
  },
  {
   "cell_type": "markdown",
   "id": "ad0def01-7ae3-4414-b23c-5ecd9c0d3bf1",
   "metadata": {},
   "source": [
    "## Data splitting"
   ]
  },
  {
   "cell_type": "markdown",
   "id": "16eb9c65-4a65-4666-9dcd-60db983f16cd",
   "metadata": {},
   "source": [
    "Split the data on the training, validation and test datasets (80/10/10):"
   ]
  },
  {
   "cell_type": "code",
   "execution_count": 5,
   "id": "2b0587b1-fcad-4e7e-b84d-d5b371239325",
   "metadata": {},
   "outputs": [
    {
     "data": {
      "text/plain": [
       "(((12464, 10), (12464, 1)), ((1558, 10), (1558, 1)), ((1559, 10), (1559, 1)))"
      ]
     },
     "execution_count": 5,
     "metadata": {},
     "output_type": "execute_result"
    }
   ],
   "source": [
    "x_train, x_temp, y_train, y_temp = train_test_split(x_scaled.values.reshape(-1, 10), y_scaled.values.reshape(-1, 1), test_size=0.2, random_state=38)\n",
    "x_val, x_test, y_val, y_test = train_test_split(x_temp, y_temp, test_size=0.5, random_state=38)\n",
    "((x_train.shape, y_train.shape), (x_val.shape, y_val.shape), (x_test.shape, y_test.shape))"
   ]
  },
  {
   "cell_type": "markdown",
   "id": "d653b210-351a-455b-b29b-8b4f217849e0",
   "metadata": {},
   "source": [
    "## Decision Tree (sklearn)"
   ]
  },
  {
   "cell_type": "markdown",
   "id": "8e72df44-3b27-4489-ad22-1f19105322da",
   "metadata": {},
   "source": [
    "### Build and Train the Model"
   ]
  },
  {
   "cell_type": "markdown",
   "id": "27cd50e4-f5ff-461d-83a5-547e6863f47e",
   "metadata": {},
   "source": [
    "Built and train the model using Decision Tree:"
   ]
  },
  {
   "cell_type": "code",
   "execution_count": 6,
   "id": "a1ada1f1-4ded-4191-8fde-2578ea63cdbc",
   "metadata": {},
   "outputs": [
    {
     "data": {
      "text/html": [
       "<style>#sk-container-id-1 {color: black;background-color: white;}#sk-container-id-1 pre{padding: 0;}#sk-container-id-1 div.sk-toggleable {background-color: white;}#sk-container-id-1 label.sk-toggleable__label {cursor: pointer;display: block;width: 100%;margin-bottom: 0;padding: 0.3em;box-sizing: border-box;text-align: center;}#sk-container-id-1 label.sk-toggleable__label-arrow:before {content: \"▸\";float: left;margin-right: 0.25em;color: #696969;}#sk-container-id-1 label.sk-toggleable__label-arrow:hover:before {color: black;}#sk-container-id-1 div.sk-estimator:hover label.sk-toggleable__label-arrow:before {color: black;}#sk-container-id-1 div.sk-toggleable__content {max-height: 0;max-width: 0;overflow: hidden;text-align: left;background-color: #f0f8ff;}#sk-container-id-1 div.sk-toggleable__content pre {margin: 0.2em;color: black;border-radius: 0.25em;background-color: #f0f8ff;}#sk-container-id-1 input.sk-toggleable__control:checked~div.sk-toggleable__content {max-height: 200px;max-width: 100%;overflow: auto;}#sk-container-id-1 input.sk-toggleable__control:checked~label.sk-toggleable__label-arrow:before {content: \"▾\";}#sk-container-id-1 div.sk-estimator input.sk-toggleable__control:checked~label.sk-toggleable__label {background-color: #d4ebff;}#sk-container-id-1 div.sk-label input.sk-toggleable__control:checked~label.sk-toggleable__label {background-color: #d4ebff;}#sk-container-id-1 input.sk-hidden--visually {border: 0;clip: rect(1px 1px 1px 1px);clip: rect(1px, 1px, 1px, 1px);height: 1px;margin: -1px;overflow: hidden;padding: 0;position: absolute;width: 1px;}#sk-container-id-1 div.sk-estimator {font-family: monospace;background-color: #f0f8ff;border: 1px dotted black;border-radius: 0.25em;box-sizing: border-box;margin-bottom: 0.5em;}#sk-container-id-1 div.sk-estimator:hover {background-color: #d4ebff;}#sk-container-id-1 div.sk-parallel-item::after {content: \"\";width: 100%;border-bottom: 1px solid gray;flex-grow: 1;}#sk-container-id-1 div.sk-label:hover label.sk-toggleable__label {background-color: #d4ebff;}#sk-container-id-1 div.sk-serial::before {content: \"\";position: absolute;border-left: 1px solid gray;box-sizing: border-box;top: 0;bottom: 0;left: 50%;z-index: 0;}#sk-container-id-1 div.sk-serial {display: flex;flex-direction: column;align-items: center;background-color: white;padding-right: 0.2em;padding-left: 0.2em;position: relative;}#sk-container-id-1 div.sk-item {position: relative;z-index: 1;}#sk-container-id-1 div.sk-parallel {display: flex;align-items: stretch;justify-content: center;background-color: white;position: relative;}#sk-container-id-1 div.sk-item::before, #sk-container-id-1 div.sk-parallel-item::before {content: \"\";position: absolute;border-left: 1px solid gray;box-sizing: border-box;top: 0;bottom: 0;left: 50%;z-index: -1;}#sk-container-id-1 div.sk-parallel-item {display: flex;flex-direction: column;z-index: 1;position: relative;background-color: white;}#sk-container-id-1 div.sk-parallel-item:first-child::after {align-self: flex-end;width: 50%;}#sk-container-id-1 div.sk-parallel-item:last-child::after {align-self: flex-start;width: 50%;}#sk-container-id-1 div.sk-parallel-item:only-child::after {width: 0;}#sk-container-id-1 div.sk-dashed-wrapped {border: 1px dashed gray;margin: 0 0.4em 0.5em 0.4em;box-sizing: border-box;padding-bottom: 0.4em;background-color: white;}#sk-container-id-1 div.sk-label label {font-family: monospace;font-weight: bold;display: inline-block;line-height: 1.2em;}#sk-container-id-1 div.sk-label-container {text-align: center;}#sk-container-id-1 div.sk-container {/* jupyter's `normalize.less` sets `[hidden] { display: none; }` but bootstrap.min.css set `[hidden] { display: none !important; }` so we also need the `!important` here to be able to override the default hidden behavior on the sphinx rendered scikit-learn.org. See: https://github.com/scikit-learn/scikit-learn/issues/21755 */display: inline-block !important;position: relative;}#sk-container-id-1 div.sk-text-repr-fallback {display: none;}</style><div id=\"sk-container-id-1\" class=\"sk-top-container\"><div class=\"sk-text-repr-fallback\"><pre>DecisionTreeRegressor()</pre><b>In a Jupyter environment, please rerun this cell to show the HTML representation or trust the notebook. <br />On GitHub, the HTML representation is unable to render, please try loading this page with nbviewer.org.</b></div><div class=\"sk-container\" hidden><div class=\"sk-item\"><div class=\"sk-estimator sk-toggleable\"><input class=\"sk-toggleable__control sk-hidden--visually\" id=\"sk-estimator-id-1\" type=\"checkbox\" checked><label for=\"sk-estimator-id-1\" class=\"sk-toggleable__label sk-toggleable__label-arrow\">DecisionTreeRegressor</label><div class=\"sk-toggleable__content\"><pre>DecisionTreeRegressor()</pre></div></div></div></div></div>"
      ],
      "text/plain": [
       "DecisionTreeRegressor()"
      ]
     },
     "execution_count": 6,
     "metadata": {},
     "output_type": "execute_result"
    }
   ],
   "source": [
    "model = DecisionTreeRegressor()\n",
    "model.fit(x_train, y_train)"
   ]
  },
  {
   "cell_type": "markdown",
   "id": "f3b879c0-54b1-4b49-a555-7056746fd3d3",
   "metadata": {},
   "source": [
    "### Evaluate the Model"
   ]
  },
  {
   "cell_type": "markdown",
   "id": "84f3b3a5-c4f0-43d7-a224-9637d9d94aa1",
   "metadata": {},
   "source": [
    "In the scaled values:"
   ]
  },
  {
   "cell_type": "code",
   "execution_count": 7,
   "id": "85f76b8a-0780-47af-a20c-1359d000a2cb",
   "metadata": {},
   "outputs": [
    {
     "name": "stdout",
     "output_type": "stream",
     "text": [
      "MAE: 7.849707113940209e-05\n",
      "MSE: 7.780738380826839e-06\n",
      "RMSE: 0.0027893974942318346\n",
      "R2-score: 0.9999922556363334\n"
     ]
    }
   ],
   "source": [
    "y_pred_train = model.predict(x_train)\n",
    "mae_train = mean_absolute_error(y_train, y_pred_train)\n",
    "mse_train = mean_squared_error(y_train, y_pred_train)\n",
    "rmse_train = mse_train ** (0.5)\n",
    "r2_train = r2_score(y_train, y_pred_train)\n",
    "print(f\"MAE: {mae_train}\\nMSE: {mse_train}\\nRMSE: {rmse_train}\\nR2-score: {r2_train}\")"
   ]
  },
  {
   "cell_type": "code",
   "execution_count": 8,
   "id": "fd9e4103-361f-46b3-bb55-4fc8947f253e",
   "metadata": {},
   "outputs": [
    {
     "name": "stdout",
     "output_type": "stream",
     "text": [
      "MAE: 0.3631503649802119\n",
      "MSE: 0.2808612214635307\n",
      "RMSE: 0.5299634152123435\n",
      "R2-score: 0.7255873681531932\n"
     ]
    }
   ],
   "source": [
    "y_pred_val = model.predict(x_val)\n",
    "mae_val = mean_absolute_error(y_val, y_pred_val)\n",
    "mse_val = mean_squared_error(y_val, y_pred_val)\n",
    "rmse_val = mse_val ** (0.5)\n",
    "r2_val = r2_score(y_val, y_pred_val)\n",
    "print(f\"MAE: {mae_val}\\nMSE: {mse_val}\\nRMSE: {rmse_val}\\nR2-score: {r2_val}\")"
   ]
  },
  {
   "cell_type": "code",
   "execution_count": 9,
   "id": "81d1a4d9-6524-4a67-95c6-aeb0dd802dc1",
   "metadata": {},
   "outputs": [
    {
     "name": "stdout",
     "output_type": "stream",
     "text": [
      "MAE: 0.3604379935893076\n",
      "MSE: 0.28110906890770576\n",
      "RMSE: 0.5301971981326437\n",
      "R2-score: 0.6994403713688133\n"
     ]
    }
   ],
   "source": [
    "y_pred_test = model.predict(x_test)\n",
    "mae_test = mean_absolute_error(y_test, y_pred_test)\n",
    "mse_test = mean_squared_error(y_test, y_pred_test)\n",
    "rmse_test = mse_test ** (0.5)\n",
    "r2_test = r2_score(y_test, y_pred_test)\n",
    "print(f\"MAE: {mae_test}\\nMSE: {mse_test}\\nRMSE: {rmse_test}\\nR2-score: {r2_test}\")"
   ]
  },
  {
   "cell_type": "markdown",
   "id": "6272fc2e-3ea2-43d2-8984-1fbec0651439",
   "metadata": {},
   "source": [
    "In the original values:"
   ]
  },
  {
   "cell_type": "code",
   "execution_count": 10,
   "id": "21215f82-56e7-4424-ad24-e5fdfa709be8",
   "metadata": {},
   "outputs": [
    {
     "name": "stdout",
     "output_type": "stream",
     "text": [
      "MAE: 0.0004847357214175801\n",
      "MSE: 0.0002967043801188997\n",
      "RMSE: 0.017225109001655105\n",
      "R2-score: 0.9999922556363334\n"
     ]
    }
   ],
   "source": [
    "y_train_original = scaler.inverse_transform(y_train.reshape(-1, 1))\n",
    "y_pred_train_original = scaler.inverse_transform(y_pred_train.reshape(-1, 1))\n",
    "mae_train = mean_absolute_error(y_train_original, y_pred_train_original)\n",
    "mse_train = mean_squared_error(y_train_original, y_pred_train_original)\n",
    "rmse_train = mse_train ** (0.5)\n",
    "r2_train = r2_score(y_train_original, y_pred_train_original)\n",
    "print(f\"MAE: {mae_train}\\nMSE: {mse_train}\\nRMSE: {rmse_train}\\nR2-score: {r2_train}\")"
   ]
  },
  {
   "cell_type": "code",
   "execution_count": 11,
   "id": "4a59550a-b5b9-45c0-9019-5e8c9f92bf64",
   "metadata": {},
   "outputs": [
    {
     "name": "stdout",
     "output_type": "stream",
     "text": [
      "MAE: 2.2425289453045902\n",
      "MSE: 10.710134505887128\n",
      "RMSE: 3.272634184550288\n",
      "R2-score: 0.7255873681531932\n"
     ]
    }
   ],
   "source": [
    "y_val_original = scaler.inverse_transform(y_val.reshape(-1, 1))\n",
    "y_pred_val_original = scaler.inverse_transform(y_pred_val.reshape(-1, 1))\n",
    "mae_val = mean_absolute_error(y_val_original, y_pred_val_original)\n",
    "mse_val = mean_squared_error(y_val_original, y_pred_val_original)\n",
    "rmse_val = mse_val ** (0.5)\n",
    "r2_val = r2_score(y_val_original, y_pred_val_original)\n",
    "print(f\"MAE: {mae_val}\\nMSE: {mse_val}\\nRMSE: {rmse_val}\\nR2-score: {r2_val}\")"
   ]
  },
  {
   "cell_type": "code",
   "execution_count": 12,
   "id": "a9c770d7-d411-4558-90bf-0ed1505801f9",
   "metadata": {},
   "outputs": [
    {
     "name": "stdout",
     "output_type": "stream",
     "text": [
      "MAE: 2.225779488492533\n",
      "MSE: 10.719585719729404\n",
      "RMSE: 3.274077842649653\n",
      "R2-score: 0.6994403713688133\n"
     ]
    }
   ],
   "source": [
    "y_test_original = scaler.inverse_transform(y_test.reshape(-1, 1))\n",
    "y_pred_test_original = scaler.inverse_transform(y_pred_test.reshape(-1, 1))\n",
    "mae_test = mean_absolute_error(y_test_original, y_pred_test_original)\n",
    "mse_test = mean_squared_error(y_test_original, y_pred_test_original)\n",
    "rmse_test = mse_test ** (0.5)\n",
    "r2_test = r2_score(y_test_original, y_pred_test_original)\n",
    "print(f\"MAE: {mae_test}\\nMSE: {mse_test}\\nRMSE: {rmse_test}\\nR2-score: {r2_test}\")"
   ]
  },
  {
   "cell_type": "code",
   "execution_count": 13,
   "id": "74422a56-a486-449f-ba53-53c83665e543",
   "metadata": {},
   "outputs": [
    {
     "data": {
      "text/html": [
       "<div>\n",
       "<style scoped>\n",
       "    .dataframe tbody tr th:only-of-type {\n",
       "        vertical-align: middle;\n",
       "    }\n",
       "\n",
       "    .dataframe tbody tr th {\n",
       "        vertical-align: top;\n",
       "    }\n",
       "\n",
       "    .dataframe thead th {\n",
       "        text-align: right;\n",
       "    }\n",
       "</style>\n",
       "<table border=\"1\" class=\"dataframe\">\n",
       "  <thead>\n",
       "    <tr style=\"text-align: right;\">\n",
       "      <th></th>\n",
       "      <th>train</th>\n",
       "      <th>val</th>\n",
       "      <th>test</th>\n",
       "    </tr>\n",
       "  </thead>\n",
       "  <tbody>\n",
       "    <tr>\n",
       "      <th>MAE</th>\n",
       "      <td>0.0005</td>\n",
       "      <td>2.2425</td>\n",
       "      <td>2.2258</td>\n",
       "    </tr>\n",
       "    <tr>\n",
       "      <th>MSE</th>\n",
       "      <td>0.0003</td>\n",
       "      <td>10.7101</td>\n",
       "      <td>10.7196</td>\n",
       "    </tr>\n",
       "    <tr>\n",
       "      <th>RMSE</th>\n",
       "      <td>0.0172</td>\n",
       "      <td>3.2726</td>\n",
       "      <td>3.2741</td>\n",
       "    </tr>\n",
       "    <tr>\n",
       "      <th>R2</th>\n",
       "      <td>1.0000</td>\n",
       "      <td>0.7256</td>\n",
       "      <td>0.6994</td>\n",
       "    </tr>\n",
       "  </tbody>\n",
       "</table>\n",
       "</div>"
      ],
      "text/plain": [
       "       train      val     test\n",
       "MAE   0.0005   2.2425   2.2258\n",
       "MSE   0.0003  10.7101  10.7196\n",
       "RMSE  0.0172   3.2726   3.2741\n",
       "R2    1.0000   0.7256   0.6994"
      ]
     },
     "execution_count": 13,
     "metadata": {},
     "output_type": "execute_result"
    }
   ],
   "source": [
    "df_metrics_dt = pd.DataFrame(\n",
    "    index=[\"MAE\", \"MSE\", \"RMSE\", \"R2\"],\n",
    "    columns=[\"train\", \"val\", \"test\"],\n",
    "    data={\n",
    "        \"train\": [mae_train, mse_train, rmse_train, r2_train],\n",
    "        \"val\": [mae_val, mse_val, rmse_val, r2_val],\n",
    "        \"test\": [mae_test, mse_test, rmse_test, r2_test]\n",
    "    }\n",
    ")\n",
    "df_metrics_dt.round(4)"
   ]
  },
  {
   "cell_type": "markdown",
   "id": "545a368d-b6b4-49c1-90e1-a47480406ba8",
   "metadata": {},
   "source": [
    "### Estimate Hyperparameters"
   ]
  },
  {
   "cell_type": "markdown",
   "id": "c644db6f-2599-4f20-827d-e40aa6a8dc93",
   "metadata": {},
   "source": [
    "We can see significant overfitting. Use RandomizedSearchCV to estimate approximatelly good hyperparameters that reduce overfitting."
   ]
  },
  {
   "cell_type": "code",
   "execution_count": 15,
   "id": "826cf472-5121-454a-afe9-d9c5646af0bb",
   "metadata": {},
   "outputs": [
    {
     "name": "stdout",
     "output_type": "stream",
     "text": [
      "{'max_depth': 9, 'min_samples_leaf': 42, 'min_samples_split': 33}\n"
     ]
    }
   ],
   "source": [
    "param_distributions = {\n",
    "    \"max_depth\": randint(8, 10),\n",
    "    \"min_samples_split\": randint(20, 100),\n",
    "    \"min_samples_leaf\": randint(10, 100),\n",
    "}\n",
    "random_search = RandomizedSearchCV(estimator=model, param_distributions=param_distributions, n_iter=1000, cv=5, random_state=38)\n",
    "random_search.fit(x_train, y_train)\n",
    "print(random_search.best_params_)\n"
   ]
  },
  {
   "cell_type": "markdown",
   "id": "a021e581-8105-4dc2-8e2c-ca147ec4db01",
   "metadata": {},
   "source": [
    "In the scaled values:"
   ]
  },
  {
   "cell_type": "code",
   "execution_count": 16,
   "id": "c6e6afce-7ae2-486d-8e5c-521f9cdd4f1b",
   "metadata": {},
   "outputs": [
    {
     "name": "stdout",
     "output_type": "stream",
     "text": [
      "MAE: 0.24718412525117936\n",
      "MSE: 0.12537772012277845\n",
      "RMSE: 0.3540871645834941\n",
      "R2-score: 0.8752084168892726\n"
     ]
    }
   ],
   "source": [
    "y_pred_train = random_search.predict(x_train)\n",
    "mae_train = mean_absolute_error(y_train, y_pred_train)\n",
    "mse_train = mean_squared_error(y_train, y_pred_train)\n",
    "rmse_train = mse_train ** (0.5)\n",
    "r2_train = r2_score(y_train, y_pred_train)\n",
    "print(f\"MAE: {mae_train}\\nMSE: {mse_train}\\nRMSE: {rmse_train}\\nR2-score: {r2_train}\")"
   ]
  },
  {
   "cell_type": "code",
   "execution_count": 17,
   "id": "d2c75f9b-519d-451c-8b6c-5f2b4b043d22",
   "metadata": {},
   "outputs": [
    {
     "name": "stdout",
     "output_type": "stream",
     "text": [
      "MAE: 0.2750648069941231\n",
      "MSE: 0.16374349460551824\n",
      "RMSE: 0.4046523132338653\n",
      "R2-score: 0.8400160653423343\n"
     ]
    }
   ],
   "source": [
    "y_pred_val = random_search.predict(x_val)\n",
    "mae_val = mean_absolute_error(y_val, y_pred_val)\n",
    "mse_val = mean_squared_error(y_val, y_pred_val)\n",
    "rmse_val = mse_val ** (0.5)\n",
    "r2_val = r2_score(y_val, y_pred_val)\n",
    "print(f\"MAE: {mae_val}\\nMSE: {mse_val}\\nRMSE: {rmse_val}\\nR2-score: {r2_val}\")"
   ]
  },
  {
   "cell_type": "code",
   "execution_count": 18,
   "id": "3edb098e-9522-4052-bad4-4cf890445b3d",
   "metadata": {},
   "outputs": [
    {
     "name": "stdout",
     "output_type": "stream",
     "text": [
      "MAE: 0.2668681373980147\n",
      "MSE: 0.14421170090808166\n",
      "RMSE: 0.37975215721320355\n",
      "R2-score: 0.8458099717749211\n"
     ]
    }
   ],
   "source": [
    "y_pred_test = random_search.predict(x_test)\n",
    "mae_test = mean_absolute_error(y_test, y_pred_test)\n",
    "mse_test = mean_squared_error(y_test, y_pred_test)\n",
    "rmse_test = mse_test ** (0.5)\n",
    "r2_test = r2_score(y_test, y_pred_test)\n",
    "print(f\"MAE: {mae_test}\\nMSE: {mse_test}\\nRMSE: {rmse_test}\\nR2-score: {r2_test}\")"
   ]
  },
  {
   "cell_type": "markdown",
   "id": "8fb4e83e-4c1c-48d7-b417-89c2bcd4d0c4",
   "metadata": {},
   "source": [
    "In the original values:"
   ]
  },
  {
   "cell_type": "code",
   "execution_count": 19,
   "id": "231e95cb-363a-4efb-83ac-473c705f71dc",
   "metadata": {},
   "outputs": [
    {
     "name": "stdout",
     "output_type": "stream",
     "text": [
      "MAE: 1.5264133239292483\n",
      "MSE: 4.781052505430302\n",
      "RMSE: 2.1865618000482634\n",
      "R2-score: 0.8752084168892726\n"
     ]
    }
   ],
   "source": [
    "y_train_original = scaler.inverse_transform(y_train.reshape(-1, 1))\n",
    "y_pred_train_original = scaler.inverse_transform(y_pred_train.reshape(-1, 1))\n",
    "mae_train = mean_absolute_error(y_train_original, y_pred_train_original)\n",
    "mse_train = mean_squared_error(y_train_original, y_pred_train_original)\n",
    "rmse_train = mse_train ** (0.5)\n",
    "r2_train = r2_score(y_train_original, y_pred_train_original)\n",
    "print(f\"MAE: {mae_train}\\nMSE: {mse_train}\\nRMSE: {rmse_train}\\nR2-score: {r2_train}\")"
   ]
  },
  {
   "cell_type": "code",
   "execution_count": 20,
   "id": "7b3f7891-0cd9-4b59-84ea-48133a7c4bfd",
   "metadata": {},
   "outputs": [
    {
     "name": "stdout",
     "output_type": "stream",
     "text": [
      "MAE: 1.6985823256781065\n",
      "MSE: 6.244061898437694\n",
      "RMSE: 2.4988120974650525\n",
      "R2-score: 0.8400160653423343\n"
     ]
    }
   ],
   "source": [
    "y_val_original = scaler.inverse_transform(y_val.reshape(-1, 1))\n",
    "y_pred_val_original = scaler.inverse_transform(y_pred_val.reshape(-1, 1))\n",
    "mae_val = mean_absolute_error(y_val_original, y_pred_val_original)\n",
    "mse_val = mean_squared_error(y_val_original, y_pred_val_original)\n",
    "rmse_val = mse_val ** (0.5)\n",
    "r2_val = r2_score(y_val_original, y_pred_val_original)\n",
    "print(f\"MAE: {mae_val}\\nMSE: {mse_val}\\nRMSE: {rmse_val}\\nR2-score: {r2_val}\")"
   ]
  },
  {
   "cell_type": "code",
   "execution_count": 21,
   "id": "482d51c6-58f1-4041-b7bf-5ed07b7b74d2",
   "metadata": {},
   "outputs": [
    {
     "name": "stdout",
     "output_type": "stream",
     "text": [
      "MAE: 1.6479661881303092\n",
      "MSE: 5.49925228552377\n",
      "RMSE: 2.3450484612314026\n",
      "R2-score: 0.8458099717749212\n"
     ]
    }
   ],
   "source": [
    "y_test_original = scaler.inverse_transform(y_test.reshape(-1, 1))\n",
    "y_pred_test_original = scaler.inverse_transform(y_pred_test.reshape(-1, 1))\n",
    "mae_test = mean_absolute_error(y_test_original, y_pred_test_original)\n",
    "mse_test = mean_squared_error(y_test_original, y_pred_test_original)\n",
    "rmse_test = mse_test ** (0.5)\n",
    "r2_test = r2_score(y_test_original, y_pred_test_original)\n",
    "print(f\"MAE: {mae_test}\\nMSE: {mse_test}\\nRMSE: {rmse_test}\\nR2-score: {r2_test}\")"
   ]
  },
  {
   "cell_type": "code",
   "execution_count": 21,
   "id": "6f22e6a2-a8ee-4940-93fa-fdd83879ea0e",
   "metadata": {},
   "outputs": [
    {
     "data": {
      "text/html": [
       "<div>\n",
       "<style scoped>\n",
       "    .dataframe tbody tr th:only-of-type {\n",
       "        vertical-align: middle;\n",
       "    }\n",
       "\n",
       "    .dataframe tbody tr th {\n",
       "        vertical-align: top;\n",
       "    }\n",
       "\n",
       "    .dataframe thead th {\n",
       "        text-align: right;\n",
       "    }\n",
       "</style>\n",
       "<table border=\"1\" class=\"dataframe\">\n",
       "  <thead>\n",
       "    <tr style=\"text-align: right;\">\n",
       "      <th></th>\n",
       "      <th>train</th>\n",
       "      <th>val</th>\n",
       "      <th>test</th>\n",
       "    </tr>\n",
       "  </thead>\n",
       "  <tbody>\n",
       "    <tr>\n",
       "      <th>MAE</th>\n",
       "      <td>1.5264</td>\n",
       "      <td>1.6986</td>\n",
       "      <td>1.6480</td>\n",
       "    </tr>\n",
       "    <tr>\n",
       "      <th>MSE</th>\n",
       "      <td>4.7811</td>\n",
       "      <td>6.2441</td>\n",
       "      <td>5.4993</td>\n",
       "    </tr>\n",
       "    <tr>\n",
       "      <th>RMSE</th>\n",
       "      <td>2.1866</td>\n",
       "      <td>2.4988</td>\n",
       "      <td>2.3450</td>\n",
       "    </tr>\n",
       "    <tr>\n",
       "      <th>R2</th>\n",
       "      <td>0.8752</td>\n",
       "      <td>0.8400</td>\n",
       "      <td>0.8458</td>\n",
       "    </tr>\n",
       "  </tbody>\n",
       "</table>\n",
       "</div>"
      ],
      "text/plain": [
       "       train     val    test\n",
       "MAE   1.5264  1.6986  1.6480\n",
       "MSE   4.7811  6.2441  5.4993\n",
       "RMSE  2.1866  2.4988  2.3450\n",
       "R2    0.8752  0.8400  0.8458"
      ]
     },
     "execution_count": 21,
     "metadata": {},
     "output_type": "execute_result"
    }
   ],
   "source": [
    "df_metrics_rs = pd.DataFrame(\n",
    "    index=[\"MAE\", \"MSE\", \"RMSE\", \"R2\"],\n",
    "    columns=[\"train\", \"val\", \"test\"],\n",
    "    data={\n",
    "        \"train\": [mae_train, mse_train, rmse_train, r2_train],\n",
    "        \"val\": [mae_val, mse_val, rmse_val, r2_val],\n",
    "        \"test\": [mae_test, mse_test, rmse_test, r2_test]\n",
    "    }\n",
    ")\n",
    "df_metrics_rs.round(4)"
   ]
  },
  {
   "cell_type": "markdown",
   "id": "71b8c660-c643-4a60-bd88-b904cd5e0465",
   "metadata": {},
   "source": [
    "### Evaluate the Model with the New Hyperparameters"
   ]
  },
  {
   "cell_type": "markdown",
   "id": "d1c22ffb-6432-4a93-a984-35c4619a17d1",
   "metadata": {},
   "source": [
    "Using approximate estimation of hyperparameters, manual settings help to decrease overfitting even more:"
   ]
  },
  {
   "cell_type": "code",
   "execution_count": 22,
   "id": "d3bf8814-b772-4c53-9c52-a348ef0ac045",
   "metadata": {},
   "outputs": [
    {
     "data": {
      "text/html": [
       "<style>#sk-container-id-2 {color: black;background-color: white;}#sk-container-id-2 pre{padding: 0;}#sk-container-id-2 div.sk-toggleable {background-color: white;}#sk-container-id-2 label.sk-toggleable__label {cursor: pointer;display: block;width: 100%;margin-bottom: 0;padding: 0.3em;box-sizing: border-box;text-align: center;}#sk-container-id-2 label.sk-toggleable__label-arrow:before {content: \"▸\";float: left;margin-right: 0.25em;color: #696969;}#sk-container-id-2 label.sk-toggleable__label-arrow:hover:before {color: black;}#sk-container-id-2 div.sk-estimator:hover label.sk-toggleable__label-arrow:before {color: black;}#sk-container-id-2 div.sk-toggleable__content {max-height: 0;max-width: 0;overflow: hidden;text-align: left;background-color: #f0f8ff;}#sk-container-id-2 div.sk-toggleable__content pre {margin: 0.2em;color: black;border-radius: 0.25em;background-color: #f0f8ff;}#sk-container-id-2 input.sk-toggleable__control:checked~div.sk-toggleable__content {max-height: 200px;max-width: 100%;overflow: auto;}#sk-container-id-2 input.sk-toggleable__control:checked~label.sk-toggleable__label-arrow:before {content: \"▾\";}#sk-container-id-2 div.sk-estimator input.sk-toggleable__control:checked~label.sk-toggleable__label {background-color: #d4ebff;}#sk-container-id-2 div.sk-label input.sk-toggleable__control:checked~label.sk-toggleable__label {background-color: #d4ebff;}#sk-container-id-2 input.sk-hidden--visually {border: 0;clip: rect(1px 1px 1px 1px);clip: rect(1px, 1px, 1px, 1px);height: 1px;margin: -1px;overflow: hidden;padding: 0;position: absolute;width: 1px;}#sk-container-id-2 div.sk-estimator {font-family: monospace;background-color: #f0f8ff;border: 1px dotted black;border-radius: 0.25em;box-sizing: border-box;margin-bottom: 0.5em;}#sk-container-id-2 div.sk-estimator:hover {background-color: #d4ebff;}#sk-container-id-2 div.sk-parallel-item::after {content: \"\";width: 100%;border-bottom: 1px solid gray;flex-grow: 1;}#sk-container-id-2 div.sk-label:hover label.sk-toggleable__label {background-color: #d4ebff;}#sk-container-id-2 div.sk-serial::before {content: \"\";position: absolute;border-left: 1px solid gray;box-sizing: border-box;top: 0;bottom: 0;left: 50%;z-index: 0;}#sk-container-id-2 div.sk-serial {display: flex;flex-direction: column;align-items: center;background-color: white;padding-right: 0.2em;padding-left: 0.2em;position: relative;}#sk-container-id-2 div.sk-item {position: relative;z-index: 1;}#sk-container-id-2 div.sk-parallel {display: flex;align-items: stretch;justify-content: center;background-color: white;position: relative;}#sk-container-id-2 div.sk-item::before, #sk-container-id-2 div.sk-parallel-item::before {content: \"\";position: absolute;border-left: 1px solid gray;box-sizing: border-box;top: 0;bottom: 0;left: 50%;z-index: -1;}#sk-container-id-2 div.sk-parallel-item {display: flex;flex-direction: column;z-index: 1;position: relative;background-color: white;}#sk-container-id-2 div.sk-parallel-item:first-child::after {align-self: flex-end;width: 50%;}#sk-container-id-2 div.sk-parallel-item:last-child::after {align-self: flex-start;width: 50%;}#sk-container-id-2 div.sk-parallel-item:only-child::after {width: 0;}#sk-container-id-2 div.sk-dashed-wrapped {border: 1px dashed gray;margin: 0 0.4em 0.5em 0.4em;box-sizing: border-box;padding-bottom: 0.4em;background-color: white;}#sk-container-id-2 div.sk-label label {font-family: monospace;font-weight: bold;display: inline-block;line-height: 1.2em;}#sk-container-id-2 div.sk-label-container {text-align: center;}#sk-container-id-2 div.sk-container {/* jupyter's `normalize.less` sets `[hidden] { display: none; }` but bootstrap.min.css set `[hidden] { display: none !important; }` so we also need the `!important` here to be able to override the default hidden behavior on the sphinx rendered scikit-learn.org. See: https://github.com/scikit-learn/scikit-learn/issues/21755 */display: inline-block !important;position: relative;}#sk-container-id-2 div.sk-text-repr-fallback {display: none;}</style><div id=\"sk-container-id-2\" class=\"sk-top-container\"><div class=\"sk-text-repr-fallback\"><pre>DecisionTreeRegressor(max_depth=5, min_samples_leaf=35, min_samples_split=80)</pre><b>In a Jupyter environment, please rerun this cell to show the HTML representation or trust the notebook. <br />On GitHub, the HTML representation is unable to render, please try loading this page with nbviewer.org.</b></div><div class=\"sk-container\" hidden><div class=\"sk-item\"><div class=\"sk-estimator sk-toggleable\"><input class=\"sk-toggleable__control sk-hidden--visually\" id=\"sk-estimator-id-2\" type=\"checkbox\" checked><label for=\"sk-estimator-id-2\" class=\"sk-toggleable__label sk-toggleable__label-arrow\">DecisionTreeRegressor</label><div class=\"sk-toggleable__content\"><pre>DecisionTreeRegressor(max_depth=5, min_samples_leaf=35, min_samples_split=80)</pre></div></div></div></div></div>"
      ],
      "text/plain": [
       "DecisionTreeRegressor(max_depth=5, min_samples_leaf=35, min_samples_split=80)"
      ]
     },
     "execution_count": 22,
     "metadata": {},
     "output_type": "execute_result"
    }
   ],
   "source": [
    "params = {\"max_depth\": 5, \"min_samples_leaf\": 35, \"min_samples_split\": 80}\n",
    "model = DecisionTreeRegressor(**params)\n",
    "model.fit(x_train, y_train)"
   ]
  },
  {
   "cell_type": "markdown",
   "id": "3877c201-e004-441d-a7f3-b203e0cdda7d",
   "metadata": {},
   "source": [
    "In the scaled values:"
   ]
  },
  {
   "cell_type": "code",
   "execution_count": 23,
   "id": "a3e799b9-f324-4414-a579-702598bd64f7",
   "metadata": {},
   "outputs": [
    {
     "name": "stdout",
     "output_type": "stream",
     "text": [
      "MAE: 0.2734420146039933\n",
      "MSE: 0.15052084312756708\n",
      "RMSE: 0.38797015752189895\n",
      "R2-score: 0.8501828372165626\n"
     ]
    }
   ],
   "source": [
    "y_pred_train = model.predict(x_train)\n",
    "mae_train = mean_absolute_error(y_train, y_pred_train)\n",
    "mse_train = mean_squared_error(y_train, y_pred_train)\n",
    "rmse_train = mse_train ** (0.5)\n",
    "r2_train = r2_score(y_train, y_pred_train)\n",
    "print(f\"MAE: {mae_train}\\nMSE: {mse_train}\\nRMSE: {rmse_train}\\nR2-score: {r2_train}\")"
   ]
  },
  {
   "cell_type": "code",
   "execution_count": 24,
   "id": "1d9fe238-c258-4b15-bca9-f9beb43a285e",
   "metadata": {},
   "outputs": [
    {
     "name": "stdout",
     "output_type": "stream",
     "text": [
      "MAE: 0.2875313226543811\n",
      "MSE: 0.17565667755400088\n",
      "RMSE: 0.41911415814071573\n",
      "R2-score: 0.8283764097518237\n"
     ]
    }
   ],
   "source": [
    "y_pred_val = model.predict(x_val)\n",
    "mae_val = mean_absolute_error(y_val, y_pred_val)\n",
    "mse_val = mean_squared_error(y_val, y_pred_val)\n",
    "rmse_val = mse_val ** (0.5)\n",
    "r2_val = r2_score(y_val, y_pred_val)\n",
    "print(f\"MAE: {mae_val}\\nMSE: {mse_val}\\nRMSE: {rmse_val}\\nR2-score: {r2_val}\")"
   ]
  },
  {
   "cell_type": "code",
   "execution_count": 25,
   "id": "7422a7a8-aa01-4e63-ba98-ecb06770c7e5",
   "metadata": {},
   "outputs": [
    {
     "name": "stdout",
     "output_type": "stream",
     "text": [
      "MAE: 0.28034908680837467\n",
      "MSE: 0.15414513457780082\n",
      "RMSE: 0.3926132124340708\n",
      "R2-score: 0.8351892218062194\n"
     ]
    }
   ],
   "source": [
    "y_pred_test = model.predict(x_test)\n",
    "mae_test = mean_absolute_error(y_test, y_pred_test)\n",
    "mse_test = mean_squared_error(y_test, y_pred_test)\n",
    "rmse_test = mse_test ** (0.5)\n",
    "r2_test = r2_score(y_test, y_pred_test)\n",
    "print(f\"MAE: {mae_test}\\nMSE: {mse_test}\\nRMSE: {rmse_test}\\nR2-score: {r2_test}\")"
   ]
  },
  {
   "cell_type": "markdown",
   "id": "dc0b4949-6359-401d-ba8f-a1cb48e34fd0",
   "metadata": {},
   "source": [
    "In the original values:"
   ]
  },
  {
   "cell_type": "code",
   "execution_count": 26,
   "id": "a7662187-ceee-4dbe-a646-ccb94e8af81d",
   "metadata": {},
   "outputs": [
    {
     "name": "stdout",
     "output_type": "stream",
     "text": [
      "MAE: 1.6885612455470584\n",
      "MSE: 5.739840008653908\n",
      "RMSE: 2.395796320360708\n",
      "R2-score: 0.8501828372165627\n"
     ]
    }
   ],
   "source": [
    "y_train_original = scaler.inverse_transform(y_train.reshape(-1, 1))\n",
    "y_pred_train_original = scaler.inverse_transform(y_pred_train.reshape(-1, 1))\n",
    "mae_train = mean_absolute_error(y_train_original, y_pred_train_original)\n",
    "mse_train = mean_squared_error(y_train_original, y_pred_train_original)\n",
    "rmse_train = mse_train ** (0.5)\n",
    "r2_train = r2_score(y_train_original, y_pred_train_original)\n",
    "print(f\"MAE: {mae_train}\\nMSE: {mse_train}\\nRMSE: {rmse_train}\\nR2-score: {r2_train}\")"
   ]
  },
  {
   "cell_type": "code",
   "execution_count": 27,
   "id": "cbae2f39-e71b-4d05-8906-f19a3161e3c6",
   "metadata": {},
   "outputs": [
    {
     "name": "stdout",
     "output_type": "stream",
     "text": [
      "MAE: 1.7755656496980197\n",
      "MSE: 6.6983495751295\n",
      "RMSE: 2.5881169940961906\n",
      "R2-score: 0.8283764097518237\n"
     ]
    }
   ],
   "source": [
    "y_val_original = scaler.inverse_transform(y_val.reshape(-1, 1))\n",
    "y_pred_val_original = scaler.inverse_transform(y_pred_val.reshape(-1, 1))\n",
    "mae_val = mean_absolute_error(y_val_original, y_pred_val_original)\n",
    "mse_val = mean_squared_error(y_val_original, y_pred_val_original)\n",
    "rmse_val = mse_val ** (0.5)\n",
    "r2_val = r2_score(y_val_original, y_pred_val_original)\n",
    "print(f\"MAE: {mae_val}\\nMSE: {mse_val}\\nRMSE: {rmse_val}\\nR2-score: {r2_val}\")"
   ]
  },
  {
   "cell_type": "code",
   "execution_count": 28,
   "id": "fe8e8cc6-806b-4545-8af3-21500475c8ba",
   "metadata": {},
   "outputs": [
    {
     "name": "stdout",
     "output_type": "stream",
     "text": [
      "MAE: 1.7312138512975113\n",
      "MSE: 5.878045805517824\n",
      "RMSE: 2.4244681490004822\n",
      "R2-score: 0.8351892218062194\n"
     ]
    }
   ],
   "source": [
    "y_test_original = scaler.inverse_transform(y_test.reshape(-1, 1))\n",
    "y_pred_test_original = scaler.inverse_transform(y_pred_test.reshape(-1, 1))\n",
    "mae_test = mean_absolute_error(y_test_original, y_pred_test_original)\n",
    "mse_test = mean_squared_error(y_test_original, y_pred_test_original)\n",
    "rmse_test = mse_test ** (0.5)\n",
    "r2_test = r2_score(y_test_original, y_pred_test_original)\n",
    "print(f\"MAE: {mae_test}\\nMSE: {mse_test}\\nRMSE: {rmse_test}\\nR2-score: {r2_test}\")"
   ]
  },
  {
   "cell_type": "code",
   "execution_count": 29,
   "id": "509b9ee9-e73c-4e49-82cb-4025ba00b189",
   "metadata": {},
   "outputs": [
    {
     "data": {
      "text/html": [
       "<div>\n",
       "<style scoped>\n",
       "    .dataframe tbody tr th:only-of-type {\n",
       "        vertical-align: middle;\n",
       "    }\n",
       "\n",
       "    .dataframe tbody tr th {\n",
       "        vertical-align: top;\n",
       "    }\n",
       "\n",
       "    .dataframe thead th {\n",
       "        text-align: right;\n",
       "    }\n",
       "</style>\n",
       "<table border=\"1\" class=\"dataframe\">\n",
       "  <thead>\n",
       "    <tr style=\"text-align: right;\">\n",
       "      <th></th>\n",
       "      <th>train</th>\n",
       "      <th>val</th>\n",
       "      <th>test</th>\n",
       "    </tr>\n",
       "  </thead>\n",
       "  <tbody>\n",
       "    <tr>\n",
       "      <th>MAE</th>\n",
       "      <td>1.6886</td>\n",
       "      <td>1.7756</td>\n",
       "      <td>1.7312</td>\n",
       "    </tr>\n",
       "    <tr>\n",
       "      <th>MSE</th>\n",
       "      <td>5.7398</td>\n",
       "      <td>6.6983</td>\n",
       "      <td>5.8780</td>\n",
       "    </tr>\n",
       "    <tr>\n",
       "      <th>RMSE</th>\n",
       "      <td>2.3958</td>\n",
       "      <td>2.5881</td>\n",
       "      <td>2.4245</td>\n",
       "    </tr>\n",
       "    <tr>\n",
       "      <th>R2</th>\n",
       "      <td>0.8502</td>\n",
       "      <td>0.8284</td>\n",
       "      <td>0.8352</td>\n",
       "    </tr>\n",
       "  </tbody>\n",
       "</table>\n",
       "</div>"
      ],
      "text/plain": [
       "       train     val    test\n",
       "MAE   1.6886  1.7756  1.7312\n",
       "MSE   5.7398  6.6983  5.8780\n",
       "RMSE  2.3958  2.5881  2.4245\n",
       "R2    0.8502  0.8284  0.8352"
      ]
     },
     "execution_count": 29,
     "metadata": {},
     "output_type": "execute_result"
    }
   ],
   "source": [
    "df_metrics_dt = pd.DataFrame(\n",
    "    index=[\"MAE\", \"MSE\", \"RMSE\", \"R2\"],\n",
    "    columns=[\"train\", \"val\", \"test\"],\n",
    "    data={\n",
    "        \"train\": [mae_train, mse_train, rmse_train, r2_train],\n",
    "        \"val\": [mae_val, mse_val, rmse_val, r2_val],\n",
    "        \"test\": [mae_test, mse_test, rmse_test, r2_test]\n",
    "    }\n",
    ")\n",
    "df_metrics_dt.round(4)"
   ]
  },
  {
   "cell_type": "markdown",
   "id": "c619d6af-56d5-4ca6-91fe-75e4a618ff2c",
   "metadata": {},
   "source": [
    "## Random Forest (sklearn)"
   ]
  },
  {
   "cell_type": "markdown",
   "id": "90bcfcb6-6123-4f78-8608-15098bc6ba1e",
   "metadata": {},
   "source": [
    "### Build and train the model"
   ]
  },
  {
   "cell_type": "markdown",
   "id": "3cf4a862-325d-4d41-aaac-a2b33e736af1",
   "metadata": {},
   "source": [
    "Built and train the model using Random Forest:"
   ]
  },
  {
   "cell_type": "code",
   "execution_count": 30,
   "id": "291317a4-6946-4568-816f-c0e9f4cb8053",
   "metadata": {
    "scrolled": true
   },
   "outputs": [
    {
     "data": {
      "text/html": [
       "<style>#sk-container-id-3 {color: black;background-color: white;}#sk-container-id-3 pre{padding: 0;}#sk-container-id-3 div.sk-toggleable {background-color: white;}#sk-container-id-3 label.sk-toggleable__label {cursor: pointer;display: block;width: 100%;margin-bottom: 0;padding: 0.3em;box-sizing: border-box;text-align: center;}#sk-container-id-3 label.sk-toggleable__label-arrow:before {content: \"▸\";float: left;margin-right: 0.25em;color: #696969;}#sk-container-id-3 label.sk-toggleable__label-arrow:hover:before {color: black;}#sk-container-id-3 div.sk-estimator:hover label.sk-toggleable__label-arrow:before {color: black;}#sk-container-id-3 div.sk-toggleable__content {max-height: 0;max-width: 0;overflow: hidden;text-align: left;background-color: #f0f8ff;}#sk-container-id-3 div.sk-toggleable__content pre {margin: 0.2em;color: black;border-radius: 0.25em;background-color: #f0f8ff;}#sk-container-id-3 input.sk-toggleable__control:checked~div.sk-toggleable__content {max-height: 200px;max-width: 100%;overflow: auto;}#sk-container-id-3 input.sk-toggleable__control:checked~label.sk-toggleable__label-arrow:before {content: \"▾\";}#sk-container-id-3 div.sk-estimator input.sk-toggleable__control:checked~label.sk-toggleable__label {background-color: #d4ebff;}#sk-container-id-3 div.sk-label input.sk-toggleable__control:checked~label.sk-toggleable__label {background-color: #d4ebff;}#sk-container-id-3 input.sk-hidden--visually {border: 0;clip: rect(1px 1px 1px 1px);clip: rect(1px, 1px, 1px, 1px);height: 1px;margin: -1px;overflow: hidden;padding: 0;position: absolute;width: 1px;}#sk-container-id-3 div.sk-estimator {font-family: monospace;background-color: #f0f8ff;border: 1px dotted black;border-radius: 0.25em;box-sizing: border-box;margin-bottom: 0.5em;}#sk-container-id-3 div.sk-estimator:hover {background-color: #d4ebff;}#sk-container-id-3 div.sk-parallel-item::after {content: \"\";width: 100%;border-bottom: 1px solid gray;flex-grow: 1;}#sk-container-id-3 div.sk-label:hover label.sk-toggleable__label {background-color: #d4ebff;}#sk-container-id-3 div.sk-serial::before {content: \"\";position: absolute;border-left: 1px solid gray;box-sizing: border-box;top: 0;bottom: 0;left: 50%;z-index: 0;}#sk-container-id-3 div.sk-serial {display: flex;flex-direction: column;align-items: center;background-color: white;padding-right: 0.2em;padding-left: 0.2em;position: relative;}#sk-container-id-3 div.sk-item {position: relative;z-index: 1;}#sk-container-id-3 div.sk-parallel {display: flex;align-items: stretch;justify-content: center;background-color: white;position: relative;}#sk-container-id-3 div.sk-item::before, #sk-container-id-3 div.sk-parallel-item::before {content: \"\";position: absolute;border-left: 1px solid gray;box-sizing: border-box;top: 0;bottom: 0;left: 50%;z-index: -1;}#sk-container-id-3 div.sk-parallel-item {display: flex;flex-direction: column;z-index: 1;position: relative;background-color: white;}#sk-container-id-3 div.sk-parallel-item:first-child::after {align-self: flex-end;width: 50%;}#sk-container-id-3 div.sk-parallel-item:last-child::after {align-self: flex-start;width: 50%;}#sk-container-id-3 div.sk-parallel-item:only-child::after {width: 0;}#sk-container-id-3 div.sk-dashed-wrapped {border: 1px dashed gray;margin: 0 0.4em 0.5em 0.4em;box-sizing: border-box;padding-bottom: 0.4em;background-color: white;}#sk-container-id-3 div.sk-label label {font-family: monospace;font-weight: bold;display: inline-block;line-height: 1.2em;}#sk-container-id-3 div.sk-label-container {text-align: center;}#sk-container-id-3 div.sk-container {/* jupyter's `normalize.less` sets `[hidden] { display: none; }` but bootstrap.min.css set `[hidden] { display: none !important; }` so we also need the `!important` here to be able to override the default hidden behavior on the sphinx rendered scikit-learn.org. See: https://github.com/scikit-learn/scikit-learn/issues/21755 */display: inline-block !important;position: relative;}#sk-container-id-3 div.sk-text-repr-fallback {display: none;}</style><div id=\"sk-container-id-3\" class=\"sk-top-container\"><div class=\"sk-text-repr-fallback\"><pre>RandomForestRegressor()</pre><b>In a Jupyter environment, please rerun this cell to show the HTML representation or trust the notebook. <br />On GitHub, the HTML representation is unable to render, please try loading this page with nbviewer.org.</b></div><div class=\"sk-container\" hidden><div class=\"sk-item\"><div class=\"sk-estimator sk-toggleable\"><input class=\"sk-toggleable__control sk-hidden--visually\" id=\"sk-estimator-id-3\" type=\"checkbox\" checked><label for=\"sk-estimator-id-3\" class=\"sk-toggleable__label sk-toggleable__label-arrow\">RandomForestRegressor</label><div class=\"sk-toggleable__content\"><pre>RandomForestRegressor()</pre></div></div></div></div></div>"
      ],
      "text/plain": [
       "RandomForestRegressor()"
      ]
     },
     "execution_count": 30,
     "metadata": {},
     "output_type": "execute_result"
    }
   ],
   "source": [
    "model = RandomForestRegressor()\n",
    "model.fit(x_train, y_train.ravel())"
   ]
  },
  {
   "cell_type": "markdown",
   "id": "3ef1b50e-9206-45a6-a9e3-e9dd553eeee7",
   "metadata": {},
   "source": [
    "### Evaluate the Model"
   ]
  },
  {
   "cell_type": "markdown",
   "id": "db2cb63e-a3b9-43cf-9022-88095fffccfc",
   "metadata": {},
   "source": [
    "In the scaled values:"
   ]
  },
  {
   "cell_type": "code",
   "execution_count": 31,
   "id": "cc08310a-c97e-483b-8eba-7008bdeb56a7",
   "metadata": {},
   "outputs": [
    {
     "name": "stdout",
     "output_type": "stream",
     "text": [
      "MAE: 0.0907532351212552\n",
      "MSE: 0.017167182691676122\n",
      "RMSE: 0.1310235959347633\n",
      "R2-score: 0.982913073363055\n"
     ]
    }
   ],
   "source": [
    "y_pred_train = model.predict(x_train)\n",
    "mae_train = mean_absolute_error(y_train, y_pred_train)\n",
    "mse_train = mean_squared_error(y_train, y_pred_train)\n",
    "rmse_train = mse_train ** (0.5)\n",
    "r2_train = r2_score(y_train, y_pred_train)\n",
    "print(f\"MAE: {mae_train}\\nMSE: {mse_train}\\nRMSE: {rmse_train}\\nR2-score: {r2_train}\")"
   ]
  },
  {
   "cell_type": "code",
   "execution_count": 32,
   "id": "b90a3fab-26fb-4770-8222-c1e9c4d57807",
   "metadata": {},
   "outputs": [
    {
     "name": "stdout",
     "output_type": "stream",
     "text": [
      "MAE: 0.256701104048926\n",
      "MSE: 0.14568400418359717\n",
      "RMSE: 0.38168574008416556\n",
      "R2-score: 0.8576609088371671\n"
     ]
    }
   ],
   "source": [
    "y_pred_val = model.predict(x_val)\n",
    "mae_val = mean_absolute_error(y_val, y_pred_val)\n",
    "mse_val = mean_squared_error(y_val, y_pred_val)\n",
    "rmse_val = mse_val ** (0.5)\n",
    "r2_val = r2_score(y_val, y_pred_val)\n",
    "print(f\"MAE: {mae_val}\\nMSE: {mse_val}\\nRMSE: {rmse_val}\\nR2-score: {r2_val}\")"
   ]
  },
  {
   "cell_type": "code",
   "execution_count": 33,
   "id": "27e75320-1af0-4ffb-8a66-78e1babbd993",
   "metadata": {},
   "outputs": [
    {
     "name": "stdout",
     "output_type": "stream",
     "text": [
      "MAE: 0.24101478196858925\n",
      "MSE: 0.12193297962272535\n",
      "RMSE: 0.3491890313608452\n",
      "R2-score: 0.8696302071800723\n"
     ]
    }
   ],
   "source": [
    "y_pred_test = model.predict(x_test)\n",
    "mae_test = mean_absolute_error(y_test, y_pred_test)\n",
    "mse_test = mean_squared_error(y_test, y_pred_test)\n",
    "rmse_test = mse_test ** (0.5)\n",
    "r2_test = r2_score(y_test, y_pred_test)\n",
    "print(f\"MAE: {mae_test}\\nMSE: {mse_test}\\nRMSE: {rmse_test}\\nR2-score: {r2_test}\")"
   ]
  },
  {
   "cell_type": "markdown",
   "id": "6e5bee14-b246-4691-a7ac-fc44359335a2",
   "metadata": {},
   "source": [
    "In the original values:"
   ]
  },
  {
   "cell_type": "code",
   "execution_count": 34,
   "id": "62437df3-a31a-4a11-96ee-18c5bab55283",
   "metadata": {},
   "outputs": [
    {
     "name": "stdout",
     "output_type": "stream",
     "text": [
      "MAE: 0.5604200801244893\n",
      "MSE: 0.6546394506044791\n",
      "RMSE: 0.8090979239897227\n",
      "R2-score: 0.982913073363055\n"
     ]
    }
   ],
   "source": [
    "y_train_original = scaler.inverse_transform(y_train.reshape(-1, 1))\n",
    "y_pred_train_original = scaler.inverse_transform(y_pred_train.reshape(-1, 1))\n",
    "mae_train = mean_absolute_error(y_train_original, y_pred_train_original)\n",
    "mse_train = mean_squared_error(y_train_original, y_pred_train_original)\n",
    "rmse_train = mse_train ** (0.5)\n",
    "r2_train = r2_score(y_train_original, y_pred_train_original)\n",
    "print(f\"MAE: {mae_train}\\nMSE: {mse_train}\\nRMSE: {rmse_train}\\nR2-score: {r2_train}\")"
   ]
  },
  {
   "cell_type": "code",
   "execution_count": 35,
   "id": "4c24d376-87ad-4497-8666-a6b2ad5feec2",
   "metadata": {},
   "outputs": [
    {
     "name": "stdout",
     "output_type": "stream",
     "text": [
      "MAE: 1.5851826450807218\n",
      "MSE: 5.555395907032151\n",
      "RMSE: 2.3569887371457994\n",
      "R2-score: 0.8576609088371671\n"
     ]
    }
   ],
   "source": [
    "y_val_original = scaler.inverse_transform(y_val.reshape(-1, 1))\n",
    "y_pred_val_original = scaler.inverse_transform(y_pred_val.reshape(-1, 1))\n",
    "mae_val = mean_absolute_error(y_val_original, y_pred_val_original)\n",
    "mse_val = mean_squared_error(y_val_original, y_pred_val_original)\n",
    "rmse_val = mse_val ** (0.5)\n",
    "r2_val = r2_score(y_val_original, y_pred_val_original)\n",
    "print(f\"MAE: {mae_val}\\nMSE: {mse_val}\\nRMSE: {rmse_val}\\nR2-score: {r2_val}\")"
   ]
  },
  {
   "cell_type": "code",
   "execution_count": 36,
   "id": "53cf27f9-8ba7-450b-bbe5-20a80b9431e6",
   "metadata": {},
   "outputs": [
    {
     "name": "stdout",
     "output_type": "stream",
     "text": [
      "MAE: 1.4883163475280745\n",
      "MSE: 4.649693559182052\n",
      "RMSE: 2.156314809850837\n",
      "R2-score: 0.8696302071800723\n"
     ]
    }
   ],
   "source": [
    "y_test_original = scaler.inverse_transform(y_test.reshape(-1, 1))\n",
    "y_pred_test_original = scaler.inverse_transform(y_pred_test.reshape(-1, 1))\n",
    "mae_test = mean_absolute_error(y_test_original, y_pred_test_original)\n",
    "mse_test = mean_squared_error(y_test_original, y_pred_test_original)\n",
    "rmse_test = mse_test ** (0.5)\n",
    "r2_test = r2_score(y_test_original, y_pred_test_original)\n",
    "print(f\"MAE: {mae_test}\\nMSE: {mse_test}\\nRMSE: {rmse_test}\\nR2-score: {r2_test}\")"
   ]
  },
  {
   "cell_type": "code",
   "execution_count": 37,
   "id": "86cd14b0-df45-4af5-879c-be236662d507",
   "metadata": {},
   "outputs": [
    {
     "data": {
      "text/html": [
       "<div>\n",
       "<style scoped>\n",
       "    .dataframe tbody tr th:only-of-type {\n",
       "        vertical-align: middle;\n",
       "    }\n",
       "\n",
       "    .dataframe tbody tr th {\n",
       "        vertical-align: top;\n",
       "    }\n",
       "\n",
       "    .dataframe thead th {\n",
       "        text-align: right;\n",
       "    }\n",
       "</style>\n",
       "<table border=\"1\" class=\"dataframe\">\n",
       "  <thead>\n",
       "    <tr style=\"text-align: right;\">\n",
       "      <th></th>\n",
       "      <th>train</th>\n",
       "      <th>val</th>\n",
       "      <th>test</th>\n",
       "    </tr>\n",
       "  </thead>\n",
       "  <tbody>\n",
       "    <tr>\n",
       "      <th>MAE</th>\n",
       "      <td>0.5604</td>\n",
       "      <td>1.5852</td>\n",
       "      <td>1.4883</td>\n",
       "    </tr>\n",
       "    <tr>\n",
       "      <th>MSE</th>\n",
       "      <td>0.6546</td>\n",
       "      <td>5.5554</td>\n",
       "      <td>4.6497</td>\n",
       "    </tr>\n",
       "    <tr>\n",
       "      <th>RMSE</th>\n",
       "      <td>0.8091</td>\n",
       "      <td>2.3570</td>\n",
       "      <td>2.1563</td>\n",
       "    </tr>\n",
       "    <tr>\n",
       "      <th>R2</th>\n",
       "      <td>0.9829</td>\n",
       "      <td>0.8577</td>\n",
       "      <td>0.8696</td>\n",
       "    </tr>\n",
       "  </tbody>\n",
       "</table>\n",
       "</div>"
      ],
      "text/plain": [
       "       train     val    test\n",
       "MAE   0.5604  1.5852  1.4883\n",
       "MSE   0.6546  5.5554  4.6497\n",
       "RMSE  0.8091  2.3570  2.1563\n",
       "R2    0.9829  0.8577  0.8696"
      ]
     },
     "execution_count": 37,
     "metadata": {},
     "output_type": "execute_result"
    }
   ],
   "source": [
    "df_metrics_rf = pd.DataFrame(\n",
    "    index=[\"MAE\", \"MSE\", \"RMSE\", \"R2\"],\n",
    "    columns=[\"train\", \"val\", \"test\"],\n",
    "    data={\n",
    "        \"train\": [mae_train, mse_train, rmse_train, r2_train],\n",
    "        \"val\": [mae_val, mse_val, rmse_val, r2_val],\n",
    "        \"test\": [mae_test, mse_test, rmse_test, r2_test]\n",
    "    }\n",
    ")\n",
    "df_metrics_rf.round(4)"
   ]
  },
  {
   "cell_type": "markdown",
   "id": "7d89a916-3fc3-4404-9cd6-d0ba7b2d03e4",
   "metadata": {},
   "source": [
    "### Estimate Hyperparameters Using RandomizedSearchCV"
   ]
  },
  {
   "cell_type": "markdown",
   "id": "78a30325-9c9e-40f7-ba3a-169d537ff496",
   "metadata": {},
   "source": [
    "We can see significant overfitting. Use RandomizedSearchCV to estimate approximatelly good hyperparameters that reduce overfitting."
   ]
  },
  {
   "cell_type": "code",
   "execution_count": 38,
   "id": "1fe32a91-cf71-45d7-98b1-82233fbbb53c",
   "metadata": {},
   "outputs": [
    {
     "name": "stdout",
     "output_type": "stream",
     "text": [
      "{'max_depth': 9, 'min_samples_leaf': 14, 'min_samples_split': 28}\n"
     ]
    }
   ],
   "source": [
    "param_distributions = {\n",
    "    \"max_depth\": randint(6, 10),\n",
    "    \"min_samples_split\": randint(20, 100),\n",
    "    \"min_samples_leaf\": randint(10, 100),\n",
    "}\n",
    "random_search = RandomizedSearchCV(estimator=model, param_distributions=param_distributions, n_iter=100, cv=5, random_state=38)\n",
    "random_search.fit(x_train, y_train.ravel())\n",
    "print(random_search.best_params_)"
   ]
  },
  {
   "cell_type": "markdown",
   "id": "9789c3de-7603-411d-81e0-e395d915fae2",
   "metadata": {},
   "source": [
    "In the scaled values:"
   ]
  },
  {
   "cell_type": "code",
   "execution_count": 39,
   "id": "c3b912f8-65e2-440f-bfe2-c872e3114fef",
   "metadata": {},
   "outputs": [
    {
     "name": "stdout",
     "output_type": "stream",
     "text": [
      "MAE: 0.2203255628443258\n",
      "MSE: 0.10239904664889629\n",
      "RMSE: 0.31999851038543337\n",
      "R2-score: 0.8980796657665224\n"
     ]
    }
   ],
   "source": [
    "y_pred_train = random_search.predict(x_train)\n",
    "mae_train = mean_absolute_error(y_train, y_pred_train)\n",
    "mse_train = mean_squared_error(y_train, y_pred_train)\n",
    "rmse_train = mse_train ** (0.5)\n",
    "r2_train = r2_score(y_train, y_pred_train)\n",
    "print(f\"MAE: {mae_train}\\nMSE: {mse_train}\\nRMSE: {rmse_train}\\nR2-score: {r2_train}\")"
   ]
  },
  {
   "cell_type": "code",
   "execution_count": 40,
   "id": "a968ef94-2cfa-4096-8709-28005df7b04d",
   "metadata": {},
   "outputs": [
    {
     "name": "stdout",
     "output_type": "stream",
     "text": [
      "MAE: 0.25749061978298565\n",
      "MSE: 0.1480215327690686\n",
      "RMSE: 0.3847356660995554\n",
      "R2-score: 0.8553770500409479\n"
     ]
    }
   ],
   "source": [
    "y_pred_val = random_search.predict(x_val)\n",
    "mae_val = mean_absolute_error(y_val, y_pred_val)\n",
    "mse_val = mean_squared_error(y_val, y_pred_val)\n",
    "rmse_val = mse_val ** (0.5)\n",
    "r2_val = r2_score(y_val, y_pred_val)\n",
    "print(f\"MAE: {mae_val}\\nMSE: {mse_val}\\nRMSE: {rmse_val}\\nR2-score: {r2_val}\")"
   ]
  },
  {
   "cell_type": "code",
   "execution_count": 41,
   "id": "13bc8511-badd-443e-961c-b9575fb82fe1",
   "metadata": {},
   "outputs": [
    {
     "name": "stdout",
     "output_type": "stream",
     "text": [
      "MAE: 0.24355410288337082\n",
      "MSE: 0.12450516092787307\n",
      "RMSE: 0.352852888507198\n",
      "R2-score: 0.8668800509476489\n"
     ]
    }
   ],
   "source": [
    "y_pred_test = random_search.predict(x_test)\n",
    "mae_test = mean_absolute_error(y_test, y_pred_test)\n",
    "mse_test = mean_squared_error(y_test, y_pred_test)\n",
    "rmse_test = mse_test ** (0.5)\n",
    "r2_test = r2_score(y_test, y_pred_test)\n",
    "print(f\"MAE: {mae_test}\\nMSE: {mse_test}\\nRMSE: {rmse_test}\\nR2-score: {r2_test}\")"
   ]
  },
  {
   "cell_type": "markdown",
   "id": "c3e0a4ac-df55-4d08-a87b-9eb7767642e0",
   "metadata": {},
   "source": [
    "In the original values:"
   ]
  },
  {
   "cell_type": "code",
   "execution_count": 42,
   "id": "89f3642e-d87f-41fb-8925-e242bf510501",
   "metadata": {},
   "outputs": [
    {
     "name": "stdout",
     "output_type": "stream",
     "text": [
      "MAE: 1.3605561214177742\n",
      "MSE: 3.904802368833588\n",
      "RMSE: 1.9760572787329795\n",
      "R2-score: 0.8980796657665224\n"
     ]
    }
   ],
   "source": [
    "y_train_original = scaler.inverse_transform(y_train.reshape(-1, 1))\n",
    "y_pred_train_original = scaler.inverse_transform(y_pred_train.reshape(-1, 1))\n",
    "mae_train = mean_absolute_error(y_train_original, y_pred_train_original)\n",
    "mse_train = mean_squared_error(y_train_original, y_pred_train_original)\n",
    "rmse_train = mse_train ** (0.5)\n",
    "r2_train = r2_score(y_train_original, y_pred_train_original)\n",
    "print(f\"MAE: {mae_train}\\nMSE: {mse_train}\\nRMSE: {rmse_train}\\nR2-score: {r2_train}\")"
   ]
  },
  {
   "cell_type": "code",
   "execution_count": 43,
   "id": "5eb1c523-b9aa-451e-92d9-a59113da5b65",
   "metadata": {},
   "outputs": [
    {
     "name": "stdout",
     "output_type": "stream",
     "text": [
      "MAE: 1.5900580687540495\n",
      "MSE: 5.644533330245292\n",
      "RMSE: 2.3758226638882984\n",
      "R2-score: 0.8553770500409479\n"
     ]
    }
   ],
   "source": [
    "y_val_original = scaler.inverse_transform(y_val.reshape(-1, 1))\n",
    "y_pred_val_original = scaler.inverse_transform(y_pred_val.reshape(-1, 1))\n",
    "mae_val = mean_absolute_error(y_val_original, y_pred_val_original)\n",
    "mse_val = mean_squared_error(y_val_original, y_pred_val_original)\n",
    "rmse_val = mse_val ** (0.5)\n",
    "r2_val = r2_score(y_val_original, y_pred_val_original)\n",
    "print(f\"MAE: {mae_val}\\nMSE: {mse_val}\\nRMSE: {rmse_val}\\nR2-score: {r2_val}\")"
   ]
  },
  {
   "cell_type": "code",
   "execution_count": 44,
   "id": "a06180a3-e5de-48b6-bfc7-18683803f30c",
   "metadata": {},
   "outputs": [
    {
     "name": "stdout",
     "output_type": "stream",
     "text": [
      "MAE: 1.5039971817002373\n",
      "MSE: 4.74777903929251\n",
      "RMSE: 2.1789398888662603\n",
      "R2-score: 0.8668800509476489\n"
     ]
    }
   ],
   "source": [
    "y_test_original = scaler.inverse_transform(y_test.reshape(-1, 1))\n",
    "y_pred_test_original = scaler.inverse_transform(y_pred_test.reshape(-1, 1))\n",
    "mae_test = mean_absolute_error(y_test_original, y_pred_test_original)\n",
    "mse_test = mean_squared_error(y_test_original, y_pred_test_original)\n",
    "rmse_test = mse_test ** (0.5)\n",
    "r2_test = r2_score(y_test_original, y_pred_test_original)\n",
    "print(f\"MAE: {mae_test}\\nMSE: {mse_test}\\nRMSE: {rmse_test}\\nR2-score: {r2_test}\")"
   ]
  },
  {
   "cell_type": "code",
   "execution_count": 45,
   "id": "47c7e585-4d1c-4506-bda8-7797393acb3e",
   "metadata": {},
   "outputs": [
    {
     "data": {
      "text/html": [
       "<div>\n",
       "<style scoped>\n",
       "    .dataframe tbody tr th:only-of-type {\n",
       "        vertical-align: middle;\n",
       "    }\n",
       "\n",
       "    .dataframe tbody tr th {\n",
       "        vertical-align: top;\n",
       "    }\n",
       "\n",
       "    .dataframe thead th {\n",
       "        text-align: right;\n",
       "    }\n",
       "</style>\n",
       "<table border=\"1\" class=\"dataframe\">\n",
       "  <thead>\n",
       "    <tr style=\"text-align: right;\">\n",
       "      <th></th>\n",
       "      <th>train</th>\n",
       "      <th>val</th>\n",
       "      <th>test</th>\n",
       "    </tr>\n",
       "  </thead>\n",
       "  <tbody>\n",
       "    <tr>\n",
       "      <th>MAE</th>\n",
       "      <td>1.3606</td>\n",
       "      <td>1.5901</td>\n",
       "      <td>1.5040</td>\n",
       "    </tr>\n",
       "    <tr>\n",
       "      <th>MSE</th>\n",
       "      <td>3.9048</td>\n",
       "      <td>5.6445</td>\n",
       "      <td>4.7478</td>\n",
       "    </tr>\n",
       "    <tr>\n",
       "      <th>RMSE</th>\n",
       "      <td>1.9761</td>\n",
       "      <td>2.3758</td>\n",
       "      <td>2.1789</td>\n",
       "    </tr>\n",
       "    <tr>\n",
       "      <th>R2</th>\n",
       "      <td>0.8981</td>\n",
       "      <td>0.8554</td>\n",
       "      <td>0.8669</td>\n",
       "    </tr>\n",
       "  </tbody>\n",
       "</table>\n",
       "</div>"
      ],
      "text/plain": [
       "       train     val    test\n",
       "MAE   1.3606  1.5901  1.5040\n",
       "MSE   3.9048  5.6445  4.7478\n",
       "RMSE  1.9761  2.3758  2.1789\n",
       "R2    0.8981  0.8554  0.8669"
      ]
     },
     "execution_count": 45,
     "metadata": {},
     "output_type": "execute_result"
    }
   ],
   "source": [
    "df_metrics_rs = pd.DataFrame(\n",
    "    index=[\"MAE\", \"MSE\", \"RMSE\", \"R2\"],\n",
    "    columns=[\"train\", \"val\", \"test\"],\n",
    "    data={\n",
    "        \"train\": [mae_train, mse_train, rmse_train, r2_train],\n",
    "        \"val\": [mae_val, mse_val, rmse_val, r2_val],\n",
    "        \"test\": [mae_test, mse_test, rmse_test, r2_test]\n",
    "    }\n",
    ")\n",
    "df_metrics_rs.round(4)"
   ]
  },
  {
   "cell_type": "markdown",
   "id": "0bbd9e8d-3f28-4356-a629-f653ba159623",
   "metadata": {},
   "source": [
    "### Estimate Hyperparameters Using GridSearchCV"
   ]
  },
  {
   "cell_type": "markdown",
   "id": "012cd172-d6f2-4624-a0f6-3e57b5fb2a19",
   "metadata": {},
   "source": [
    "Check the hyperparameters in a more narrow range:"
   ]
  },
  {
   "cell_type": "code",
   "execution_count": 46,
   "id": "b12bfc86-acfd-4112-8a39-39c7f30115e6",
   "metadata": {},
   "outputs": [
    {
     "name": "stdout",
     "output_type": "stream",
     "text": [
      "{'max_depth': 10, 'min_samples_leaf': 10, 'min_samples_split': 25}\n"
     ]
    }
   ],
   "source": [
    "param_grid = {\n",
    "    \"max_depth\": [9, 10],\n",
    "    \"min_samples_split\": [25, 28, 30],\n",
    "    \"min_samples_leaf\": [10, 14, 15]\n",
    "}\n",
    "grid_search = GridSearchCV(model, param_grid, cv=5)\n",
    "grid_search.fit(x_train, y_train.ravel())\n",
    "print(grid_search.best_params_)"
   ]
  },
  {
   "cell_type": "markdown",
   "id": "533e832a-4705-43a3-82c5-27713a32958b",
   "metadata": {},
   "source": [
    "In the scaled values:"
   ]
  },
  {
   "cell_type": "code",
   "execution_count": 47,
   "id": "28c80558-b566-4d8c-ab80-c73e08535665",
   "metadata": {},
   "outputs": [
    {
     "name": "stdout",
     "output_type": "stream",
     "text": [
      "MAE: 0.20994798106955623\n",
      "MSE: 0.09381951412332029\n",
      "RMSE: 0.30629971290113917\n",
      "R2-score: 0.9066190892395936\n"
     ]
    }
   ],
   "source": [
    "y_pred_train = grid_search.predict(x_train)\n",
    "mae_train = mean_absolute_error(y_train, y_pred_train)\n",
    "mse_train = mean_squared_error(y_train, y_pred_train)\n",
    "rmse_train = mse_train ** (0.5)\n",
    "r2_train = r2_score(y_train, y_pred_train)\n",
    "print(f\"MAE: {mae_train}\\nMSE: {mse_train}\\nRMSE: {rmse_train}\\nR2-score: {r2_train}\")"
   ]
  },
  {
   "cell_type": "code",
   "execution_count": 48,
   "id": "a7e192ab-a2d0-4b53-91fe-ac007690d3b2",
   "metadata": {},
   "outputs": [
    {
     "name": "stdout",
     "output_type": "stream",
     "text": [
      "MAE: 0.2553836032946158\n",
      "MSE: 0.14656240112049898\n",
      "RMSE: 0.38283469163661094\n",
      "R2-score: 0.8568026799438889\n"
     ]
    }
   ],
   "source": [
    "y_pred_val = grid_search.predict(x_val)\n",
    "mae_val = mean_absolute_error(y_val, y_pred_val)\n",
    "mse_val = mean_squared_error(y_val, y_pred_val)\n",
    "rmse_val = mse_val ** (0.5)\n",
    "r2_val = r2_score(y_val, y_pred_val)\n",
    "print(f\"MAE: {mae_val}\\nMSE: {mse_val}\\nRMSE: {rmse_val}\\nR2-score: {r2_val}\")"
   ]
  },
  {
   "cell_type": "code",
   "execution_count": 49,
   "id": "4ccf98a1-fecc-422d-a1d5-8aa3b1107b32",
   "metadata": {},
   "outputs": [
    {
     "name": "stdout",
     "output_type": "stream",
     "text": [
      "MAE: 0.24157555285996987\n",
      "MSE: 0.12311902554707918\n",
      "RMSE: 0.35088320784426147\n",
      "R2-score: 0.8683620961086349\n"
     ]
    }
   ],
   "source": [
    "y_pred_test = grid_search.predict(x_test)\n",
    "mae_test = mean_absolute_error(y_test, y_pred_test)\n",
    "mse_test = mean_squared_error(y_test, y_pred_test)\n",
    "rmse_test = mse_test ** (0.5)\n",
    "r2_test = r2_score(y_test, y_pred_test)\n",
    "print(f\"MAE: {mae_test}\\nMSE: {mse_test}\\nRMSE: {rmse_test}\\nR2-score: {r2_test}\")"
   ]
  },
  {
   "cell_type": "markdown",
   "id": "6127379b-ad08-4a44-908e-2d77baa713fc",
   "metadata": {},
   "source": [
    "In the original values:"
   ]
  },
  {
   "cell_type": "code",
   "execution_count": 50,
   "id": "1619e18b-d199-4f2c-8ac1-52f3298b9860",
   "metadata": {},
   "outputs": [
    {
     "name": "stdout",
     "output_type": "stream",
     "text": [
      "MAE: 1.2964723980998747\n",
      "MSE: 3.577637419298239\n",
      "RMSE: 1.8914643584530582\n",
      "R2-score: 0.9066190892395936\n"
     ]
    }
   ],
   "source": [
    "y_train_original = scaler.inverse_transform(y_train.reshape(-1, 1))\n",
    "y_pred_train_original = scaler.inverse_transform(y_pred_train.reshape(-1, 1))\n",
    "mae_train = mean_absolute_error(y_train_original, y_pred_train_original)\n",
    "mse_train = mean_squared_error(y_train_original, y_pred_train_original)\n",
    "rmse_train = mse_train ** (0.5)\n",
    "r2_train = r2_score(y_train_original, y_pred_train_original)\n",
    "print(f\"MAE: {mae_train}\\nMSE: {mse_train}\\nRMSE: {rmse_train}\\nR2-score: {r2_train}\")"
   ]
  },
  {
   "cell_type": "code",
   "execution_count": 51,
   "id": "c3332e1d-0560-4c1b-8195-3298f1c254e9",
   "metadata": {},
   "outputs": [
    {
     "name": "stdout",
     "output_type": "stream",
     "text": [
      "MAE: 1.5770468042227286\n",
      "MSE: 5.588891984898488\n",
      "RMSE: 2.3640837516675437\n",
      "R2-score: 0.8568026799438889\n"
     ]
    }
   ],
   "source": [
    "y_val_original = scaler.inverse_transform(y_val.reshape(-1, 1))\n",
    "y_pred_val_original = scaler.inverse_transform(y_pred_val.reshape(-1, 1))\n",
    "mae_val = mean_absolute_error(y_val_original, y_pred_val_original)\n",
    "mse_val = mean_squared_error(y_val_original, y_pred_val_original)\n",
    "rmse_val = mse_val ** (0.5)\n",
    "r2_val = r2_score(y_val_original, y_pred_val_original)\n",
    "print(f\"MAE: {mae_val}\\nMSE: {mse_val}\\nRMSE: {rmse_val}\\nR2-score: {r2_val}\")"
   ]
  },
  {
   "cell_type": "code",
   "execution_count": 52,
   "id": "98793ae4-d598-4828-b8b9-003b7ea45b1e",
   "metadata": {},
   "outputs": [
    {
     "name": "stdout",
     "output_type": "stream",
     "text": [
      "MAE: 1.4917792242779684\n",
      "MSE: 4.69492127454196\n",
      "RMSE: 2.166776701587397\n",
      "R2-score: 0.8683620961086349\n"
     ]
    }
   ],
   "source": [
    "y_test_original = scaler.inverse_transform(y_test.reshape(-1, 1))\n",
    "y_pred_test_original = scaler.inverse_transform(y_pred_test.reshape(-1, 1))\n",
    "mae_test = mean_absolute_error(y_test_original, y_pred_test_original)\n",
    "mse_test = mean_squared_error(y_test_original, y_pred_test_original)\n",
    "rmse_test = mse_test ** (0.5)\n",
    "r2_test = r2_score(y_test_original, y_pred_test_original)\n",
    "print(f\"MAE: {mae_test}\\nMSE: {mse_test}\\nRMSE: {rmse_test}\\nR2-score: {r2_test}\")"
   ]
  },
  {
   "cell_type": "code",
   "execution_count": 53,
   "id": "82d2b2e8-8185-4123-8f39-b2fcdee51bdd",
   "metadata": {},
   "outputs": [
    {
     "data": {
      "text/html": [
       "<div>\n",
       "<style scoped>\n",
       "    .dataframe tbody tr th:only-of-type {\n",
       "        vertical-align: middle;\n",
       "    }\n",
       "\n",
       "    .dataframe tbody tr th {\n",
       "        vertical-align: top;\n",
       "    }\n",
       "\n",
       "    .dataframe thead th {\n",
       "        text-align: right;\n",
       "    }\n",
       "</style>\n",
       "<table border=\"1\" class=\"dataframe\">\n",
       "  <thead>\n",
       "    <tr style=\"text-align: right;\">\n",
       "      <th></th>\n",
       "      <th>train</th>\n",
       "      <th>val</th>\n",
       "      <th>test</th>\n",
       "    </tr>\n",
       "  </thead>\n",
       "  <tbody>\n",
       "    <tr>\n",
       "      <th>MAE</th>\n",
       "      <td>1.2965</td>\n",
       "      <td>1.5770</td>\n",
       "      <td>1.4918</td>\n",
       "    </tr>\n",
       "    <tr>\n",
       "      <th>MSE</th>\n",
       "      <td>3.5776</td>\n",
       "      <td>5.5889</td>\n",
       "      <td>4.6949</td>\n",
       "    </tr>\n",
       "    <tr>\n",
       "      <th>RMSE</th>\n",
       "      <td>1.8915</td>\n",
       "      <td>2.3641</td>\n",
       "      <td>2.1668</td>\n",
       "    </tr>\n",
       "    <tr>\n",
       "      <th>R2</th>\n",
       "      <td>0.9066</td>\n",
       "      <td>0.8568</td>\n",
       "      <td>0.8684</td>\n",
       "    </tr>\n",
       "  </tbody>\n",
       "</table>\n",
       "</div>"
      ],
      "text/plain": [
       "       train     val    test\n",
       "MAE   1.2965  1.5770  1.4918\n",
       "MSE   3.5776  5.5889  4.6949\n",
       "RMSE  1.8915  2.3641  2.1668\n",
       "R2    0.9066  0.8568  0.8684"
      ]
     },
     "execution_count": 53,
     "metadata": {},
     "output_type": "execute_result"
    }
   ],
   "source": [
    "df_metrics_gs = pd.DataFrame(\n",
    "    index=[\"MAE\", \"MSE\", \"RMSE\", \"R2\"],\n",
    "    columns=[\"train\", \"val\", \"test\"],\n",
    "    data={\n",
    "        \"train\": [mae_train, mse_train, rmse_train, r2_train],\n",
    "        \"val\": [mae_val, mse_val, rmse_val, r2_val],\n",
    "        \"test\": [mae_test, mse_test, rmse_test, r2_test]\n",
    "    }\n",
    ")\n",
    "df_metrics_gs.round(4)"
   ]
  },
  {
   "cell_type": "markdown",
   "id": "11e6517c-7c14-4f49-a574-0add49133802",
   "metadata": {},
   "source": [
    "### Evaluate the Model with the New Hyperparameters"
   ]
  },
  {
   "cell_type": "markdown",
   "id": "7f18d2e7-5513-4a09-8821-a3eb08e463fb",
   "metadata": {},
   "source": [
    "Using approximate estimation of hyperparameters, manual settings help to decrease overfitting even more:"
   ]
  },
  {
   "cell_type": "code",
   "execution_count": 54,
   "id": "7ec34b97-073d-4b91-8c98-44fc635be6a3",
   "metadata": {
    "scrolled": true
   },
   "outputs": [
    {
     "data": {
      "text/html": [
       "<style>#sk-container-id-4 {color: black;background-color: white;}#sk-container-id-4 pre{padding: 0;}#sk-container-id-4 div.sk-toggleable {background-color: white;}#sk-container-id-4 label.sk-toggleable__label {cursor: pointer;display: block;width: 100%;margin-bottom: 0;padding: 0.3em;box-sizing: border-box;text-align: center;}#sk-container-id-4 label.sk-toggleable__label-arrow:before {content: \"▸\";float: left;margin-right: 0.25em;color: #696969;}#sk-container-id-4 label.sk-toggleable__label-arrow:hover:before {color: black;}#sk-container-id-4 div.sk-estimator:hover label.sk-toggleable__label-arrow:before {color: black;}#sk-container-id-4 div.sk-toggleable__content {max-height: 0;max-width: 0;overflow: hidden;text-align: left;background-color: #f0f8ff;}#sk-container-id-4 div.sk-toggleable__content pre {margin: 0.2em;color: black;border-radius: 0.25em;background-color: #f0f8ff;}#sk-container-id-4 input.sk-toggleable__control:checked~div.sk-toggleable__content {max-height: 200px;max-width: 100%;overflow: auto;}#sk-container-id-4 input.sk-toggleable__control:checked~label.sk-toggleable__label-arrow:before {content: \"▾\";}#sk-container-id-4 div.sk-estimator input.sk-toggleable__control:checked~label.sk-toggleable__label {background-color: #d4ebff;}#sk-container-id-4 div.sk-label input.sk-toggleable__control:checked~label.sk-toggleable__label {background-color: #d4ebff;}#sk-container-id-4 input.sk-hidden--visually {border: 0;clip: rect(1px 1px 1px 1px);clip: rect(1px, 1px, 1px, 1px);height: 1px;margin: -1px;overflow: hidden;padding: 0;position: absolute;width: 1px;}#sk-container-id-4 div.sk-estimator {font-family: monospace;background-color: #f0f8ff;border: 1px dotted black;border-radius: 0.25em;box-sizing: border-box;margin-bottom: 0.5em;}#sk-container-id-4 div.sk-estimator:hover {background-color: #d4ebff;}#sk-container-id-4 div.sk-parallel-item::after {content: \"\";width: 100%;border-bottom: 1px solid gray;flex-grow: 1;}#sk-container-id-4 div.sk-label:hover label.sk-toggleable__label {background-color: #d4ebff;}#sk-container-id-4 div.sk-serial::before {content: \"\";position: absolute;border-left: 1px solid gray;box-sizing: border-box;top: 0;bottom: 0;left: 50%;z-index: 0;}#sk-container-id-4 div.sk-serial {display: flex;flex-direction: column;align-items: center;background-color: white;padding-right: 0.2em;padding-left: 0.2em;position: relative;}#sk-container-id-4 div.sk-item {position: relative;z-index: 1;}#sk-container-id-4 div.sk-parallel {display: flex;align-items: stretch;justify-content: center;background-color: white;position: relative;}#sk-container-id-4 div.sk-item::before, #sk-container-id-4 div.sk-parallel-item::before {content: \"\";position: absolute;border-left: 1px solid gray;box-sizing: border-box;top: 0;bottom: 0;left: 50%;z-index: -1;}#sk-container-id-4 div.sk-parallel-item {display: flex;flex-direction: column;z-index: 1;position: relative;background-color: white;}#sk-container-id-4 div.sk-parallel-item:first-child::after {align-self: flex-end;width: 50%;}#sk-container-id-4 div.sk-parallel-item:last-child::after {align-self: flex-start;width: 50%;}#sk-container-id-4 div.sk-parallel-item:only-child::after {width: 0;}#sk-container-id-4 div.sk-dashed-wrapped {border: 1px dashed gray;margin: 0 0.4em 0.5em 0.4em;box-sizing: border-box;padding-bottom: 0.4em;background-color: white;}#sk-container-id-4 div.sk-label label {font-family: monospace;font-weight: bold;display: inline-block;line-height: 1.2em;}#sk-container-id-4 div.sk-label-container {text-align: center;}#sk-container-id-4 div.sk-container {/* jupyter's `normalize.less` sets `[hidden] { display: none; }` but bootstrap.min.css set `[hidden] { display: none !important; }` so we also need the `!important` here to be able to override the default hidden behavior on the sphinx rendered scikit-learn.org. See: https://github.com/scikit-learn/scikit-learn/issues/21755 */display: inline-block !important;position: relative;}#sk-container-id-4 div.sk-text-repr-fallback {display: none;}</style><div id=\"sk-container-id-4\" class=\"sk-top-container\"><div class=\"sk-text-repr-fallback\"><pre>RandomForestRegressor(max_depth=6, min_samples_leaf=10, min_samples_split=25)</pre><b>In a Jupyter environment, please rerun this cell to show the HTML representation or trust the notebook. <br />On GitHub, the HTML representation is unable to render, please try loading this page with nbviewer.org.</b></div><div class=\"sk-container\" hidden><div class=\"sk-item\"><div class=\"sk-estimator sk-toggleable\"><input class=\"sk-toggleable__control sk-hidden--visually\" id=\"sk-estimator-id-4\" type=\"checkbox\" checked><label for=\"sk-estimator-id-4\" class=\"sk-toggleable__label sk-toggleable__label-arrow\">RandomForestRegressor</label><div class=\"sk-toggleable__content\"><pre>RandomForestRegressor(max_depth=6, min_samples_leaf=10, min_samples_split=25)</pre></div></div></div></div></div>"
      ],
      "text/plain": [
       "RandomForestRegressor(max_depth=6, min_samples_leaf=10, min_samples_split=25)"
      ]
     },
     "execution_count": 54,
     "metadata": {},
     "output_type": "execute_result"
    }
   ],
   "source": [
    "params = {\"max_depth\": 6, \"min_samples_leaf\": 10, \"min_samples_split\": 25}\n",
    "model = RandomForestRegressor(**params)\n",
    "model.fit(x_train, y_train.ravel())"
   ]
  },
  {
   "cell_type": "markdown",
   "id": "76544f2f-e96b-46a9-afaf-a6840a2bcb99",
   "metadata": {},
   "source": [
    "In the scaled values:"
   ]
  },
  {
   "cell_type": "code",
   "execution_count": 55,
   "id": "e730a96a-0152-40a8-a1dd-888876bf4966",
   "metadata": {},
   "outputs": [
    {
     "name": "stdout",
     "output_type": "stream",
     "text": [
      "MAE: 0.2471388767865515\n",
      "MSE: 0.12529816558487397\n",
      "RMSE: 0.3539748092518364\n",
      "R2-score: 0.8752875995121423\n"
     ]
    }
   ],
   "source": [
    "y_pred_train = model.predict(x_train)\n",
    "mae_train = mean_absolute_error(y_train, y_pred_train)\n",
    "mse_train = mean_squared_error(y_train, y_pred_train)\n",
    "rmse_train = mse_train ** (0.5)\n",
    "r2_train = r2_score(y_train, y_pred_train)\n",
    "print(f\"MAE: {mae_train}\\nMSE: {mse_train}\\nRMSE: {rmse_train}\\nR2-score: {r2_train}\")"
   ]
  },
  {
   "cell_type": "code",
   "execution_count": 56,
   "id": "61e4680e-5162-430c-ba14-98fa1ca9397c",
   "metadata": {},
   "outputs": [
    {
     "name": "stdout",
     "output_type": "stream",
     "text": [
      "MAE: 0.26953403867340875\n",
      "MSE: 0.15797099404146833\n",
      "RMSE: 0.3974556504082793\n",
      "R2-score: 0.8456560289651651\n"
     ]
    }
   ],
   "source": [
    "y_pred_val = model.predict(x_val)\n",
    "mae_val = mean_absolute_error(y_val, y_pred_val)\n",
    "mse_val = mean_squared_error(y_val, y_pred_val)\n",
    "rmse_val = mse_val ** (0.5)\n",
    "r2_val = r2_score(y_val, y_pred_val)\n",
    "print(f\"MAE: {mae_val}\\nMSE: {mse_val}\\nRMSE: {rmse_val}\\nR2-score: {r2_val}\")"
   ]
  },
  {
   "cell_type": "code",
   "execution_count": 57,
   "id": "41376a96-4bd7-4450-8113-380c42630c52",
   "metadata": {},
   "outputs": [
    {
     "name": "stdout",
     "output_type": "stream",
     "text": [
      "MAE: 0.2572152831224261\n",
      "MSE: 0.13558110884040953\n",
      "RMSE: 0.36821340122327095\n",
      "R2-score: 0.8550377336426056\n"
     ]
    }
   ],
   "source": [
    "y_pred_test = model.predict(x_test)\n",
    "mae_test = mean_absolute_error(y_test, y_pred_test)\n",
    "mse_test = mean_squared_error(y_test, y_pred_test)\n",
    "rmse_test = mse_test ** (0.5)\n",
    "r2_test = r2_score(y_test, y_pred_test)\n",
    "print(f\"MAE: {mae_test}\\nMSE: {mse_test}\\nRMSE: {rmse_test}\\nR2-score: {r2_test}\")"
   ]
  },
  {
   "cell_type": "markdown",
   "id": "18731dfd-48be-4cd1-8094-c3595745d780",
   "metadata": {},
   "source": [
    "In the original values:"
   ]
  },
  {
   "cell_type": "code",
   "execution_count": 58,
   "id": "92b2c31a-17d5-4d84-8b9d-67ec6ee0b548",
   "metadata": {},
   "outputs": [
    {
     "name": "stdout",
     "output_type": "stream",
     "text": [
      "MAE: 1.5261339052601686\n",
      "MSE: 4.778018837068856\n",
      "RMSE: 2.1858679825343654\n",
      "R2-score: 0.8752875995121423\n"
     ]
    }
   ],
   "source": [
    "y_train_original = scaler.inverse_transform(y_train.reshape(-1, 1))\n",
    "y_pred_train_original = scaler.inverse_transform(y_pred_train.reshape(-1, 1))\n",
    "mae_train = mean_absolute_error(y_train_original, y_pred_train_original)\n",
    "mse_train = mean_squared_error(y_train_original, y_pred_train_original)\n",
    "rmse_train = mse_train ** (0.5)\n",
    "r2_train = r2_score(y_train_original, y_pred_train_original)\n",
    "print(f\"MAE: {mae_train}\\nMSE: {mse_train}\\nRMSE: {rmse_train}\\nR2-score: {r2_train}\")"
   ]
  },
  {
   "cell_type": "code",
   "execution_count": 59,
   "id": "1ed2233e-145b-4d3d-b585-0cbc5c307882",
   "metadata": {},
   "outputs": [
    {
     "name": "stdout",
     "output_type": "stream",
     "text": [
      "MAE: 1.6644286823253003\n",
      "MSE: 6.023938033868119\n",
      "RMSE: 2.4543712094685515\n",
      "R2-score: 0.845656028965165\n"
     ]
    }
   ],
   "source": [
    "y_val_original = scaler.inverse_transform(y_val.reshape(-1, 1))\n",
    "y_pred_val_original = scaler.inverse_transform(y_pred_val.reshape(-1, 1))\n",
    "mae_val = mean_absolute_error(y_val_original, y_pred_val_original)\n",
    "mse_val = mean_squared_error(y_val_original, y_pred_val_original)\n",
    "rmse_val = mse_val ** (0.5)\n",
    "r2_val = r2_score(y_val_original, y_pred_val_original)\n",
    "print(f\"MAE: {mae_val}\\nMSE: {mse_val}\\nRMSE: {rmse_val}\\nR2-score: {r2_val}\")"
   ]
  },
  {
   "cell_type": "code",
   "execution_count": 60,
   "id": "ebabb878-6e3a-4239-a34a-efa253584e56",
   "metadata": {},
   "outputs": [
    {
     "name": "stdout",
     "output_type": "stream",
     "text": [
      "MAE: 1.5883578076761293\n",
      "MSE: 5.170140272734873\n",
      "RMSE: 2.2737942459103184\n",
      "R2-score: 0.8550377336426056\n"
     ]
    }
   ],
   "source": [
    "y_test_original = scaler.inverse_transform(y_test.reshape(-1, 1))\n",
    "y_pred_test_original = scaler.inverse_transform(y_pred_test.reshape(-1, 1))\n",
    "mae_test = mean_absolute_error(y_test_original, y_pred_test_original)\n",
    "mse_test = mean_squared_error(y_test_original, y_pred_test_original)\n",
    "rmse_test = mse_test ** (0.5)\n",
    "r2_test = r2_score(y_test_original, y_pred_test_original)\n",
    "print(f\"MAE: {mae_test}\\nMSE: {mse_test}\\nRMSE: {rmse_test}\\nR2-score: {r2_test}\")"
   ]
  },
  {
   "cell_type": "code",
   "execution_count": 61,
   "id": "fa5006be-9e6a-40f4-bdca-facce33f0416",
   "metadata": {},
   "outputs": [
    {
     "data": {
      "text/html": [
       "<div>\n",
       "<style scoped>\n",
       "    .dataframe tbody tr th:only-of-type {\n",
       "        vertical-align: middle;\n",
       "    }\n",
       "\n",
       "    .dataframe tbody tr th {\n",
       "        vertical-align: top;\n",
       "    }\n",
       "\n",
       "    .dataframe thead th {\n",
       "        text-align: right;\n",
       "    }\n",
       "</style>\n",
       "<table border=\"1\" class=\"dataframe\">\n",
       "  <thead>\n",
       "    <tr style=\"text-align: right;\">\n",
       "      <th></th>\n",
       "      <th>train</th>\n",
       "      <th>val</th>\n",
       "      <th>test</th>\n",
       "    </tr>\n",
       "  </thead>\n",
       "  <tbody>\n",
       "    <tr>\n",
       "      <th>MAE</th>\n",
       "      <td>1.5261</td>\n",
       "      <td>1.6644</td>\n",
       "      <td>1.5884</td>\n",
       "    </tr>\n",
       "    <tr>\n",
       "      <th>MSE</th>\n",
       "      <td>4.7780</td>\n",
       "      <td>6.0239</td>\n",
       "      <td>5.1701</td>\n",
       "    </tr>\n",
       "    <tr>\n",
       "      <th>RMSE</th>\n",
       "      <td>2.1859</td>\n",
       "      <td>2.4544</td>\n",
       "      <td>2.2738</td>\n",
       "    </tr>\n",
       "    <tr>\n",
       "      <th>R2</th>\n",
       "      <td>0.8753</td>\n",
       "      <td>0.8457</td>\n",
       "      <td>0.8550</td>\n",
       "    </tr>\n",
       "  </tbody>\n",
       "</table>\n",
       "</div>"
      ],
      "text/plain": [
       "       train     val    test\n",
       "MAE   1.5261  1.6644  1.5884\n",
       "MSE   4.7780  6.0239  5.1701\n",
       "RMSE  2.1859  2.4544  2.2738\n",
       "R2    0.8753  0.8457  0.8550"
      ]
     },
     "execution_count": 61,
     "metadata": {},
     "output_type": "execute_result"
    }
   ],
   "source": [
    "df_metrics_rf = pd.DataFrame(\n",
    "    index=[\"MAE\", \"MSE\", \"RMSE\", \"R2\"],\n",
    "    columns=[\"train\", \"val\", \"test\"],\n",
    "    data={\n",
    "        \"train\": [mae_train, mse_train, rmse_train, r2_train],\n",
    "        \"val\": [mae_val, mse_val, rmse_val, r2_val],\n",
    "        \"test\": [mae_test, mse_test, rmse_test, r2_test]\n",
    "    }\n",
    ")\n",
    "df_metrics_rf.round(4)"
   ]
  },
  {
   "cell_type": "markdown",
   "id": "d04528be-96eb-45ae-9ef7-21f7dedef756",
   "metadata": {},
   "source": [
    "## Gradient Boosted Trees (sklearn)"
   ]
  },
  {
   "cell_type": "markdown",
   "id": "59b2bfea-9e76-48c5-96a4-2e1f44240f2a",
   "metadata": {},
   "source": [
    "### Build and train the model"
   ]
  },
  {
   "cell_type": "markdown",
   "id": "8f831f10-6f80-44be-bc03-770e0fc5f792",
   "metadata": {},
   "source": [
    "Built and train the model using GradienBoosting:"
   ]
  },
  {
   "cell_type": "code",
   "execution_count": 62,
   "id": "fb19e6d4-1737-4c0d-a28c-66d2c1bf9d00",
   "metadata": {
    "scrolled": true
   },
   "outputs": [
    {
     "data": {
      "text/html": [
       "<style>#sk-container-id-5 {color: black;background-color: white;}#sk-container-id-5 pre{padding: 0;}#sk-container-id-5 div.sk-toggleable {background-color: white;}#sk-container-id-5 label.sk-toggleable__label {cursor: pointer;display: block;width: 100%;margin-bottom: 0;padding: 0.3em;box-sizing: border-box;text-align: center;}#sk-container-id-5 label.sk-toggleable__label-arrow:before {content: \"▸\";float: left;margin-right: 0.25em;color: #696969;}#sk-container-id-5 label.sk-toggleable__label-arrow:hover:before {color: black;}#sk-container-id-5 div.sk-estimator:hover label.sk-toggleable__label-arrow:before {color: black;}#sk-container-id-5 div.sk-toggleable__content {max-height: 0;max-width: 0;overflow: hidden;text-align: left;background-color: #f0f8ff;}#sk-container-id-5 div.sk-toggleable__content pre {margin: 0.2em;color: black;border-radius: 0.25em;background-color: #f0f8ff;}#sk-container-id-5 input.sk-toggleable__control:checked~div.sk-toggleable__content {max-height: 200px;max-width: 100%;overflow: auto;}#sk-container-id-5 input.sk-toggleable__control:checked~label.sk-toggleable__label-arrow:before {content: \"▾\";}#sk-container-id-5 div.sk-estimator input.sk-toggleable__control:checked~label.sk-toggleable__label {background-color: #d4ebff;}#sk-container-id-5 div.sk-label input.sk-toggleable__control:checked~label.sk-toggleable__label {background-color: #d4ebff;}#sk-container-id-5 input.sk-hidden--visually {border: 0;clip: rect(1px 1px 1px 1px);clip: rect(1px, 1px, 1px, 1px);height: 1px;margin: -1px;overflow: hidden;padding: 0;position: absolute;width: 1px;}#sk-container-id-5 div.sk-estimator {font-family: monospace;background-color: #f0f8ff;border: 1px dotted black;border-radius: 0.25em;box-sizing: border-box;margin-bottom: 0.5em;}#sk-container-id-5 div.sk-estimator:hover {background-color: #d4ebff;}#sk-container-id-5 div.sk-parallel-item::after {content: \"\";width: 100%;border-bottom: 1px solid gray;flex-grow: 1;}#sk-container-id-5 div.sk-label:hover label.sk-toggleable__label {background-color: #d4ebff;}#sk-container-id-5 div.sk-serial::before {content: \"\";position: absolute;border-left: 1px solid gray;box-sizing: border-box;top: 0;bottom: 0;left: 50%;z-index: 0;}#sk-container-id-5 div.sk-serial {display: flex;flex-direction: column;align-items: center;background-color: white;padding-right: 0.2em;padding-left: 0.2em;position: relative;}#sk-container-id-5 div.sk-item {position: relative;z-index: 1;}#sk-container-id-5 div.sk-parallel {display: flex;align-items: stretch;justify-content: center;background-color: white;position: relative;}#sk-container-id-5 div.sk-item::before, #sk-container-id-5 div.sk-parallel-item::before {content: \"\";position: absolute;border-left: 1px solid gray;box-sizing: border-box;top: 0;bottom: 0;left: 50%;z-index: -1;}#sk-container-id-5 div.sk-parallel-item {display: flex;flex-direction: column;z-index: 1;position: relative;background-color: white;}#sk-container-id-5 div.sk-parallel-item:first-child::after {align-self: flex-end;width: 50%;}#sk-container-id-5 div.sk-parallel-item:last-child::after {align-self: flex-start;width: 50%;}#sk-container-id-5 div.sk-parallel-item:only-child::after {width: 0;}#sk-container-id-5 div.sk-dashed-wrapped {border: 1px dashed gray;margin: 0 0.4em 0.5em 0.4em;box-sizing: border-box;padding-bottom: 0.4em;background-color: white;}#sk-container-id-5 div.sk-label label {font-family: monospace;font-weight: bold;display: inline-block;line-height: 1.2em;}#sk-container-id-5 div.sk-label-container {text-align: center;}#sk-container-id-5 div.sk-container {/* jupyter's `normalize.less` sets `[hidden] { display: none; }` but bootstrap.min.css set `[hidden] { display: none !important; }` so we also need the `!important` here to be able to override the default hidden behavior on the sphinx rendered scikit-learn.org. See: https://github.com/scikit-learn/scikit-learn/issues/21755 */display: inline-block !important;position: relative;}#sk-container-id-5 div.sk-text-repr-fallback {display: none;}</style><div id=\"sk-container-id-5\" class=\"sk-top-container\"><div class=\"sk-text-repr-fallback\"><pre>GradientBoostingRegressor()</pre><b>In a Jupyter environment, please rerun this cell to show the HTML representation or trust the notebook. <br />On GitHub, the HTML representation is unable to render, please try loading this page with nbviewer.org.</b></div><div class=\"sk-container\" hidden><div class=\"sk-item\"><div class=\"sk-estimator sk-toggleable\"><input class=\"sk-toggleable__control sk-hidden--visually\" id=\"sk-estimator-id-5\" type=\"checkbox\" checked><label for=\"sk-estimator-id-5\" class=\"sk-toggleable__label sk-toggleable__label-arrow\">GradientBoostingRegressor</label><div class=\"sk-toggleable__content\"><pre>GradientBoostingRegressor()</pre></div></div></div></div></div>"
      ],
      "text/plain": [
       "GradientBoostingRegressor()"
      ]
     },
     "execution_count": 62,
     "metadata": {},
     "output_type": "execute_result"
    }
   ],
   "source": [
    "model = GradientBoostingRegressor()\n",
    "model.fit(x_train, y_train.ravel())"
   ]
  },
  {
   "cell_type": "markdown",
   "id": "4d4564d9-1048-43fa-8c5c-e90055653245",
   "metadata": {},
   "source": [
    "### Evaluate the Model"
   ]
  },
  {
   "cell_type": "markdown",
   "id": "7dc95085-99d7-4330-a94c-a40cd35a48e3",
   "metadata": {},
   "source": [
    "In the scaled values:"
   ]
  },
  {
   "cell_type": "code",
   "execution_count": 63,
   "id": "7c677790-0f5e-4074-b361-64358db87ecc",
   "metadata": {},
   "outputs": [
    {
     "name": "stdout",
     "output_type": "stream",
     "text": [
      "MAE: 0.23425869639270977\n",
      "MSE: 0.11412675194165171\n",
      "RMSE: 0.3378265116027037\n",
      "R2-score: 0.8864067871378009\n"
     ]
    }
   ],
   "source": [
    "y_pred_train = model.predict(x_train)\n",
    "mae_train = mean_absolute_error(y_train, y_pred_train)\n",
    "mse_train = mean_squared_error(y_train, y_pred_train)\n",
    "rmse_train = mse_train ** (0.5)\n",
    "r2_train = r2_score(y_train, y_pred_train)\n",
    "print(f\"MAE: {mae_train}\\nMSE: {mse_train}\\nRMSE: {rmse_train}\\nR2-score: {r2_train}\")"
   ]
  },
  {
   "cell_type": "code",
   "execution_count": 64,
   "id": "79f5d0f2-81ba-4925-98af-a3762549b274",
   "metadata": {},
   "outputs": [
    {
     "name": "stdout",
     "output_type": "stream",
     "text": [
      "MAE: 0.2598401514678394\n",
      "MSE: 0.15160273712575173\n",
      "RMSE: 0.3893619615804191\n",
      "R2-score: 0.8518780703399489\n"
     ]
    }
   ],
   "source": [
    "y_pred_val = model.predict(x_val)\n",
    "mae_val = mean_absolute_error(y_val, y_pred_val)\n",
    "mse_val = mean_squared_error(y_val, y_pred_val)\n",
    "rmse_val = mse_val ** (0.5)\n",
    "r2_val = r2_score(y_val, y_pred_val)\n",
    "print(f\"MAE: {mae_val}\\nMSE: {mse_val}\\nRMSE: {rmse_val}\\nR2-score: {r2_val}\")"
   ]
  },
  {
   "cell_type": "code",
   "execution_count": 65,
   "id": "f47eb37f-1106-4a6e-b6e1-79d927e3cef0",
   "metadata": {},
   "outputs": [
    {
     "name": "stdout",
     "output_type": "stream",
     "text": [
      "MAE: 0.24327959798555399\n",
      "MSE: 0.12521079553364822\n",
      "RMSE: 0.35385137492123475\n",
      "R2-score: 0.8661255919190405\n"
     ]
    }
   ],
   "source": [
    "y_pred_test = model.predict(x_test)\n",
    "mae_test = mean_absolute_error(y_test, y_pred_test)\n",
    "mse_test = mean_squared_error(y_test, y_pred_test)\n",
    "rmse_test = mse_test ** (0.5)\n",
    "r2_test = r2_score(y_test, y_pred_test)\n",
    "print(f\"MAE: {mae_test}\\nMSE: {mse_test}\\nRMSE: {rmse_test}\\nR2-score: {r2_test}\")"
   ]
  },
  {
   "cell_type": "markdown",
   "id": "972e5fab-eeaa-49ff-8900-ad0b0b05faee",
   "metadata": {},
   "source": [
    "In the original values:"
   ]
  },
  {
   "cell_type": "code",
   "execution_count": 66,
   "id": "2e6e779d-46c2-4694-8112-61b0b48ecba6",
   "metadata": {},
   "outputs": [
    {
     "name": "stdout",
     "output_type": "stream",
     "text": [
      "MAE: 1.446596115574872\n",
      "MSE: 4.3520171907171585\n",
      "RMSE: 2.0861488898727143\n",
      "R2-score: 0.8864067871378009\n"
     ]
    }
   ],
   "source": [
    "y_train_original = scaler.inverse_transform(y_train.reshape(-1, 1))\n",
    "y_pred_train_original = scaler.inverse_transform(y_pred_train.reshape(-1, 1))\n",
    "mae_train = mean_absolute_error(y_train_original, y_pred_train_original)\n",
    "mse_train = mean_squared_error(y_train_original, y_pred_train_original)\n",
    "rmse_train = mse_train ** (0.5)\n",
    "r2_train = r2_score(y_train_original, y_pred_train_original)\n",
    "print(f\"MAE: {mae_train}\\nMSE: {mse_train}\\nRMSE: {rmse_train}\\nR2-score: {r2_train}\")"
   ]
  },
  {
   "cell_type": "code",
   "execution_count": 67,
   "id": "fcd67ae8-a753-49d3-a2d0-7177ad7dab99",
   "metadata": {},
   "outputs": [
    {
     "name": "stdout",
     "output_type": "stream",
     "text": [
      "MAE: 1.60456691500423\n",
      "MSE: 5.781096078756041\n",
      "RMSE: 2.4043909995581085\n",
      "R2-score: 0.8518780703399489\n"
     ]
    }
   ],
   "source": [
    "y_val_original = scaler.inverse_transform(y_val.reshape(-1, 1))\n",
    "y_pred_val_original = scaler.inverse_transform(y_pred_val.reshape(-1, 1))\n",
    "mae_val = mean_absolute_error(y_val_original, y_pred_val_original)\n",
    "mse_val = mean_squared_error(y_val_original, y_pred_val_original)\n",
    "rmse_val = mse_val ** (0.5)\n",
    "r2_val = r2_score(y_val_original, y_pred_val_original)\n",
    "print(f\"MAE: {mae_val}\\nMSE: {mse_val}\\nRMSE: {rmse_val}\\nR2-score: {r2_val}\")"
   ]
  },
  {
   "cell_type": "code",
   "execution_count": 68,
   "id": "748d383e-4ecf-49f7-84eb-caf7e93ac66f",
   "metadata": {},
   "outputs": [
    {
     "name": "stdout",
     "output_type": "stream",
     "text": [
      "MAE: 1.5023020569300456\n",
      "MSE: 4.774687138247858\n",
      "RMSE: 2.1851057499004156\n",
      "R2-score: 0.8661255919190406\n"
     ]
    }
   ],
   "source": [
    "y_test_original = scaler.inverse_transform(y_test.reshape(-1, 1))\n",
    "y_pred_test_original = scaler.inverse_transform(y_pred_test.reshape(-1, 1))\n",
    "mae_test = mean_absolute_error(y_test_original, y_pred_test_original)\n",
    "mse_test = mean_squared_error(y_test_original, y_pred_test_original)\n",
    "rmse_test = mse_test ** (0.5)\n",
    "r2_test = r2_score(y_test_original, y_pred_test_original)\n",
    "print(f\"MAE: {mae_test}\\nMSE: {mse_test}\\nRMSE: {rmse_test}\\nR2-score: {r2_test}\")"
   ]
  },
  {
   "cell_type": "code",
   "execution_count": 69,
   "id": "8ec448f6-4944-434e-94ba-10dee776519d",
   "metadata": {},
   "outputs": [
    {
     "data": {
      "text/html": [
       "<div>\n",
       "<style scoped>\n",
       "    .dataframe tbody tr th:only-of-type {\n",
       "        vertical-align: middle;\n",
       "    }\n",
       "\n",
       "    .dataframe tbody tr th {\n",
       "        vertical-align: top;\n",
       "    }\n",
       "\n",
       "    .dataframe thead th {\n",
       "        text-align: right;\n",
       "    }\n",
       "</style>\n",
       "<table border=\"1\" class=\"dataframe\">\n",
       "  <thead>\n",
       "    <tr style=\"text-align: right;\">\n",
       "      <th></th>\n",
       "      <th>train</th>\n",
       "      <th>val</th>\n",
       "      <th>test</th>\n",
       "    </tr>\n",
       "  </thead>\n",
       "  <tbody>\n",
       "    <tr>\n",
       "      <th>MAE</th>\n",
       "      <td>1.4466</td>\n",
       "      <td>1.6046</td>\n",
       "      <td>1.5023</td>\n",
       "    </tr>\n",
       "    <tr>\n",
       "      <th>MSE</th>\n",
       "      <td>4.3520</td>\n",
       "      <td>5.7811</td>\n",
       "      <td>4.7747</td>\n",
       "    </tr>\n",
       "    <tr>\n",
       "      <th>RMSE</th>\n",
       "      <td>2.0861</td>\n",
       "      <td>2.4044</td>\n",
       "      <td>2.1851</td>\n",
       "    </tr>\n",
       "    <tr>\n",
       "      <th>R2</th>\n",
       "      <td>0.8864</td>\n",
       "      <td>0.8519</td>\n",
       "      <td>0.8661</td>\n",
       "    </tr>\n",
       "  </tbody>\n",
       "</table>\n",
       "</div>"
      ],
      "text/plain": [
       "       train     val    test\n",
       "MAE   1.4466  1.6046  1.5023\n",
       "MSE   4.3520  5.7811  4.7747\n",
       "RMSE  2.0861  2.4044  2.1851\n",
       "R2    0.8864  0.8519  0.8661"
      ]
     },
     "execution_count": 69,
     "metadata": {},
     "output_type": "execute_result"
    }
   ],
   "source": [
    "df_metrics_gb = pd.DataFrame(\n",
    "    index=[\"MAE\", \"MSE\", \"RMSE\", \"R2\"],\n",
    "    columns=[\"train\", \"val\", \"test\"],\n",
    "    data={\n",
    "        \"train\": [mae_train, mse_train, rmse_train, r2_train],\n",
    "        \"val\": [mae_val, mse_val, rmse_val, r2_val],\n",
    "        \"test\": [mae_test, mse_test, rmse_test, r2_test]\n",
    "    }\n",
    ")\n",
    "df_metrics_gb.round(4)"
   ]
  },
  {
   "cell_type": "markdown",
   "id": "aaa7ed61-c8fc-4f9c-9c09-a024784cab1d",
   "metadata": {},
   "source": [
    "### Estimate Hyperparameters Using RandomizedSearchCV"
   ]
  },
  {
   "cell_type": "markdown",
   "id": "5aa23b76-6140-4a94-b7a7-cf5b6a50b03b",
   "metadata": {},
   "source": [
    "In this case, the model even with default hyperparameters has significantly less overfitting. However, we try to use RandomizedSearchCV to improve the val and test metrics."
   ]
  },
  {
   "cell_type": "code",
   "execution_count": 70,
   "id": "5ec3f727-5b05-4d90-bbc2-6cb916933730",
   "metadata": {},
   "outputs": [
    {
     "name": "stdout",
     "output_type": "stream",
     "text": [
      "{'max_depth': 9, 'max_features': 'sqrt', 'min_samples_leaf': 30, 'min_samples_split': 66}\n"
     ]
    }
   ],
   "source": [
    "param_distributions = {\n",
    "    \"max_depth\": randint(6, 10),\n",
    "    \"min_samples_split\": randint(20, 100),\n",
    "    \"min_samples_leaf\": randint(10, 100),\n",
    "    \"max_features\": [None, \"sqrt\"]\n",
    "}\n",
    "random_search = RandomizedSearchCV(estimator=model, param_distributions=param_distributions, n_iter=100, cv=5, random_state=38)\n",
    "random_search.fit(x_train, y_train.ravel())\n",
    "print(random_search.best_params_)\n"
   ]
  },
  {
   "cell_type": "markdown",
   "id": "3407105e-7f3e-4a27-a062-7885bc83b3bc",
   "metadata": {},
   "source": [
    "In the scaled values:"
   ]
  },
  {
   "cell_type": "code",
   "execution_count": 71,
   "id": "a7db4508-4dc6-4ad9-97de-a593fc2dc7f3",
   "metadata": {},
   "outputs": [
    {
     "name": "stdout",
     "output_type": "stream",
     "text": [
      "MAE: 0.18111033589630157\n",
      "MSE: 0.07052576114353447\n",
      "RMSE: 0.2655668675560535\n",
      "R2-score: 0.9298039446356807\n"
     ]
    }
   ],
   "source": [
    "y_pred_train = random_search.predict(x_train)\n",
    "mae_train = mean_absolute_error(y_train, y_pred_train)\n",
    "mse_train = mean_squared_error(y_train, y_pred_train)\n",
    "rmse_train = mse_train ** (0.5)\n",
    "r2_train = r2_score(y_train, y_pred_train)\n",
    "print(f\"MAE: {mae_train}\\nMSE: {mse_train}\\nRMSE: {rmse_train}\\nR2-score: {r2_train}\")"
   ]
  },
  {
   "cell_type": "code",
   "execution_count": 72,
   "id": "53a70e31-1266-4626-93b7-e127bc2ccefa",
   "metadata": {},
   "outputs": [
    {
     "name": "stdout",
     "output_type": "stream",
     "text": [
      "MAE: 0.2451198254326184\n",
      "MSE: 0.13711995603003696\n",
      "RMSE: 0.370297118581872\n",
      "R2-score: 0.8660283259581041\n"
     ]
    }
   ],
   "source": [
    "y_pred_val = random_search.predict(x_val)\n",
    "mae_val = mean_absolute_error(y_val, y_pred_val)\n",
    "mse_val = mean_squared_error(y_val, y_pred_val)\n",
    "rmse_val = mse_val ** (0.5)\n",
    "r2_val = r2_score(y_val, y_pred_val)\n",
    "print(f\"MAE: {mae_val}\\nMSE: {mse_val}\\nRMSE: {rmse_val}\\nR2-score: {r2_val}\")"
   ]
  },
  {
   "cell_type": "code",
   "execution_count": 73,
   "id": "38a15265-ff86-4b51-a061-0af77b6c7347",
   "metadata": {},
   "outputs": [
    {
     "name": "stdout",
     "output_type": "stream",
     "text": [
      "MAE: 0.23308161146287987\n",
      "MSE: 0.11611355052739405\n",
      "RMSE: 0.34075438445806394\n",
      "R2-score: 0.8758522954767418\n"
     ]
    }
   ],
   "source": [
    "y_pred_test = random_search.predict(x_test)\n",
    "mae_test = mean_absolute_error(y_test, y_pred_test)\n",
    "mse_test = mean_squared_error(y_test, y_pred_test)\n",
    "rmse_test = mse_test ** (0.5)\n",
    "r2_test = r2_score(y_test, y_pred_test)\n",
    "print(f\"MAE: {mae_test}\\nMSE: {mse_test}\\nRMSE: {rmse_test}\\nR2-score: {r2_test}\")"
   ]
  },
  {
   "cell_type": "markdown",
   "id": "81f4e7ee-02af-4db2-a7b1-cc52b29d61d7",
   "metadata": {},
   "source": [
    "In the original values:"
   ]
  },
  {
   "cell_type": "code",
   "execution_count": 74,
   "id": "eff96d46-5379-4baf-9c86-970c715db2b6",
   "metadata": {},
   "outputs": [
    {
     "name": "stdout",
     "output_type": "stream",
     "text": [
      "MAE: 1.1183939483674321\n",
      "MSE: 2.689372295831169\n",
      "RMSE: 1.6399305765279117\n",
      "R2-score: 0.9298039446356807\n"
     ]
    }
   ],
   "source": [
    "y_train_original = scaler.inverse_transform(y_train.reshape(-1, 1))\n",
    "y_pred_train_original = scaler.inverse_transform(y_pred_train.reshape(-1, 1))\n",
    "mae_train = mean_absolute_error(y_train_original, y_pred_train_original)\n",
    "mse_train = mean_squared_error(y_train_original, y_pred_train_original)\n",
    "rmse_train = mse_train ** (0.5)\n",
    "r2_train = r2_score(y_train_original, y_pred_train_original)\n",
    "print(f\"MAE: {mae_train}\\nMSE: {mse_train}\\nRMSE: {rmse_train}\\nR2-score: {r2_train}\")"
   ]
  },
  {
   "cell_type": "code",
   "execution_count": 75,
   "id": "0b60157a-6bc7-4e16-a4ce-3e0f0a51164e",
   "metadata": {},
   "outputs": [
    {
     "name": "stdout",
     "output_type": "stream",
     "text": [
      "MAE: 1.5136658437080395\n",
      "MSE: 5.228821426007065\n",
      "RMSE: 2.2866616334751115\n",
      "R2-score: 0.8660283259581041\n"
     ]
    }
   ],
   "source": [
    "y_val_original = scaler.inverse_transform(y_val.reshape(-1, 1))\n",
    "y_pred_val_original = scaler.inverse_transform(y_pred_val.reshape(-1, 1))\n",
    "mae_val = mean_absolute_error(y_val_original, y_pred_val_original)\n",
    "mse_val = mean_squared_error(y_val_original, y_pred_val_original)\n",
    "rmse_val = mse_val ** (0.5)\n",
    "r2_val = r2_score(y_val_original, y_pred_val_original)\n",
    "print(f\"MAE: {mae_val}\\nMSE: {mse_val}\\nRMSE: {rmse_val}\\nR2-score: {r2_val}\")"
   ]
  },
  {
   "cell_type": "code",
   "execution_count": 76,
   "id": "d94bf93d-b5b2-41af-92e6-383f995b6fa0",
   "metadata": {},
   "outputs": [
    {
     "name": "stdout",
     "output_type": "stream",
     "text": [
      "MAE: 1.4393273716032964\n",
      "MSE: 4.427780159981926\n",
      "RMSE: 2.1042291129964736\n",
      "R2-score: 0.8758522954767418\n"
     ]
    }
   ],
   "source": [
    "y_test_original = scaler.inverse_transform(y_test.reshape(-1, 1))\n",
    "y_pred_test_original = scaler.inverse_transform(y_pred_test.reshape(-1, 1))\n",
    "mae_test = mean_absolute_error(y_test_original, y_pred_test_original)\n",
    "mse_test = mean_squared_error(y_test_original, y_pred_test_original)\n",
    "rmse_test = mse_test ** (0.5)\n",
    "r2_test = r2_score(y_test_original, y_pred_test_original)\n",
    "print(f\"MAE: {mae_test}\\nMSE: {mse_test}\\nRMSE: {rmse_test}\\nR2-score: {r2_test}\")"
   ]
  },
  {
   "cell_type": "code",
   "execution_count": 77,
   "id": "2f2325da-e46b-460f-b81b-1b8d37d9e191",
   "metadata": {},
   "outputs": [
    {
     "data": {
      "text/html": [
       "<div>\n",
       "<style scoped>\n",
       "    .dataframe tbody tr th:only-of-type {\n",
       "        vertical-align: middle;\n",
       "    }\n",
       "\n",
       "    .dataframe tbody tr th {\n",
       "        vertical-align: top;\n",
       "    }\n",
       "\n",
       "    .dataframe thead th {\n",
       "        text-align: right;\n",
       "    }\n",
       "</style>\n",
       "<table border=\"1\" class=\"dataframe\">\n",
       "  <thead>\n",
       "    <tr style=\"text-align: right;\">\n",
       "      <th></th>\n",
       "      <th>train</th>\n",
       "      <th>val</th>\n",
       "      <th>test</th>\n",
       "    </tr>\n",
       "  </thead>\n",
       "  <tbody>\n",
       "    <tr>\n",
       "      <th>MAE</th>\n",
       "      <td>1.1184</td>\n",
       "      <td>1.5137</td>\n",
       "      <td>1.4393</td>\n",
       "    </tr>\n",
       "    <tr>\n",
       "      <th>MSE</th>\n",
       "      <td>2.6894</td>\n",
       "      <td>5.2288</td>\n",
       "      <td>4.4278</td>\n",
       "    </tr>\n",
       "    <tr>\n",
       "      <th>RMSE</th>\n",
       "      <td>1.6399</td>\n",
       "      <td>2.2867</td>\n",
       "      <td>2.1042</td>\n",
       "    </tr>\n",
       "    <tr>\n",
       "      <th>R2</th>\n",
       "      <td>0.9298</td>\n",
       "      <td>0.8660</td>\n",
       "      <td>0.8759</td>\n",
       "    </tr>\n",
       "  </tbody>\n",
       "</table>\n",
       "</div>"
      ],
      "text/plain": [
       "       train     val    test\n",
       "MAE   1.1184  1.5137  1.4393\n",
       "MSE   2.6894  5.2288  4.4278\n",
       "RMSE  1.6399  2.2867  2.1042\n",
       "R2    0.9298  0.8660  0.8759"
      ]
     },
     "execution_count": 77,
     "metadata": {},
     "output_type": "execute_result"
    }
   ],
   "source": [
    "df_metrics_rs = pd.DataFrame(\n",
    "    index=[\"MAE\", \"MSE\", \"RMSE\", \"R2\"],\n",
    "    columns=[\"train\", \"val\", \"test\"],\n",
    "    data={\n",
    "        \"train\": [mae_train, mse_train, rmse_train, r2_train],\n",
    "        \"val\": [mae_val, mse_val, rmse_val, r2_val],\n",
    "        \"test\": [mae_test, mse_test, rmse_test, r2_test]\n",
    "    }\n",
    ")\n",
    "df_metrics_rs.round(4)"
   ]
  },
  {
   "cell_type": "markdown",
   "id": "80030fdf-18fe-4d56-9c9f-9f97f5710af4",
   "metadata": {},
   "source": [
    "### Estimate Hyperparameters Using GridSearchCV"
   ]
  },
  {
   "cell_type": "markdown",
   "id": "90435cef-c998-48a1-9f89-b48d00e2e104",
   "metadata": {},
   "source": [
    "Check the hyperparameters in a more narrow range:"
   ]
  },
  {
   "cell_type": "code",
   "execution_count": 78,
   "id": "85cab153-6a8c-4482-9f5f-64eaf197e0b1",
   "metadata": {},
   "outputs": [
    {
     "name": "stdout",
     "output_type": "stream",
     "text": [
      "{'max_depth': 9, 'min_samples_leaf': 31, 'min_samples_split': 70}\n"
     ]
    }
   ],
   "source": [
    "param_grid = {\n",
    "    \"max_depth\": [8, 9],\n",
    "    \"min_samples_split\": [65, 66, 70],\n",
    "    \"min_samples_leaf\": [29, 30, 31]\n",
    "}\n",
    "grid_search = GridSearchCV(model, param_grid, cv=5)\n",
    "grid_search.fit(x_train, y_train.ravel())\n",
    "print(grid_search.best_params_)"
   ]
  },
  {
   "cell_type": "markdown",
   "id": "4d72b93d-b5c2-4cc5-9388-ca0716a144ba",
   "metadata": {},
   "source": [
    "In the scaled values:"
   ]
  },
  {
   "cell_type": "code",
   "execution_count": 79,
   "id": "e29ae5e3-54bc-4823-ad8b-8998f368aa38",
   "metadata": {},
   "outputs": [
    {
     "name": "stdout",
     "output_type": "stream",
     "text": [
      "MAE: 0.1775520115028197\n",
      "MSE: 0.06755227841265893\n",
      "RMSE: 0.2599082115144863\n",
      "R2-score: 0.9327635264256111\n"
     ]
    }
   ],
   "source": [
    "y_pred_train = grid_search.predict(x_train)\n",
    "mae_train = mean_absolute_error(y_train, y_pred_train) \n",
    "mse_train = mean_squared_error(y_train, y_pred_train)\n",
    "rmse_train = mse_train ** (0.5)\n",
    "r2_train = r2_score(y_train, y_pred_train)\n",
    "print(f\"MAE: {mae_train}\\nMSE: {mse_train}\\nRMSE: {rmse_train}\\nR2-score: {r2_train}\")"
   ]
  },
  {
   "cell_type": "code",
   "execution_count": 80,
   "id": "46f0cbf5-aa48-4910-b1b4-7821a5d7cbb8",
   "metadata": {},
   "outputs": [
    {
     "name": "stdout",
     "output_type": "stream",
     "text": [
      "MAE: 0.24522261431034295\n",
      "MSE: 0.13658872469473027\n",
      "RMSE: 0.3695791183153213\n",
      "R2-score: 0.8665473601917423\n"
     ]
    }
   ],
   "source": [
    "y_pred_val = grid_search.predict(x_val)\n",
    "mae_val = mean_absolute_error(y_val, y_pred_val)\n",
    "mse_val = mean_squared_error(y_val, y_pred_val)\n",
    "rmse_val = mse_val ** (0.5)\n",
    "r2_val = r2_score(y_val, y_pred_val)\n",
    "print(f\"MAE: {mae_val}\\nMSE: {mse_val}\\nRMSE: {rmse_val}\\nR2-score: {r2_val}\")"
   ]
  },
  {
   "cell_type": "code",
   "execution_count": 81,
   "id": "e0555450-2022-4283-8439-c9b22c0baa1b",
   "metadata": {},
   "outputs": [
    {
     "name": "stdout",
     "output_type": "stream",
     "text": [
      "MAE: 0.23153441413502496\n",
      "MSE: 0.11459042127275963\n",
      "RMSE: 0.33851206961164565\n",
      "R2-score: 0.8774808134214279\n"
     ]
    }
   ],
   "source": [
    "y_pred_test = grid_search.predict(x_test)\n",
    "mae_test = mean_absolute_error(y_test, y_pred_test)\n",
    "mse_test = mean_squared_error(y_test, y_pred_test)\n",
    "rmse_test = mse_test ** (0.5)\n",
    "r2_test = r2_score(y_test, y_pred_test)\n",
    "print(f\"MAE: {mae_test}\\nMSE: {mse_test}\\nRMSE: {rmse_test}\\nR2-score: {r2_test}\")"
   ]
  },
  {
   "cell_type": "markdown",
   "id": "3af96f3f-9c93-48bb-a268-84a15822c1f0",
   "metadata": {},
   "source": [
    "In the original values:"
   ]
  },
  {
   "cell_type": "code",
   "execution_count": 82,
   "id": "14ee9626-f97a-449b-a23a-525000fa8fb3",
   "metadata": {},
   "outputs": [
    {
     "name": "stdout",
     "output_type": "stream",
     "text": [
      "MAE: 1.0964205560245623\n",
      "MSE: 2.5759839119429904\n",
      "RMSE: 1.6049871999311989\n",
      "R2-score: 0.9327635264256111\n"
     ]
    }
   ],
   "source": [
    "y_train_original = scaler.inverse_transform(y_train.reshape(-1, 1))\n",
    "y_pred_train_original = scaler.inverse_transform(y_pred_train.reshape(-1, 1))\n",
    "mae_train = mean_absolute_error(y_train_original, y_pred_train_original)\n",
    "mse_train = mean_squared_error(y_train_original, y_pred_train_original)\n",
    "rmse_train = mse_train ** (0.5)\n",
    "r2_train = r2_score(y_train_original, y_pred_train_original)\n",
    "print(f\"MAE: {mae_train}\\nMSE: {mse_train}\\nRMSE: {rmse_train}\\nR2-score: {r2_train}\")"
   ]
  },
  {
   "cell_type": "code",
   "execution_count": 83,
   "id": "919dc4ba-cff6-4cd1-8892-8df8f0211a34",
   "metadata": {},
   "outputs": [
    {
     "name": "stdout",
     "output_type": "stream",
     "text": [
      "MAE: 1.5143005863815466\n",
      "MSE: 5.208563880215483\n",
      "RMSE: 2.2822278326704115\n",
      "R2-score: 0.8665473601917423\n"
     ]
    }
   ],
   "source": [
    "y_val_original = scaler.inverse_transform(y_val.reshape(-1, 1))\n",
    "y_pred_val_original = scaler.inverse_transform(y_pred_val.reshape(-1, 1))\n",
    "mae_val = mean_absolute_error(y_val_original, y_pred_val_original)\n",
    "mse_val = mean_squared_error(y_val_original, y_pred_val_original)\n",
    "rmse_val = mse_val ** (0.5)\n",
    "r2_val = r2_score(y_val_original, y_pred_val_original)\n",
    "print(f\"MAE: {mae_val}\\nMSE: {mse_val}\\nRMSE: {rmse_val}\\nR2-score: {r2_val}\")"
   ]
  },
  {
   "cell_type": "code",
   "execution_count": 84,
   "id": "70302286-9bc3-41dc-b646-3a66f6884ed4",
   "metadata": {},
   "outputs": [
    {
     "name": "stdout",
     "output_type": "stream",
     "text": [
      "MAE: 1.4297731066860588\n",
      "MSE: 4.36969838172154\n",
      "RMSE: 2.0903823529970635\n",
      "R2-score: 0.8774808134214279\n"
     ]
    }
   ],
   "source": [
    "y_test_original = scaler.inverse_transform(y_test.reshape(-1, 1))\n",
    "y_pred_test_original = scaler.inverse_transform(y_pred_test.reshape(-1, 1))\n",
    "mae_test = mean_absolute_error(y_test_original, y_pred_test_original)\n",
    "mse_test = mean_squared_error(y_test_original, y_pred_test_original)\n",
    "rmse_test = mse_test ** (0.5)\n",
    "r2_test = r2_score(y_test_original, y_pred_test_original)\n",
    "print(f\"MAE: {mae_test}\\nMSE: {mse_test}\\nRMSE: {rmse_test}\\nR2-score: {r2_test}\")"
   ]
  },
  {
   "cell_type": "code",
   "execution_count": 85,
   "id": "6b347a9b-a005-42c9-b927-8b1b84c816fb",
   "metadata": {},
   "outputs": [
    {
     "data": {
      "text/html": [
       "<div>\n",
       "<style scoped>\n",
       "    .dataframe tbody tr th:only-of-type {\n",
       "        vertical-align: middle;\n",
       "    }\n",
       "\n",
       "    .dataframe tbody tr th {\n",
       "        vertical-align: top;\n",
       "    }\n",
       "\n",
       "    .dataframe thead th {\n",
       "        text-align: right;\n",
       "    }\n",
       "</style>\n",
       "<table border=\"1\" class=\"dataframe\">\n",
       "  <thead>\n",
       "    <tr style=\"text-align: right;\">\n",
       "      <th></th>\n",
       "      <th>train</th>\n",
       "      <th>val</th>\n",
       "      <th>test</th>\n",
       "    </tr>\n",
       "  </thead>\n",
       "  <tbody>\n",
       "    <tr>\n",
       "      <th>MAE</th>\n",
       "      <td>1.0964</td>\n",
       "      <td>1.5143</td>\n",
       "      <td>1.4298</td>\n",
       "    </tr>\n",
       "    <tr>\n",
       "      <th>MSE</th>\n",
       "      <td>2.5760</td>\n",
       "      <td>5.2086</td>\n",
       "      <td>4.3697</td>\n",
       "    </tr>\n",
       "    <tr>\n",
       "      <th>RMSE</th>\n",
       "      <td>1.6050</td>\n",
       "      <td>2.2822</td>\n",
       "      <td>2.0904</td>\n",
       "    </tr>\n",
       "    <tr>\n",
       "      <th>R2</th>\n",
       "      <td>0.9328</td>\n",
       "      <td>0.8665</td>\n",
       "      <td>0.8775</td>\n",
       "    </tr>\n",
       "  </tbody>\n",
       "</table>\n",
       "</div>"
      ],
      "text/plain": [
       "       train     val    test\n",
       "MAE   1.0964  1.5143  1.4298\n",
       "MSE   2.5760  5.2086  4.3697\n",
       "RMSE  1.6050  2.2822  2.0904\n",
       "R2    0.9328  0.8665  0.8775"
      ]
     },
     "execution_count": 85,
     "metadata": {},
     "output_type": "execute_result"
    }
   ],
   "source": [
    "df_metrics_gs = pd.DataFrame(\n",
    "    index=[\"MAE\", \"MSE\", \"RMSE\", \"R2\"],\n",
    "    columns=[\"train\", \"val\", \"test\"],\n",
    "    data={\n",
    "        \"train\": [mae_train, mse_train, rmse_train, r2_train],\n",
    "        \"val\": [mae_val, mse_val, rmse_val, r2_val],\n",
    "        \"test\": [mae_test, mse_test, rmse_test, r2_test]\n",
    "    }\n",
    ")\n",
    "df_metrics_gs.round(4)"
   ]
  },
  {
   "cell_type": "markdown",
   "id": "1cece2f2-2be0-4b50-86ab-b36c75771550",
   "metadata": {},
   "source": [
    "### Evaluate the Model with the New Hyperparameters"
   ]
  },
  {
   "cell_type": "markdown",
   "id": "12eafdb8-a8d9-4f87-a355-1dd662a5239a",
   "metadata": {},
   "source": [
    "Using approximate estimation of hyperparameters, manual settings help to decrease overfitting even more:"
   ]
  },
  {
   "cell_type": "code",
   "execution_count": 87,
   "id": "93843610-cdc2-4e32-bc17-b590df32914f",
   "metadata": {
    "scrolled": true
   },
   "outputs": [
    {
     "data": {
      "text/html": [
       "<style>#sk-container-id-6 {color: black;background-color: white;}#sk-container-id-6 pre{padding: 0;}#sk-container-id-6 div.sk-toggleable {background-color: white;}#sk-container-id-6 label.sk-toggleable__label {cursor: pointer;display: block;width: 100%;margin-bottom: 0;padding: 0.3em;box-sizing: border-box;text-align: center;}#sk-container-id-6 label.sk-toggleable__label-arrow:before {content: \"▸\";float: left;margin-right: 0.25em;color: #696969;}#sk-container-id-6 label.sk-toggleable__label-arrow:hover:before {color: black;}#sk-container-id-6 div.sk-estimator:hover label.sk-toggleable__label-arrow:before {color: black;}#sk-container-id-6 div.sk-toggleable__content {max-height: 0;max-width: 0;overflow: hidden;text-align: left;background-color: #f0f8ff;}#sk-container-id-6 div.sk-toggleable__content pre {margin: 0.2em;color: black;border-radius: 0.25em;background-color: #f0f8ff;}#sk-container-id-6 input.sk-toggleable__control:checked~div.sk-toggleable__content {max-height: 200px;max-width: 100%;overflow: auto;}#sk-container-id-6 input.sk-toggleable__control:checked~label.sk-toggleable__label-arrow:before {content: \"▾\";}#sk-container-id-6 div.sk-estimator input.sk-toggleable__control:checked~label.sk-toggleable__label {background-color: #d4ebff;}#sk-container-id-6 div.sk-label input.sk-toggleable__control:checked~label.sk-toggleable__label {background-color: #d4ebff;}#sk-container-id-6 input.sk-hidden--visually {border: 0;clip: rect(1px 1px 1px 1px);clip: rect(1px, 1px, 1px, 1px);height: 1px;margin: -1px;overflow: hidden;padding: 0;position: absolute;width: 1px;}#sk-container-id-6 div.sk-estimator {font-family: monospace;background-color: #f0f8ff;border: 1px dotted black;border-radius: 0.25em;box-sizing: border-box;margin-bottom: 0.5em;}#sk-container-id-6 div.sk-estimator:hover {background-color: #d4ebff;}#sk-container-id-6 div.sk-parallel-item::after {content: \"\";width: 100%;border-bottom: 1px solid gray;flex-grow: 1;}#sk-container-id-6 div.sk-label:hover label.sk-toggleable__label {background-color: #d4ebff;}#sk-container-id-6 div.sk-serial::before {content: \"\";position: absolute;border-left: 1px solid gray;box-sizing: border-box;top: 0;bottom: 0;left: 50%;z-index: 0;}#sk-container-id-6 div.sk-serial {display: flex;flex-direction: column;align-items: center;background-color: white;padding-right: 0.2em;padding-left: 0.2em;position: relative;}#sk-container-id-6 div.sk-item {position: relative;z-index: 1;}#sk-container-id-6 div.sk-parallel {display: flex;align-items: stretch;justify-content: center;background-color: white;position: relative;}#sk-container-id-6 div.sk-item::before, #sk-container-id-6 div.sk-parallel-item::before {content: \"\";position: absolute;border-left: 1px solid gray;box-sizing: border-box;top: 0;bottom: 0;left: 50%;z-index: -1;}#sk-container-id-6 div.sk-parallel-item {display: flex;flex-direction: column;z-index: 1;position: relative;background-color: white;}#sk-container-id-6 div.sk-parallel-item:first-child::after {align-self: flex-end;width: 50%;}#sk-container-id-6 div.sk-parallel-item:last-child::after {align-self: flex-start;width: 50%;}#sk-container-id-6 div.sk-parallel-item:only-child::after {width: 0;}#sk-container-id-6 div.sk-dashed-wrapped {border: 1px dashed gray;margin: 0 0.4em 0.5em 0.4em;box-sizing: border-box;padding-bottom: 0.4em;background-color: white;}#sk-container-id-6 div.sk-label label {font-family: monospace;font-weight: bold;display: inline-block;line-height: 1.2em;}#sk-container-id-6 div.sk-label-container {text-align: center;}#sk-container-id-6 div.sk-container {/* jupyter's `normalize.less` sets `[hidden] { display: none; }` but bootstrap.min.css set `[hidden] { display: none !important; }` so we also need the `!important` here to be able to override the default hidden behavior on the sphinx rendered scikit-learn.org. See: https://github.com/scikit-learn/scikit-learn/issues/21755 */display: inline-block !important;position: relative;}#sk-container-id-6 div.sk-text-repr-fallback {display: none;}</style><div id=\"sk-container-id-6\" class=\"sk-top-container\"><div class=\"sk-text-repr-fallback\"><pre>GradientBoostingRegressor(max_depth=5, min_samples_leaf=31,\n",
       "                          min_samples_split=70)</pre><b>In a Jupyter environment, please rerun this cell to show the HTML representation or trust the notebook. <br />On GitHub, the HTML representation is unable to render, please try loading this page with nbviewer.org.</b></div><div class=\"sk-container\" hidden><div class=\"sk-item\"><div class=\"sk-estimator sk-toggleable\"><input class=\"sk-toggleable__control sk-hidden--visually\" id=\"sk-estimator-id-6\" type=\"checkbox\" checked><label for=\"sk-estimator-id-6\" class=\"sk-toggleable__label sk-toggleable__label-arrow\">GradientBoostingRegressor</label><div class=\"sk-toggleable__content\"><pre>GradientBoostingRegressor(max_depth=5, min_samples_leaf=31,\n",
       "                          min_samples_split=70)</pre></div></div></div></div></div>"
      ],
      "text/plain": [
       "GradientBoostingRegressor(max_depth=5, min_samples_leaf=31,\n",
       "                          min_samples_split=70)"
      ]
     },
     "execution_count": 87,
     "metadata": {},
     "output_type": "execute_result"
    }
   ],
   "source": [
    "params = {\"max_depth\": 5, \"min_samples_leaf\": 31, \"min_samples_split\": 70}\n",
    "model =  GradientBoostingRegressor(**params)\n",
    "model.fit(x_train, y_train.ravel())"
   ]
  },
  {
   "cell_type": "markdown",
   "id": "b3659999-561e-4ade-b68a-3731c7789912",
   "metadata": {},
   "source": [
    "In the scaled values:"
   ]
  },
  {
   "cell_type": "code",
   "execution_count": 88,
   "id": "740ca673-0aca-49c1-bc71-9a5248f957d9",
   "metadata": {},
   "outputs": [
    {
     "name": "stdout",
     "output_type": "stream",
     "text": [
      "MAE: 0.2145395261313963\n",
      "MSE: 0.09707793119945474\n",
      "RMSE: 0.31157331592974186\n",
      "R2-score: 0.9033759051637653\n"
     ]
    }
   ],
   "source": [
    "y_pred_train = model.predict(x_train)\n",
    "mae_train = mean_absolute_error(y_train, y_pred_train)\n",
    "mse_train = mean_squared_error(y_train, y_pred_train)\n",
    "rmse_train = mse_train ** (0.5)\n",
    "r2_train = r2_score(y_train, y_pred_train)\n",
    "print(f\"MAE: {mae_train}\\nMSE: {mse_train}\\nRMSE: {rmse_train}\\nR2-score: {r2_train}\")"
   ]
  },
  {
   "cell_type": "code",
   "execution_count": 89,
   "id": "f9c23c9f-be10-4aeb-8f01-b3841da52cdb",
   "metadata": {},
   "outputs": [
    {
     "name": "stdout",
     "output_type": "stream",
     "text": [
      "MAE: 0.24793762880775047\n",
      "MSE: 0.14207537223076067\n",
      "RMSE: 0.37692886892722965\n",
      "R2-score: 0.8611866863951521\n"
     ]
    }
   ],
   "source": [
    "y_pred_val = model.predict(x_val)\n",
    "mae_val = mean_absolute_error(y_val, y_pred_val)\n",
    "mse_val = mean_squared_error(y_val, y_pred_val)\n",
    "rmse_val = mse_val ** (0.5)\n",
    "r2_val = r2_score(y_val, y_pred_val)\n",
    "print(f\"MAE: {mae_val}\\nMSE: {mse_val}\\nRMSE: {rmse_val}\\nR2-score: {r2_val}\")"
   ]
  },
  {
   "cell_type": "code",
   "execution_count": 90,
   "id": "fdfe74af-1bfc-4527-9f66-503531547580",
   "metadata": {},
   "outputs": [
    {
     "name": "stdout",
     "output_type": "stream",
     "text": [
      "MAE: 0.23602028362732275\n",
      "MSE: 0.11858527102301353\n",
      "RMSE: 0.3443621219341836\n",
      "R2-score: 0.8732095511599891\n"
     ]
    }
   ],
   "source": [
    "y_pred_test = model.predict(x_test)\n",
    "mae_test = mean_absolute_error(y_test, y_pred_test)\n",
    "mse_test = mean_squared_error(y_test, y_pred_test)\n",
    "rmse_test = mse_test ** (0.5)\n",
    "r2_test = r2_score(y_test, y_pred_test)\n",
    "print(f\"MAE: {mae_test}\\nMSE: {mse_test}\\nRMSE: {rmse_test}\\nR2-score: {r2_test}\")"
   ]
  },
  {
   "cell_type": "markdown",
   "id": "49a5cd63-f9be-4189-89f3-fd71b456ccd8",
   "metadata": {},
   "source": [
    "In the original values:"
   ]
  },
  {
   "cell_type": "code",
   "execution_count": 91,
   "id": "2b0182b4-d9d1-4404-bb4c-32a5d4bb7223",
   "metadata": {},
   "outputs": [
    {
     "name": "stdout",
     "output_type": "stream",
     "text": [
      "MAE: 1.324826142713095\n",
      "MSE: 3.701891258898559\n",
      "RMSE: 1.924029952703065\n",
      "R2-score: 0.9033759051637653\n"
     ]
    }
   ],
   "source": [
    "y_train_original = scaler.inverse_transform(y_train.reshape(-1, 1))\n",
    "y_pred_train_original = scaler.inverse_transform(y_pred_train.reshape(-1, 1))\n",
    "mae_train = mean_absolute_error(y_train_original, y_pred_train_original)\n",
    "mse_train = mean_squared_error(y_train_original, y_pred_train_original)\n",
    "rmse_train = mse_train ** (0.5)\n",
    "r2_train = r2_score(y_train_original, y_pred_train_original)\n",
    "print(f\"MAE: {mae_train}\\nMSE: {mse_train}\\nRMSE: {rmse_train}\\nR2-score: {r2_train}\")"
   ]
  },
  {
   "cell_type": "code",
   "execution_count": 92,
   "id": "46e4043b-23c6-4c01-96a8-0d08092dac98",
   "metadata": {},
   "outputs": [
    {
     "name": "stdout",
     "output_type": "stream",
     "text": [
      "MAE: 1.5310663649253462\n",
      "MSE: 5.417787256768055\n",
      "RMSE: 2.3276140695502026\n",
      "R2-score: 0.861186686395152\n"
     ]
    }
   ],
   "source": [
    "y_val_original = scaler.inverse_transform(y_val.reshape(-1, 1))\n",
    "y_pred_val_original = scaler.inverse_transform(y_pred_val.reshape(-1, 1))\n",
    "mae_val = mean_absolute_error(y_val_original, y_pred_val_original)\n",
    "mse_val = mean_squared_error(y_val_original, y_pred_val_original)\n",
    "rmse_val = mse_val ** (0.5)\n",
    "r2_val = r2_score(y_val_original, y_pred_val_original)\n",
    "print(f\"MAE: {mae_val}\\nMSE: {mse_val}\\nRMSE: {rmse_val}\\nR2-score: {r2_val}\")"
   ]
  },
  {
   "cell_type": "code",
   "execution_count": 93,
   "id": "83934709-00d5-41a1-bac6-808898a33d1a",
   "metadata": {},
   "outputs": [
    {
     "name": "stdout",
     "output_type": "stream",
     "text": [
      "MAE: 1.4574742827041105\n",
      "MSE: 4.52203474888921\n",
      "RMSE: 2.1265076413898\n",
      "R2-score: 0.8732095511599891\n"
     ]
    }
   ],
   "source": [
    "y_test_original = scaler.inverse_transform(y_test.reshape(-1, 1))\n",
    "y_pred_test_original = scaler.inverse_transform(y_pred_test.reshape(-1, 1))\n",
    "mae_test = mean_absolute_error(y_test_original, y_pred_test_original)\n",
    "mse_test = mean_squared_error(y_test_original, y_pred_test_original)\n",
    "rmse_test = mse_test ** (0.5)\n",
    "r2_test = r2_score(y_test_original, y_pred_test_original)\n",
    "print(f\"MAE: {mae_test}\\nMSE: {mse_test}\\nRMSE: {rmse_test}\\nR2-score: {r2_test}\")"
   ]
  },
  {
   "cell_type": "code",
   "execution_count": 94,
   "id": "e7e57d73-ab23-4282-88ad-5b0496394786",
   "metadata": {},
   "outputs": [
    {
     "data": {
      "text/html": [
       "<div>\n",
       "<style scoped>\n",
       "    .dataframe tbody tr th:only-of-type {\n",
       "        vertical-align: middle;\n",
       "    }\n",
       "\n",
       "    .dataframe tbody tr th {\n",
       "        vertical-align: top;\n",
       "    }\n",
       "\n",
       "    .dataframe thead th {\n",
       "        text-align: right;\n",
       "    }\n",
       "</style>\n",
       "<table border=\"1\" class=\"dataframe\">\n",
       "  <thead>\n",
       "    <tr style=\"text-align: right;\">\n",
       "      <th></th>\n",
       "      <th>train</th>\n",
       "      <th>val</th>\n",
       "      <th>test</th>\n",
       "    </tr>\n",
       "  </thead>\n",
       "  <tbody>\n",
       "    <tr>\n",
       "      <th>MAE</th>\n",
       "      <td>1.3248</td>\n",
       "      <td>1.5311</td>\n",
       "      <td>1.4575</td>\n",
       "    </tr>\n",
       "    <tr>\n",
       "      <th>MSE</th>\n",
       "      <td>3.7019</td>\n",
       "      <td>5.4178</td>\n",
       "      <td>4.5220</td>\n",
       "    </tr>\n",
       "    <tr>\n",
       "      <th>RMSE</th>\n",
       "      <td>1.9240</td>\n",
       "      <td>2.3276</td>\n",
       "      <td>2.1265</td>\n",
       "    </tr>\n",
       "    <tr>\n",
       "      <th>R2</th>\n",
       "      <td>0.9034</td>\n",
       "      <td>0.8612</td>\n",
       "      <td>0.8732</td>\n",
       "    </tr>\n",
       "  </tbody>\n",
       "</table>\n",
       "</div>"
      ],
      "text/plain": [
       "       train     val    test\n",
       "MAE   1.3248  1.5311  1.4575\n",
       "MSE   3.7019  5.4178  4.5220\n",
       "RMSE  1.9240  2.3276  2.1265\n",
       "R2    0.9034  0.8612  0.8732"
      ]
     },
     "execution_count": 94,
     "metadata": {},
     "output_type": "execute_result"
    }
   ],
   "source": [
    "df_metrics_gb = pd.DataFrame(\n",
    "    index=[\"MAE\", \"MSE\", \"RMSE\", \"R2\"],\n",
    "    columns=[\"train\", \"val\", \"test\"],\n",
    "    data={\n",
    "        \"train\": [mae_train, mse_train, rmse_train, r2_train],\n",
    "        \"val\": [mae_val, mse_val, rmse_val, r2_val],\n",
    "        \"test\": [mae_test, mse_test, rmse_test, r2_test]\n",
    "    }\n",
    ")\n",
    "df_metrics_gb.round(4)"
   ]
  },
  {
   "cell_type": "markdown",
   "id": "a8c4675c-7404-4fef-9c2c-6e26092657e0",
   "metadata": {},
   "source": [
    "## XGBoost"
   ]
  },
  {
   "cell_type": "markdown",
   "id": "a411719d-8c70-408e-b417-781fdf017f3e",
   "metadata": {},
   "source": [
    "### Build and Train the Model"
   ]
  },
  {
   "cell_type": "markdown",
   "id": "4dbcbc80-4a35-4714-ae75-2a80613685a2",
   "metadata": {},
   "source": [
    "Built and train the model using XGBoost regression:"
   ]
  },
  {
   "cell_type": "code",
   "execution_count": 95,
   "id": "6f63000b-ced7-4a3a-b3f5-9600cd8018f9",
   "metadata": {},
   "outputs": [
    {
     "data": {
      "text/html": [
       "<style>#sk-container-id-7 {color: black;background-color: white;}#sk-container-id-7 pre{padding: 0;}#sk-container-id-7 div.sk-toggleable {background-color: white;}#sk-container-id-7 label.sk-toggleable__label {cursor: pointer;display: block;width: 100%;margin-bottom: 0;padding: 0.3em;box-sizing: border-box;text-align: center;}#sk-container-id-7 label.sk-toggleable__label-arrow:before {content: \"▸\";float: left;margin-right: 0.25em;color: #696969;}#sk-container-id-7 label.sk-toggleable__label-arrow:hover:before {color: black;}#sk-container-id-7 div.sk-estimator:hover label.sk-toggleable__label-arrow:before {color: black;}#sk-container-id-7 div.sk-toggleable__content {max-height: 0;max-width: 0;overflow: hidden;text-align: left;background-color: #f0f8ff;}#sk-container-id-7 div.sk-toggleable__content pre {margin: 0.2em;color: black;border-radius: 0.25em;background-color: #f0f8ff;}#sk-container-id-7 input.sk-toggleable__control:checked~div.sk-toggleable__content {max-height: 200px;max-width: 100%;overflow: auto;}#sk-container-id-7 input.sk-toggleable__control:checked~label.sk-toggleable__label-arrow:before {content: \"▾\";}#sk-container-id-7 div.sk-estimator input.sk-toggleable__control:checked~label.sk-toggleable__label {background-color: #d4ebff;}#sk-container-id-7 div.sk-label input.sk-toggleable__control:checked~label.sk-toggleable__label {background-color: #d4ebff;}#sk-container-id-7 input.sk-hidden--visually {border: 0;clip: rect(1px 1px 1px 1px);clip: rect(1px, 1px, 1px, 1px);height: 1px;margin: -1px;overflow: hidden;padding: 0;position: absolute;width: 1px;}#sk-container-id-7 div.sk-estimator {font-family: monospace;background-color: #f0f8ff;border: 1px dotted black;border-radius: 0.25em;box-sizing: border-box;margin-bottom: 0.5em;}#sk-container-id-7 div.sk-estimator:hover {background-color: #d4ebff;}#sk-container-id-7 div.sk-parallel-item::after {content: \"\";width: 100%;border-bottom: 1px solid gray;flex-grow: 1;}#sk-container-id-7 div.sk-label:hover label.sk-toggleable__label {background-color: #d4ebff;}#sk-container-id-7 div.sk-serial::before {content: \"\";position: absolute;border-left: 1px solid gray;box-sizing: border-box;top: 0;bottom: 0;left: 50%;z-index: 0;}#sk-container-id-7 div.sk-serial {display: flex;flex-direction: column;align-items: center;background-color: white;padding-right: 0.2em;padding-left: 0.2em;position: relative;}#sk-container-id-7 div.sk-item {position: relative;z-index: 1;}#sk-container-id-7 div.sk-parallel {display: flex;align-items: stretch;justify-content: center;background-color: white;position: relative;}#sk-container-id-7 div.sk-item::before, #sk-container-id-7 div.sk-parallel-item::before {content: \"\";position: absolute;border-left: 1px solid gray;box-sizing: border-box;top: 0;bottom: 0;left: 50%;z-index: -1;}#sk-container-id-7 div.sk-parallel-item {display: flex;flex-direction: column;z-index: 1;position: relative;background-color: white;}#sk-container-id-7 div.sk-parallel-item:first-child::after {align-self: flex-end;width: 50%;}#sk-container-id-7 div.sk-parallel-item:last-child::after {align-self: flex-start;width: 50%;}#sk-container-id-7 div.sk-parallel-item:only-child::after {width: 0;}#sk-container-id-7 div.sk-dashed-wrapped {border: 1px dashed gray;margin: 0 0.4em 0.5em 0.4em;box-sizing: border-box;padding-bottom: 0.4em;background-color: white;}#sk-container-id-7 div.sk-label label {font-family: monospace;font-weight: bold;display: inline-block;line-height: 1.2em;}#sk-container-id-7 div.sk-label-container {text-align: center;}#sk-container-id-7 div.sk-container {/* jupyter's `normalize.less` sets `[hidden] { display: none; }` but bootstrap.min.css set `[hidden] { display: none !important; }` so we also need the `!important` here to be able to override the default hidden behavior on the sphinx rendered scikit-learn.org. See: https://github.com/scikit-learn/scikit-learn/issues/21755 */display: inline-block !important;position: relative;}#sk-container-id-7 div.sk-text-repr-fallback {display: none;}</style><div id=\"sk-container-id-7\" class=\"sk-top-container\"><div class=\"sk-text-repr-fallback\"><pre>XGBRegressor(base_score=None, booster=None, callbacks=None,\n",
       "             colsample_bylevel=None, colsample_bynode=None,\n",
       "             colsample_bytree=None, device=None, early_stopping_rounds=None,\n",
       "             enable_categorical=False, eval_metric=None, feature_types=None,\n",
       "             gamma=None, grow_policy=None, importance_type=None,\n",
       "             interaction_constraints=None, learning_rate=None, max_bin=None,\n",
       "             max_cat_threshold=None, max_cat_to_onehot=None,\n",
       "             max_delta_step=None, max_depth=None, max_leaves=None,\n",
       "             min_child_weight=None, missing=nan, monotone_constraints=None,\n",
       "             multi_strategy=None, n_estimators=None, n_jobs=None,\n",
       "             num_parallel_tree=None, random_state=None, ...)</pre><b>In a Jupyter environment, please rerun this cell to show the HTML representation or trust the notebook. <br />On GitHub, the HTML representation is unable to render, please try loading this page with nbviewer.org.</b></div><div class=\"sk-container\" hidden><div class=\"sk-item\"><div class=\"sk-estimator sk-toggleable\"><input class=\"sk-toggleable__control sk-hidden--visually\" id=\"sk-estimator-id-7\" type=\"checkbox\" checked><label for=\"sk-estimator-id-7\" class=\"sk-toggleable__label sk-toggleable__label-arrow\">XGBRegressor</label><div class=\"sk-toggleable__content\"><pre>XGBRegressor(base_score=None, booster=None, callbacks=None,\n",
       "             colsample_bylevel=None, colsample_bynode=None,\n",
       "             colsample_bytree=None, device=None, early_stopping_rounds=None,\n",
       "             enable_categorical=False, eval_metric=None, feature_types=None,\n",
       "             gamma=None, grow_policy=None, importance_type=None,\n",
       "             interaction_constraints=None, learning_rate=None, max_bin=None,\n",
       "             max_cat_threshold=None, max_cat_to_onehot=None,\n",
       "             max_delta_step=None, max_depth=None, max_leaves=None,\n",
       "             min_child_weight=None, missing=nan, monotone_constraints=None,\n",
       "             multi_strategy=None, n_estimators=None, n_jobs=None,\n",
       "             num_parallel_tree=None, random_state=None, ...)</pre></div></div></div></div></div>"
      ],
      "text/plain": [
       "XGBRegressor(base_score=None, booster=None, callbacks=None,\n",
       "             colsample_bylevel=None, colsample_bynode=None,\n",
       "             colsample_bytree=None, device=None, early_stopping_rounds=None,\n",
       "             enable_categorical=False, eval_metric=None, feature_types=None,\n",
       "             gamma=None, grow_policy=None, importance_type=None,\n",
       "             interaction_constraints=None, learning_rate=None, max_bin=None,\n",
       "             max_cat_threshold=None, max_cat_to_onehot=None,\n",
       "             max_delta_step=None, max_depth=None, max_leaves=None,\n",
       "             min_child_weight=None, missing=nan, monotone_constraints=None,\n",
       "             multi_strategy=None, n_estimators=None, n_jobs=None,\n",
       "             num_parallel_tree=None, random_state=None, ...)"
      ]
     },
     "execution_count": 95,
     "metadata": {},
     "output_type": "execute_result"
    }
   ],
   "source": [
    "model = XGBRegressor()\n",
    "model.fit(x_train, y_train)"
   ]
  },
  {
   "cell_type": "markdown",
   "id": "67652099-fd52-4821-90af-8e8fb106d058",
   "metadata": {},
   "source": [
    "### Evaluate the Model"
   ]
  },
  {
   "cell_type": "markdown",
   "id": "7c60dfff-1256-4e8d-b8c4-1fea854ba577",
   "metadata": {},
   "source": [
    "In the scaled values:"
   ]
  },
  {
   "cell_type": "code",
   "execution_count": 96,
   "id": "a9ca912a-d510-4d71-8cb9-20ddfb681c3a",
   "metadata": {},
   "outputs": [
    {
     "name": "stdout",
     "output_type": "stream",
     "text": [
      "MAE: 0.1454748973354826\n",
      "MSE: 0.042982169874809135\n",
      "RMSE: 0.20732141682616664\n",
      "R2-score: 0.957218770456513\n"
     ]
    }
   ],
   "source": [
    "y_pred_train = model.predict(x_train)\n",
    "mae_train = mean_absolute_error(y_train, y_pred_train)\n",
    "mse_train = mean_squared_error(y_train, y_pred_train)\n",
    "rmse_train = mse_train ** (0.5)\n",
    "r2_train = r2_score(y_train, y_pred_train)\n",
    "print(f\"MAE: {mae_train}\\nMSE: {mse_train}\\nRMSE: {rmse_train}\\nR2-score: {r2_train}\")"
   ]
  },
  {
   "cell_type": "code",
   "execution_count": 97,
   "id": "046f18e2-648d-4aa0-be7a-e8516b1ea125",
   "metadata": {},
   "outputs": [
    {
     "name": "stdout",
     "output_type": "stream",
     "text": [
      "MAE: 0.25669734306402314\n",
      "MSE: 0.14599423419327437\n",
      "RMSE: 0.38209191851343094\n",
      "R2-score: 0.8573578017261542\n"
     ]
    }
   ],
   "source": [
    "y_pred_val = model.predict(x_val)\n",
    "mae_val = mean_absolute_error(y_val, y_pred_val)\n",
    "mse_val = mean_squared_error(y_val, y_pred_val)\n",
    "rmse_val = mse_val ** (0.5)\n",
    "r2_val = r2_score(y_val, y_pred_val)\n",
    "print(f\"MAE: {mae_val}\\nMSE: {mse_val}\\nRMSE: {rmse_val}\\nR2-score: {r2_val}\")"
   ]
  },
  {
   "cell_type": "code",
   "execution_count": 98,
   "id": "b779edfe-62a4-44c6-b4e8-f2de46e0bc89",
   "metadata": {},
   "outputs": [
    {
     "name": "stdout",
     "output_type": "stream",
     "text": [
      "MAE: 0.23648303200784174\n",
      "MSE: 0.12141436886662976\n",
      "RMSE: 0.3484456469331046\n",
      "R2-score: 0.8701847017641919\n"
     ]
    }
   ],
   "source": [
    "y_pred_test = model.predict(x_test)\n",
    "mae_test = mean_absolute_error(y_test, y_pred_test)\n",
    "mse_test = mean_squared_error(y_test, y_pred_test)\n",
    "rmse_test = mse_test ** (0.5)\n",
    "r2_test = r2_score(y_test, y_pred_test)\n",
    "print(f\"MAE: {mae_test}\\nMSE: {mse_test}\\nRMSE: {rmse_test}\\nR2-score: {r2_test}\")"
   ]
  },
  {
   "cell_type": "markdown",
   "id": "d4a79ec7-6de4-4b5e-9708-80705ad54380",
   "metadata": {},
   "source": [
    "In the original values:"
   ]
  },
  {
   "cell_type": "code",
   "execution_count": 99,
   "id": "7f23f39a-f99b-43c1-a720-2ac6c3bb7a4d",
   "metadata": {},
   "outputs": [
    {
     "name": "stdout",
     "output_type": "stream",
     "text": [
      "MAE: 0.8983377189470861\n",
      "MSE: 1.6390473061021904\n",
      "RMSE: 1.280252828976445\n",
      "R2-score: 0.9572187697396022\n"
     ]
    }
   ],
   "source": [
    "y_train_original = scaler.inverse_transform(y_train.reshape(-1, 1))\n",
    "y_pred_train_original = scaler.inverse_transform(y_pred_train.reshape(-1, 1))\n",
    "mae_train = mean_absolute_error(y_train_original, y_pred_train_original)\n",
    "mse_train = mean_squared_error(y_train_original, y_pred_train_original)\n",
    "rmse_train = mse_train ** (0.5)\n",
    "r2_train = r2_score(y_train_original, y_pred_train_original)\n",
    "print(f\"MAE: {mae_train}\\nMSE: {mse_train}\\nRMSE: {rmse_train}\\nR2-score: {r2_train}\")"
   ]
  },
  {
   "cell_type": "code",
   "execution_count": 100,
   "id": "a1aef910-1e04-42a5-81d8-a4e918d6e09d",
   "metadata": {},
   "outputs": [
    {
     "name": "stdout",
     "output_type": "stream",
     "text": [
      "MAE: 1.5851594120092416\n",
      "MSE: 5.5672259555501205\n",
      "RMSE: 2.3594969708711475\n",
      "R2-score: 0.8573578020230643\n"
     ]
    }
   ],
   "source": [
    "y_val_original = scaler.inverse_transform(y_val.reshape(-1, 1))\n",
    "y_pred_val_original = scaler.inverse_transform(y_pred_val.reshape(-1, 1))\n",
    "mae_val = mean_absolute_error(y_val_original, y_pred_val_original)\n",
    "mse_val = mean_squared_error(y_val_original, y_pred_val_original)\n",
    "rmse_val = mse_val ** (0.5)\n",
    "r2_val = r2_score(y_val_original, y_pred_val_original)\n",
    "print(f\"MAE: {mae_val}\\nMSE: {mse_val}\\nRMSE: {rmse_val}\\nR2-score: {r2_val}\")"
   ]
  },
  {
   "cell_type": "code",
   "execution_count": 101,
   "id": "d18b21cc-6d98-49e3-9d3b-b0645aa63ae5",
   "metadata": {},
   "outputs": [
    {
     "name": "stdout",
     "output_type": "stream",
     "text": [
      "MAE: 1.4603318396668528\n",
      "MSE: 4.629917233151685\n",
      "RMSE: 2.151724246540826\n",
      "R2-score: 0.8701847029752257\n"
     ]
    }
   ],
   "source": [
    "y_test_original = scaler.inverse_transform(y_test.reshape(-1, 1))\n",
    "y_pred_test_original = scaler.inverse_transform(y_pred_test.reshape(-1, 1))\n",
    "mae_test = mean_absolute_error(y_test_original, y_pred_test_original)\n",
    "mse_test = mean_squared_error(y_test_original, y_pred_test_original)\n",
    "rmse_test = mse_test ** (0.5)\n",
    "r2_test = r2_score(y_test_original, y_pred_test_original)\n",
    "print(f\"MAE: {mae_test}\\nMSE: {mse_test}\\nRMSE: {rmse_test}\\nR2-score: {r2_test}\")"
   ]
  },
  {
   "cell_type": "code",
   "execution_count": 102,
   "id": "0e36927a-d3b5-4d98-84c5-e9be39052abf",
   "metadata": {},
   "outputs": [
    {
     "data": {
      "text/html": [
       "<div>\n",
       "<style scoped>\n",
       "    .dataframe tbody tr th:only-of-type {\n",
       "        vertical-align: middle;\n",
       "    }\n",
       "\n",
       "    .dataframe tbody tr th {\n",
       "        vertical-align: top;\n",
       "    }\n",
       "\n",
       "    .dataframe thead th {\n",
       "        text-align: right;\n",
       "    }\n",
       "</style>\n",
       "<table border=\"1\" class=\"dataframe\">\n",
       "  <thead>\n",
       "    <tr style=\"text-align: right;\">\n",
       "      <th></th>\n",
       "      <th>train</th>\n",
       "      <th>val</th>\n",
       "      <th>test</th>\n",
       "    </tr>\n",
       "  </thead>\n",
       "  <tbody>\n",
       "    <tr>\n",
       "      <th>MAE</th>\n",
       "      <td>0.8983</td>\n",
       "      <td>1.5852</td>\n",
       "      <td>1.4603</td>\n",
       "    </tr>\n",
       "    <tr>\n",
       "      <th>MSE</th>\n",
       "      <td>1.6390</td>\n",
       "      <td>5.5672</td>\n",
       "      <td>4.6299</td>\n",
       "    </tr>\n",
       "    <tr>\n",
       "      <th>RMSE</th>\n",
       "      <td>1.2803</td>\n",
       "      <td>2.3595</td>\n",
       "      <td>2.1517</td>\n",
       "    </tr>\n",
       "    <tr>\n",
       "      <th>R2</th>\n",
       "      <td>0.9572</td>\n",
       "      <td>0.8574</td>\n",
       "      <td>0.8702</td>\n",
       "    </tr>\n",
       "  </tbody>\n",
       "</table>\n",
       "</div>"
      ],
      "text/plain": [
       "       train     val    test\n",
       "MAE   0.8983  1.5852  1.4603\n",
       "MSE   1.6390  5.5672  4.6299\n",
       "RMSE  1.2803  2.3595  2.1517\n",
       "R2    0.9572  0.8574  0.8702"
      ]
     },
     "execution_count": 102,
     "metadata": {},
     "output_type": "execute_result"
    }
   ],
   "source": [
    "df_metrics_xgb = pd.DataFrame(\n",
    "    index=[\"MAE\", \"MSE\", \"RMSE\", \"R2\"],\n",
    "    columns=[\"train\", \"val\", \"test\"],\n",
    "    data={\n",
    "        \"train\": [mae_train, mse_train, rmse_train, r2_train],\n",
    "        \"val\": [mae_val, mse_val, rmse_val, r2_val],\n",
    "        \"test\": [mae_test, mse_test, rmse_test, r2_test]\n",
    "    }\n",
    ")\n",
    "df_metrics_xgb.round(4)"
   ]
  },
  {
   "cell_type": "markdown",
   "id": "30bd9a5a-3266-44c6-aa16-6e088905bafe",
   "metadata": {},
   "source": [
    "### Estimate Hyperparameters Using RandomizedSearchCV"
   ]
  },
  {
   "cell_type": "markdown",
   "id": "d9058ce5-2439-4308-91d9-10cccbfedff0",
   "metadata": {},
   "source": [
    "We can see significant overfitting. Use RandomizedSearchCV to estimate approximatelly good hyperparameters that reduce overfitting.\n",
    "\n",
    "XGBoost has more settings and works faster than GradientBoostedRegressor, so we can use more hyperparameters."
   ]
  },
  {
   "cell_type": "code",
   "execution_count": 103,
   "id": "c62e8c97-4ce1-4e24-b7f9-fa6c12999858",
   "metadata": {},
   "outputs": [
    {
     "name": "stdout",
     "output_type": "stream",
     "text": [
      "{'colsample_bytree': 0.9491515787947424, 'gamma': 0.003722285742570386, 'learning_rate': 0.04156013751659483, 'max_depth': 5, 'max_leaves': 82, 'n_estimators': 650, 'reg_alpha': 0.2847501424794141, 'reg_lambda': 0.702978329113069, 'subsample': 0.769618058989056}\n"
     ]
    }
   ],
   "source": [
    "param_distributions = {\n",
    "    \"learning_rate\": uniform(0.01, 0.6),\n",
    "    \"n_estimators\": randint(100, 1000),\n",
    "    \"max_depth\": randint(5, 10),\n",
    "    \"subsample\": uniform(0.5, 0.5),\n",
    "    \"colsample_bytree\": uniform(0.5, 0.5),\n",
    "    \"gamma\": uniform(0, 0.5),\n",
    "    \"reg_lambda\": uniform(0.1, 1),\n",
    "    \"reg_alpha\": uniform(0.1, 1),\n",
    "    \"max_leaves\": randint(1, 100)\n",
    "}\n",
    "random_search = RandomizedSearchCV(estimator=model, param_distributions=param_distributions, n_iter=1000, cv=5, random_state=38)\n",
    "random_search.fit(x_train, y_train.ravel())\n",
    "print(random_search.best_params_)\n"
   ]
  },
  {
   "cell_type": "markdown",
   "id": "23625d84-2cfe-4c69-9803-c69ed6439bf7",
   "metadata": {},
   "source": [
    "In the scaled values:"
   ]
  },
  {
   "cell_type": "code",
   "execution_count": 104,
   "id": "923f6a66-bb6d-4e48-8008-500b9bbcb399",
   "metadata": {},
   "outputs": [
    {
     "name": "stdout",
     "output_type": "stream",
     "text": [
      "MAE: 0.1758401922119549\n",
      "MSE: 0.06281546558517148\n",
      "RMSE: 0.2506301370250024\n",
      "R2-score: 0.9374781947978107\n"
     ]
    }
   ],
   "source": [
    "y_pred_train = random_search.predict(x_train)\n",
    "mae_train = mean_absolute_error(y_train, y_pred_train)\n",
    "mse_train = mean_squared_error(y_train, y_pred_train)\n",
    "rmse_train = mse_train ** (0.5)\n",
    "r2_train = r2_score(y_train, y_pred_train)\n",
    "print(f\"MAE: {mae_train}\\nMSE: {mse_train}\\nRMSE: {rmse_train}\\nR2-score: {r2_train}\")"
   ]
  },
  {
   "cell_type": "code",
   "execution_count": 105,
   "id": "3c369b2c-3c53-4839-8b08-4ac223e528ce",
   "metadata": {},
   "outputs": [
    {
     "name": "stdout",
     "output_type": "stream",
     "text": [
      "MAE: 0.24399735057471872\n",
      "MSE: 0.13536486764483047\n",
      "RMSE: 0.36791964835386337\n",
      "R2-score: 0.8677431174141785\n"
     ]
    }
   ],
   "source": [
    "y_pred_val = random_search.predict(x_val)\n",
    "mae_val = mean_absolute_error(y_val, y_pred_val)\n",
    "mse_val = mean_squared_error(y_val, y_pred_val)\n",
    "rmse_val = mse_val ** (0.5)\n",
    "r2_val = r2_score(y_val, y_pred_val)\n",
    "print(f\"MAE: {mae_val}\\nMSE: {mse_val}\\nRMSE: {rmse_val}\\nR2-score: {r2_val}\")"
   ]
  },
  {
   "cell_type": "code",
   "execution_count": 106,
   "id": "f9f912b5-a4f4-43a2-96bc-7f764d4e82e5",
   "metadata": {},
   "outputs": [
    {
     "name": "stdout",
     "output_type": "stream",
     "text": [
      "MAE: 0.22528416783697136\n",
      "MSE: 0.11147334794377094\n",
      "RMSE: 0.33387624645034414\n",
      "R2-score: 0.8808135639648998\n"
     ]
    }
   ],
   "source": [
    "y_pred_test = random_search.predict(x_test)\n",
    "mae_test = mean_absolute_error(y_test, y_pred_test)\n",
    "mse_test = mean_squared_error(y_test, y_pred_test)\n",
    "rmse_test = mse_test ** (0.5)\n",
    "r2_test = r2_score(y_test, y_pred_test)\n",
    "print(f\"MAE: {mae_test}\\nMSE: {mse_test}\\nRMSE: {rmse_test}\\nR2-score: {r2_test}\")"
   ]
  },
  {
   "cell_type": "markdown",
   "id": "d1fd9249-72fd-42d7-ab79-2eac0234d810",
   "metadata": {},
   "source": [
    "In the original values:"
   ]
  },
  {
   "cell_type": "code",
   "execution_count": 107,
   "id": "e7f25c92-fb32-45c7-aa0c-f185ede84dd3",
   "metadata": {},
   "outputs": [
    {
     "name": "stdout",
     "output_type": "stream",
     "text": [
      "MAE: 1.0858497235044045\n",
      "MSE: 2.3953541530131175\n",
      "RMSE: 1.5476931714694349\n",
      "R2-score: 0.937478194074244\n"
     ]
    }
   ],
   "source": [
    "y_train_original = scaler.inverse_transform(y_train.reshape(-1, 1))\n",
    "y_pred_train_original = scaler.inverse_transform(y_pred_train.reshape(-1, 1))\n",
    "mae_train = mean_absolute_error(y_train_original, y_pred_train_original)\n",
    "mse_train = mean_squared_error(y_train_original, y_pred_train_original)\n",
    "rmse_train = mse_train ** (0.5)\n",
    "r2_train = r2_score(y_train_original, y_pred_train_original)\n",
    "print(f\"MAE: {mae_train}\\nMSE: {mse_train}\\nRMSE: {rmse_train}\\nR2-score: {r2_train}\")"
   ]
  },
  {
   "cell_type": "code",
   "execution_count": 108,
   "id": "46f3d9fd-e506-4a6d-a9a9-0ffaaeb9c9e4",
   "metadata": {},
   "outputs": [
    {
     "name": "stdout",
     "output_type": "stream",
     "text": [
      "MAE: 1.5067343457136992\n",
      "MSE: 5.1618943825261665\n",
      "RMSE: 2.271980277759067\n",
      "R2-score: 0.8677431154533456\n"
     ]
    }
   ],
   "source": [
    "y_val_original = scaler.inverse_transform(y_val.reshape(-1, 1))\n",
    "y_pred_val_original = scaler.inverse_transform(y_pred_val.reshape(-1, 1))\n",
    "mae_val = mean_absolute_error(y_val_original, y_pred_val_original)\n",
    "mse_val = mean_squared_error(y_val_original, y_pred_val_original)\n",
    "rmse_val = mse_val ** (0.5)\n",
    "r2_val = r2_score(y_val_original, y_pred_val_original)\n",
    "print(f\"MAE: {mae_val}\\nMSE: {mse_val}\\nRMSE: {rmse_val}\\nR2-score: {r2_val}\")"
   ]
  },
  {
   "cell_type": "code",
   "execution_count": 109,
   "id": "9a33ec91-2c7f-4e9d-9f2b-dc8d343d75a0",
   "metadata": {},
   "outputs": [
    {
     "name": "stdout",
     "output_type": "stream",
     "text": [
      "MAE: 1.3911765280891482\n",
      "MSE: 4.250834398865515\n",
      "RMSE: 2.0617551743273292\n",
      "R2-score: 0.8808135648428824\n"
     ]
    }
   ],
   "source": [
    "y_test_original = scaler.inverse_transform(y_test.reshape(-1, 1))\n",
    "y_pred_test_original = scaler.inverse_transform(y_pred_test.reshape(-1, 1))\n",
    "mae_test = mean_absolute_error(y_test_original, y_pred_test_original)\n",
    "mse_test = mean_squared_error(y_test_original, y_pred_test_original)\n",
    "rmse_test = mse_test ** (0.5)\n",
    "r2_test = r2_score(y_test_original, y_pred_test_original)\n",
    "print(f\"MAE: {mae_test}\\nMSE: {mse_test}\\nRMSE: {rmse_test}\\nR2-score: {r2_test}\")"
   ]
  },
  {
   "cell_type": "code",
   "execution_count": 110,
   "id": "15c5428e-8586-4f2b-abd1-72cc7b071c13",
   "metadata": {},
   "outputs": [
    {
     "data": {
      "text/html": [
       "<div>\n",
       "<style scoped>\n",
       "    .dataframe tbody tr th:only-of-type {\n",
       "        vertical-align: middle;\n",
       "    }\n",
       "\n",
       "    .dataframe tbody tr th {\n",
       "        vertical-align: top;\n",
       "    }\n",
       "\n",
       "    .dataframe thead th {\n",
       "        text-align: right;\n",
       "    }\n",
       "</style>\n",
       "<table border=\"1\" class=\"dataframe\">\n",
       "  <thead>\n",
       "    <tr style=\"text-align: right;\">\n",
       "      <th></th>\n",
       "      <th>train</th>\n",
       "      <th>val</th>\n",
       "      <th>test</th>\n",
       "    </tr>\n",
       "  </thead>\n",
       "  <tbody>\n",
       "    <tr>\n",
       "      <th>MAE</th>\n",
       "      <td>1.0858</td>\n",
       "      <td>1.5067</td>\n",
       "      <td>1.3912</td>\n",
       "    </tr>\n",
       "    <tr>\n",
       "      <th>MSE</th>\n",
       "      <td>2.3954</td>\n",
       "      <td>5.1619</td>\n",
       "      <td>4.2508</td>\n",
       "    </tr>\n",
       "    <tr>\n",
       "      <th>RMSE</th>\n",
       "      <td>1.5477</td>\n",
       "      <td>2.2720</td>\n",
       "      <td>2.0618</td>\n",
       "    </tr>\n",
       "    <tr>\n",
       "      <th>R2</th>\n",
       "      <td>0.9375</td>\n",
       "      <td>0.8677</td>\n",
       "      <td>0.8808</td>\n",
       "    </tr>\n",
       "  </tbody>\n",
       "</table>\n",
       "</div>"
      ],
      "text/plain": [
       "       train     val    test\n",
       "MAE   1.0858  1.5067  1.3912\n",
       "MSE   2.3954  5.1619  4.2508\n",
       "RMSE  1.5477  2.2720  2.0618\n",
       "R2    0.9375  0.8677  0.8808"
      ]
     },
     "execution_count": 110,
     "metadata": {},
     "output_type": "execute_result"
    }
   ],
   "source": [
    "df_metrics_rs = pd.DataFrame(\n",
    "    index=[\"MAE\", \"MSE\", \"RMSE\", \"R2\"],\n",
    "    columns=[\"train\", \"val\", \"test\"],\n",
    "    data={\n",
    "        \"train\": [mae_train, mse_train, rmse_train, r2_train],\n",
    "        \"val\": [mae_val, mse_val, rmse_val, r2_val],\n",
    "        \"test\": [mae_test, mse_test, rmse_test, r2_test]\n",
    "    }\n",
    ")\n",
    "df_metrics_rs.round(4)"
   ]
  },
  {
   "cell_type": "markdown",
   "id": "c77e4154-2019-4f60-88a8-90e50ca01aa1",
   "metadata": {},
   "source": [
    "### Evaluate the Model with the New Hyperparameters"
   ]
  },
  {
   "cell_type": "code",
   "execution_count": null,
   "id": "84ba492f-2c3c-4998-a60d-eff6c62942c0",
   "metadata": {},
   "outputs": [],
   "source": [
    "Using approximate estimation of hyperparameters, manual settings help to decrease overfitting even more:"
   ]
  },
  {
   "cell_type": "code",
   "execution_count": 111,
   "id": "8b42a1ed-9b47-4701-ad80-db0a399829ea",
   "metadata": {},
   "outputs": [
    {
     "data": {
      "text/html": [
       "<style>#sk-container-id-8 {color: black;background-color: white;}#sk-container-id-8 pre{padding: 0;}#sk-container-id-8 div.sk-toggleable {background-color: white;}#sk-container-id-8 label.sk-toggleable__label {cursor: pointer;display: block;width: 100%;margin-bottom: 0;padding: 0.3em;box-sizing: border-box;text-align: center;}#sk-container-id-8 label.sk-toggleable__label-arrow:before {content: \"▸\";float: left;margin-right: 0.25em;color: #696969;}#sk-container-id-8 label.sk-toggleable__label-arrow:hover:before {color: black;}#sk-container-id-8 div.sk-estimator:hover label.sk-toggleable__label-arrow:before {color: black;}#sk-container-id-8 div.sk-toggleable__content {max-height: 0;max-width: 0;overflow: hidden;text-align: left;background-color: #f0f8ff;}#sk-container-id-8 div.sk-toggleable__content pre {margin: 0.2em;color: black;border-radius: 0.25em;background-color: #f0f8ff;}#sk-container-id-8 input.sk-toggleable__control:checked~div.sk-toggleable__content {max-height: 200px;max-width: 100%;overflow: auto;}#sk-container-id-8 input.sk-toggleable__control:checked~label.sk-toggleable__label-arrow:before {content: \"▾\";}#sk-container-id-8 div.sk-estimator input.sk-toggleable__control:checked~label.sk-toggleable__label {background-color: #d4ebff;}#sk-container-id-8 div.sk-label input.sk-toggleable__control:checked~label.sk-toggleable__label {background-color: #d4ebff;}#sk-container-id-8 input.sk-hidden--visually {border: 0;clip: rect(1px 1px 1px 1px);clip: rect(1px, 1px, 1px, 1px);height: 1px;margin: -1px;overflow: hidden;padding: 0;position: absolute;width: 1px;}#sk-container-id-8 div.sk-estimator {font-family: monospace;background-color: #f0f8ff;border: 1px dotted black;border-radius: 0.25em;box-sizing: border-box;margin-bottom: 0.5em;}#sk-container-id-8 div.sk-estimator:hover {background-color: #d4ebff;}#sk-container-id-8 div.sk-parallel-item::after {content: \"\";width: 100%;border-bottom: 1px solid gray;flex-grow: 1;}#sk-container-id-8 div.sk-label:hover label.sk-toggleable__label {background-color: #d4ebff;}#sk-container-id-8 div.sk-serial::before {content: \"\";position: absolute;border-left: 1px solid gray;box-sizing: border-box;top: 0;bottom: 0;left: 50%;z-index: 0;}#sk-container-id-8 div.sk-serial {display: flex;flex-direction: column;align-items: center;background-color: white;padding-right: 0.2em;padding-left: 0.2em;position: relative;}#sk-container-id-8 div.sk-item {position: relative;z-index: 1;}#sk-container-id-8 div.sk-parallel {display: flex;align-items: stretch;justify-content: center;background-color: white;position: relative;}#sk-container-id-8 div.sk-item::before, #sk-container-id-8 div.sk-parallel-item::before {content: \"\";position: absolute;border-left: 1px solid gray;box-sizing: border-box;top: 0;bottom: 0;left: 50%;z-index: -1;}#sk-container-id-8 div.sk-parallel-item {display: flex;flex-direction: column;z-index: 1;position: relative;background-color: white;}#sk-container-id-8 div.sk-parallel-item:first-child::after {align-self: flex-end;width: 50%;}#sk-container-id-8 div.sk-parallel-item:last-child::after {align-self: flex-start;width: 50%;}#sk-container-id-8 div.sk-parallel-item:only-child::after {width: 0;}#sk-container-id-8 div.sk-dashed-wrapped {border: 1px dashed gray;margin: 0 0.4em 0.5em 0.4em;box-sizing: border-box;padding-bottom: 0.4em;background-color: white;}#sk-container-id-8 div.sk-label label {font-family: monospace;font-weight: bold;display: inline-block;line-height: 1.2em;}#sk-container-id-8 div.sk-label-container {text-align: center;}#sk-container-id-8 div.sk-container {/* jupyter's `normalize.less` sets `[hidden] { display: none; }` but bootstrap.min.css set `[hidden] { display: none !important; }` so we also need the `!important` here to be able to override the default hidden behavior on the sphinx rendered scikit-learn.org. See: https://github.com/scikit-learn/scikit-learn/issues/21755 */display: inline-block !important;position: relative;}#sk-container-id-8 div.sk-text-repr-fallback {display: none;}</style><div id=\"sk-container-id-8\" class=\"sk-top-container\"><div class=\"sk-text-repr-fallback\"><pre>XGBRegressor(base_score=None, booster=None, callbacks=None,\n",
       "             colsample_bylevel=None, colsample_bynode=None,\n",
       "             colsample_bytree=0.9492, device=None, early_stopping_rounds=None,\n",
       "             enable_categorical=False, eval_metric=None, feature_types=None,\n",
       "             gamma=0.0038, grow_policy=None, importance_type=None,\n",
       "             interaction_constraints=None, learning_rate=0.04, max_bin=None,\n",
       "             max_cat_threshold=None, max_cat_to_onehot=None,\n",
       "             max_delta_step=None, max_depth=6, max_leaves=80,\n",
       "             min_child_weight=None, missing=nan, monotone_constraints=None,\n",
       "             multi_strategy=None, n_estimators=650, n_jobs=None,\n",
       "             num_parallel_tree=None, random_state=None, ...)</pre><b>In a Jupyter environment, please rerun this cell to show the HTML representation or trust the notebook. <br />On GitHub, the HTML representation is unable to render, please try loading this page with nbviewer.org.</b></div><div class=\"sk-container\" hidden><div class=\"sk-item\"><div class=\"sk-estimator sk-toggleable\"><input class=\"sk-toggleable__control sk-hidden--visually\" id=\"sk-estimator-id-8\" type=\"checkbox\" checked><label for=\"sk-estimator-id-8\" class=\"sk-toggleable__label sk-toggleable__label-arrow\">XGBRegressor</label><div class=\"sk-toggleable__content\"><pre>XGBRegressor(base_score=None, booster=None, callbacks=None,\n",
       "             colsample_bylevel=None, colsample_bynode=None,\n",
       "             colsample_bytree=0.9492, device=None, early_stopping_rounds=None,\n",
       "             enable_categorical=False, eval_metric=None, feature_types=None,\n",
       "             gamma=0.0038, grow_policy=None, importance_type=None,\n",
       "             interaction_constraints=None, learning_rate=0.04, max_bin=None,\n",
       "             max_cat_threshold=None, max_cat_to_onehot=None,\n",
       "             max_delta_step=None, max_depth=6, max_leaves=80,\n",
       "             min_child_weight=None, missing=nan, monotone_constraints=None,\n",
       "             multi_strategy=None, n_estimators=650, n_jobs=None,\n",
       "             num_parallel_tree=None, random_state=None, ...)</pre></div></div></div></div></div>"
      ],
      "text/plain": [
       "XGBRegressor(base_score=None, booster=None, callbacks=None,\n",
       "             colsample_bylevel=None, colsample_bynode=None,\n",
       "             colsample_bytree=0.9492, device=None, early_stopping_rounds=None,\n",
       "             enable_categorical=False, eval_metric=None, feature_types=None,\n",
       "             gamma=0.0038, grow_policy=None, importance_type=None,\n",
       "             interaction_constraints=None, learning_rate=0.04, max_bin=None,\n",
       "             max_cat_threshold=None, max_cat_to_onehot=None,\n",
       "             max_delta_step=None, max_depth=6, max_leaves=80,\n",
       "             min_child_weight=None, missing=nan, monotone_constraints=None,\n",
       "             multi_strategy=None, n_estimators=650, n_jobs=None,\n",
       "             num_parallel_tree=None, random_state=None, ...)"
      ]
     },
     "execution_count": 111,
     "metadata": {},
     "output_type": "execute_result"
    }
   ],
   "source": [
    "params = {\n",
    "    \"colsample_bytree\": 0.9492, \n",
    "    \"gamma\": 0.0038, \n",
    "    \"learning_rate\": 0.04, \n",
    "    \"max_depth\": 6, \n",
    "    \"max_leaves\": 80, \n",
    "    \"n_estimators\": 650, \n",
    "    \"reg_alpha\": 0.3 * 30, \n",
    "    \"reg_lambda\": 0.7 * 30, \n",
    "    \"subsample\": 0.77\n",
    "}\n",
    "model = XGBRegressor(**params)\n",
    "model.fit(x_train, y_train.ravel())"
   ]
  },
  {
   "cell_type": "markdown",
   "id": "e52d4caf-afe0-4c85-a282-09a73ae0a19d",
   "metadata": {},
   "source": [
    "In the scaled values:"
   ]
  },
  {
   "cell_type": "code",
   "execution_count": 112,
   "id": "e356c0e8-100b-4860-ad8c-eb72681ae5f7",
   "metadata": {},
   "outputs": [
    {
     "name": "stdout",
     "output_type": "stream",
     "text": [
      "MAE: 0.20620473479861984\n",
      "MSE: 0.0904693041425173\n",
      "RMSE: 0.30078115656157267\n",
      "R2-score: 0.9099536370910648\n"
     ]
    }
   ],
   "source": [
    "y_pred_train = model.predict(x_train)\n",
    "mae_train = mean_absolute_error(y_train, y_pred_train)\n",
    "mse_train = mean_squared_error(y_train, y_pred_train)\n",
    "rmse_train = mse_train ** (0.5)\n",
    "r2_train = r2_score(y_train, y_pred_train)\n",
    "print(f\"MAE: {mae_train}\\nMSE: {mse_train}\\nRMSE: {rmse_train}\\nR2-score: {r2_train}\")"
   ]
  },
  {
   "cell_type": "code",
   "execution_count": 113,
   "id": "b8e686d1-1631-4411-b70e-9069c4803998",
   "metadata": {},
   "outputs": [
    {
     "name": "stdout",
     "output_type": "stream",
     "text": [
      "MAE: 0.245897181693794\n",
      "MSE: 0.1374414374117688\n",
      "RMSE: 0.37073095016705687\n",
      "R2-score: 0.8657142258071787\n"
     ]
    }
   ],
   "source": [
    "y_pred_val = model.predict(x_val)\n",
    "mae_val = mean_absolute_error(y_val, y_pred_val)\n",
    "mse_val = mean_squared_error(y_val, y_pred_val)\n",
    "rmse_val = mse_val ** (0.5)\n",
    "r2_val = r2_score(y_val, y_pred_val)\n",
    "print(f\"MAE: {mae_val}\\nMSE: {mse_val}\\nRMSE: {rmse_val}\\nR2-score: {r2_val}\")"
   ]
  },
  {
   "cell_type": "code",
   "execution_count": 114,
   "id": "76db5e3a-bb64-48fa-94b2-aae68795682b",
   "metadata": {},
   "outputs": [
    {
     "name": "stdout",
     "output_type": "stream",
     "text": [
      "MAE: 0.2282259772921526\n",
      "MSE: 0.11217559437566456\n",
      "RMSE: 0.3349262521446543\n",
      "R2-score: 0.8800627275454358\n"
     ]
    }
   ],
   "source": [
    "y_pred_test = model.predict(x_test)\n",
    "mae_test = mean_absolute_error(y_test, y_pred_test)\n",
    "mse_test = mean_squared_error(y_test, y_pred_test)\n",
    "rmse_test = mse_test ** (0.5)\n",
    "r2_test = r2_score(y_test, y_pred_test)\n",
    "print(f\"MAE: {mae_test}\\nMSE: {mse_test}\\nRMSE: {rmse_test}\\nR2-score: {r2_test}\")"
   ]
  },
  {
   "cell_type": "markdown",
   "id": "9de863bc-ca8e-4ce4-b176-99d89b5e789a",
   "metadata": {},
   "source": [
    "In the original values:"
   ]
  },
  {
   "cell_type": "code",
   "execution_count": 115,
   "id": "a01a690f-5254-411e-8c54-100c04b8f04a",
   "metadata": {},
   "outputs": [
    {
     "name": "stdout",
     "output_type": "stream",
     "text": [
      "MAE: 1.2733570799905032\n",
      "MSE: 3.4498832427463246\n",
      "RMSE: 1.8573861318385911\n",
      "R2-score: 0.9099536365851442\n"
     ]
    }
   ],
   "source": [
    "y_train_original = scaler.inverse_transform(y_train.reshape(-1, 1))\n",
    "y_pred_train_original = scaler.inverse_transform(y_pred_train.reshape(-1, 1))\n",
    "mae_train = mean_absolute_error(y_train_original, y_pred_train_original)\n",
    "mse_train = mean_squared_error(y_train_original, y_pred_train_original)\n",
    "rmse_train = mse_train ** (0.5)\n",
    "r2_train = r2_score(y_train_original, y_pred_train_original)\n",
    "print(f\"MAE: {mae_train}\\nMSE: {mse_train}\\nRMSE: {rmse_train}\\nR2-score: {r2_train}\")"
   ]
  },
  {
   "cell_type": "code",
   "execution_count": 116,
   "id": "5e20e374-e12c-4df4-aca7-bfcdc0f0e45f",
   "metadata": {},
   "outputs": [
    {
     "name": "stdout",
     "output_type": "stream",
     "text": [
      "MAE: 1.5184661964404387\n",
      "MSE: 5.241080569911943\n",
      "RMSE: 2.289340640864077\n",
      "R2-score: 0.8657142249595333\n"
     ]
    }
   ],
   "source": [
    "y_val_original = scaler.inverse_transform(y_val.reshape(-1, 1))\n",
    "y_pred_val_original = scaler.inverse_transform(y_pred_val.reshape(-1, 1))\n",
    "mae_val = mean_absolute_error(y_val_original, y_pred_val_original)\n",
    "mse_val = mean_squared_error(y_val_original, y_pred_val_original)\n",
    "rmse_val = mse_val ** (0.5)\n",
    "r2_val = r2_score(y_val_original, y_pred_val_original)\n",
    "print(f\"MAE: {mae_val}\\nMSE: {mse_val}\\nRMSE: {rmse_val}\\nR2-score: {r2_val}\")"
   ]
  },
  {
   "cell_type": "code",
   "execution_count": 117,
   "id": "0c274428-aa00-415c-adc0-e1b01b9753c3",
   "metadata": {},
   "outputs": [
    {
     "name": "stdout",
     "output_type": "stream",
     "text": [
      "MAE: 1.4093428238967822\n",
      "MSE: 4.277613357608494\n",
      "RMSE: 2.0682391925520833\n",
      "R2-score: 0.8800627266943422\n"
     ]
    }
   ],
   "source": [
    "y_test_original = scaler.inverse_transform(y_test.reshape(-1, 1))\n",
    "y_pred_test_original = scaler.inverse_transform(y_pred_test.reshape(-1, 1))\n",
    "mae_test = mean_absolute_error(y_test_original, y_pred_test_original)\n",
    "mse_test = mean_squared_error(y_test_original, y_pred_test_original)\n",
    "rmse_test = mse_test ** (0.5)\n",
    "r2_test = r2_score(y_test_original, y_pred_test_original)\n",
    "print(f\"MAE: {mae_test}\\nMSE: {mse_test}\\nRMSE: {rmse_test}\\nR2-score: {r2_test}\")"
   ]
  },
  {
   "cell_type": "code",
   "execution_count": 118,
   "id": "e7b145a1-4233-4120-aeac-68f76ad141fb",
   "metadata": {},
   "outputs": [
    {
     "data": {
      "text/html": [
       "<div>\n",
       "<style scoped>\n",
       "    .dataframe tbody tr th:only-of-type {\n",
       "        vertical-align: middle;\n",
       "    }\n",
       "\n",
       "    .dataframe tbody tr th {\n",
       "        vertical-align: top;\n",
       "    }\n",
       "\n",
       "    .dataframe thead th {\n",
       "        text-align: right;\n",
       "    }\n",
       "</style>\n",
       "<table border=\"1\" class=\"dataframe\">\n",
       "  <thead>\n",
       "    <tr style=\"text-align: right;\">\n",
       "      <th></th>\n",
       "      <th>train</th>\n",
       "      <th>val</th>\n",
       "      <th>test</th>\n",
       "    </tr>\n",
       "  </thead>\n",
       "  <tbody>\n",
       "    <tr>\n",
       "      <th>MAE</th>\n",
       "      <td>1.2734</td>\n",
       "      <td>1.5185</td>\n",
       "      <td>1.4093</td>\n",
       "    </tr>\n",
       "    <tr>\n",
       "      <th>MSE</th>\n",
       "      <td>3.4499</td>\n",
       "      <td>5.2411</td>\n",
       "      <td>4.2776</td>\n",
       "    </tr>\n",
       "    <tr>\n",
       "      <th>RMSE</th>\n",
       "      <td>1.8574</td>\n",
       "      <td>2.2893</td>\n",
       "      <td>2.0682</td>\n",
       "    </tr>\n",
       "    <tr>\n",
       "      <th>R2</th>\n",
       "      <td>0.9100</td>\n",
       "      <td>0.8657</td>\n",
       "      <td>0.8801</td>\n",
       "    </tr>\n",
       "  </tbody>\n",
       "</table>\n",
       "</div>"
      ],
      "text/plain": [
       "       train     val    test\n",
       "MAE   1.2734  1.5185  1.4093\n",
       "MSE   3.4499  5.2411  4.2776\n",
       "RMSE  1.8574  2.2893  2.0682\n",
       "R2    0.9100  0.8657  0.8801"
      ]
     },
     "execution_count": 118,
     "metadata": {},
     "output_type": "execute_result"
    }
   ],
   "source": [
    "df_metrics_xgb = pd.DataFrame(\n",
    "    index=[\"MAE\", \"MSE\", \"RMSE\", \"R2\"],\n",
    "    columns=[\"train\", \"val\", \"test\"],\n",
    "    data={\n",
    "        \"train\": [mae_train, mse_train, rmse_train, r2_train],\n",
    "        \"val\": [mae_val, mse_val, rmse_val, r2_val],\n",
    "        \"test\": [mae_test, mse_test, rmse_test, r2_test]\n",
    "    }\n",
    ")\n",
    "df_metrics_xgb.round(4)"
   ]
  },
  {
   "cell_type": "markdown",
   "id": "7eb2fe29-c047-400c-a67e-cf953cacf640",
   "metadata": {},
   "source": [
    "## The Final Table of Metrics"
   ]
  },
  {
   "cell_type": "markdown",
   "id": "ecd4dd08-9146-42f1-b1fd-76495cd20516",
   "metadata": {},
   "source": [
    "Concatinate all dataframes with metrics into one table:"
   ]
  },
  {
   "cell_type": "code",
   "execution_count": 119,
   "id": "52f5b012-f25e-46d7-ada0-2b2fdb6096a0",
   "metadata": {},
   "outputs": [
    {
     "data": {
      "text/html": [
       "<div>\n",
       "<style scoped>\n",
       "    .dataframe tbody tr th:only-of-type {\n",
       "        vertical-align: middle;\n",
       "    }\n",
       "\n",
       "    .dataframe tbody tr th {\n",
       "        vertical-align: top;\n",
       "    }\n",
       "\n",
       "    .dataframe thead tr th {\n",
       "        text-align: left;\n",
       "    }\n",
       "</style>\n",
       "<table border=\"1\" class=\"dataframe\">\n",
       "  <thead>\n",
       "    <tr>\n",
       "      <th></th>\n",
       "      <th colspan=\"3\" halign=\"left\">Decision Tree</th>\n",
       "      <th colspan=\"3\" halign=\"left\">Random Forest</th>\n",
       "      <th colspan=\"3\" halign=\"left\">Gradient Boosted Tree (sklearn)</th>\n",
       "      <th colspan=\"3\" halign=\"left\">XGBoost</th>\n",
       "    </tr>\n",
       "    <tr>\n",
       "      <th></th>\n",
       "      <th>train</th>\n",
       "      <th>val</th>\n",
       "      <th>test</th>\n",
       "      <th>train</th>\n",
       "      <th>val</th>\n",
       "      <th>test</th>\n",
       "      <th>train</th>\n",
       "      <th>val</th>\n",
       "      <th>test</th>\n",
       "      <th>train</th>\n",
       "      <th>val</th>\n",
       "      <th>test</th>\n",
       "    </tr>\n",
       "  </thead>\n",
       "  <tbody>\n",
       "    <tr>\n",
       "      <th>MAE</th>\n",
       "      <td>1.688561</td>\n",
       "      <td>1.775566</td>\n",
       "      <td>1.731214</td>\n",
       "      <td>1.526134</td>\n",
       "      <td>1.664429</td>\n",
       "      <td>1.588358</td>\n",
       "      <td>1.324826</td>\n",
       "      <td>1.531066</td>\n",
       "      <td>1.457474</td>\n",
       "      <td>1.273357</td>\n",
       "      <td>1.518466</td>\n",
       "      <td>1.409343</td>\n",
       "    </tr>\n",
       "    <tr>\n",
       "      <th>MSE</th>\n",
       "      <td>5.739840</td>\n",
       "      <td>6.698350</td>\n",
       "      <td>5.878046</td>\n",
       "      <td>4.778019</td>\n",
       "      <td>6.023938</td>\n",
       "      <td>5.170140</td>\n",
       "      <td>3.701891</td>\n",
       "      <td>5.417787</td>\n",
       "      <td>4.522035</td>\n",
       "      <td>3.449883</td>\n",
       "      <td>5.241081</td>\n",
       "      <td>4.277613</td>\n",
       "    </tr>\n",
       "    <tr>\n",
       "      <th>RMSE</th>\n",
       "      <td>2.395796</td>\n",
       "      <td>2.588117</td>\n",
       "      <td>2.424468</td>\n",
       "      <td>2.185868</td>\n",
       "      <td>2.454371</td>\n",
       "      <td>2.273794</td>\n",
       "      <td>1.924030</td>\n",
       "      <td>2.327614</td>\n",
       "      <td>2.126508</td>\n",
       "      <td>1.857386</td>\n",
       "      <td>2.289341</td>\n",
       "      <td>2.068239</td>\n",
       "    </tr>\n",
       "    <tr>\n",
       "      <th>R2</th>\n",
       "      <td>0.850183</td>\n",
       "      <td>0.828376</td>\n",
       "      <td>0.835189</td>\n",
       "      <td>0.875288</td>\n",
       "      <td>0.845656</td>\n",
       "      <td>0.855038</td>\n",
       "      <td>0.903376</td>\n",
       "      <td>0.861187</td>\n",
       "      <td>0.873210</td>\n",
       "      <td>0.909954</td>\n",
       "      <td>0.865714</td>\n",
       "      <td>0.880063</td>\n",
       "    </tr>\n",
       "  </tbody>\n",
       "</table>\n",
       "</div>"
      ],
      "text/plain": [
       "     Decision Tree                     Random Forest                       \n",
       "             train       val      test         train       val      test   \n",
       "MAE       1.688561  1.775566  1.731214      1.526134  1.664429  1.588358  \\\n",
       "MSE       5.739840  6.698350  5.878046      4.778019  6.023938  5.170140   \n",
       "RMSE      2.395796  2.588117  2.424468      2.185868  2.454371  2.273794   \n",
       "R2        0.850183  0.828376  0.835189      0.875288  0.845656  0.855038   \n",
       "\n",
       "     Gradient Boosted Tree (sklearn)                       XGBoost             \n",
       "                               train       val      test     train       val   \n",
       "MAE                         1.324826  1.531066  1.457474  1.273357  1.518466  \\\n",
       "MSE                         3.701891  5.417787  4.522035  3.449883  5.241081   \n",
       "RMSE                        1.924030  2.327614  2.126508  1.857386  2.289341   \n",
       "R2                          0.903376  0.861187  0.873210  0.909954  0.865714   \n",
       "\n",
       "                \n",
       "          test  \n",
       "MAE   1.409343  \n",
       "MSE   4.277613  \n",
       "RMSE  2.068239  \n",
       "R2    0.880063  "
      ]
     },
     "execution_count": 119,
     "metadata": {},
     "output_type": "execute_result"
    }
   ],
   "source": [
    "df_metrics = pd.concat([df_metrics_dt, df_metrics_rf, df_metrics_gb, df_metrics_xgb], axis=1)\n",
    "# Set a multiindex columns\n",
    "df_metrics.columns = pd.MultiIndex.from_product([\n",
    "    [\"Decision Tree\", \"Random Forest\", \"Gradient Boosted Tree (sklearn)\", \"XGBoost\"],\n",
    "    [\"train\", \"val\", \"test\"]\n",
    "])\n",
    "df_metrics"
   ]
  },
  {
   "cell_type": "markdown",
   "id": "f2989914-2a9b-439e-bfc7-c03ae6f7ebdf",
   "metadata": {},
   "source": [
    "Prepare the data for plotly:"
   ]
  },
  {
   "cell_type": "code",
   "execution_count": 120,
   "id": "78833c2b-8a84-48cc-836e-48b3c12bb0b6",
   "metadata": {},
   "outputs": [
    {
     "data": {
      "text/plain": [
       "Decision Tree                    train    0.850183\n",
       "                                 val      0.828376\n",
       "                                 test     0.835189\n",
       "Random Forest                    train    0.875288\n",
       "                                 val      0.845656\n",
       "                                 test     0.855038\n",
       "Gradient Boosted Tree (sklearn)  train    0.903376\n",
       "                                 val      0.861187\n",
       "                                 test     0.873210\n",
       "XGBoost                          train    0.909954\n",
       "                                 val      0.865714\n",
       "                                 test     0.880063\n",
       "Name: R2, dtype: float64"
      ]
     },
     "execution_count": 120,
     "metadata": {},
     "output_type": "execute_result"
    }
   ],
   "source": [
    "r2_data = df_metrics.loc[\"R2\"]\n",
    "r2_data"
   ]
  },
  {
   "cell_type": "code",
   "execution_count": 127,
   "id": "bb8f19b2-da32-4d6e-b655-d782ac9e01ec",
   "metadata": {},
   "outputs": [
    {
     "data": {
      "application/vnd.plotly.v1+json": {
       "config": {
        "plotlyServerURL": "https://plot.ly"
       },
       "data": [
        {
         "alignmentgroup": "True",
         "hovertemplate": "color=train<br>Model=%{x}<br>R2-score=%{text}<extra></extra>",
         "legendgroup": "train",
         "marker": {
          "color": "#4c72b0",
          "pattern": {
           "shape": ""
          }
         },
         "name": "train",
         "offsetgroup": "train",
         "orientation": "v",
         "showlegend": true,
         "text": [
          0.8501828372165627,
          0.8752875995121423,
          0.9033759051637653,
          0.9099536365851442
         ],
         "textposition": "outside",
         "texttemplate": "%{text:.4f}",
         "type": "bar",
         "x": [
          "Decision Tree",
          "Random Forest",
          "Gradient Boosted Tree (sklearn)",
          "XGBoost"
         ],
         "xaxis": "x",
         "y": [
          0.8501828372165627,
          0.8752875995121423,
          0.9033759051637653,
          0.9099536365851442
         ],
         "yaxis": "y"
        },
        {
         "alignmentgroup": "True",
         "hovertemplate": "color=val<br>Model=%{x}<br>R2-score=%{text}<extra></extra>",
         "legendgroup": "val",
         "marker": {
          "color": "#dd8452",
          "pattern": {
           "shape": ""
          }
         },
         "name": "val",
         "offsetgroup": "val",
         "orientation": "v",
         "showlegend": true,
         "text": [
          0.8283764097518237,
          0.845656028965165,
          0.861186686395152,
          0.8657142249595333
         ],
         "textposition": "outside",
         "texttemplate": "%{text:.4f}",
         "type": "bar",
         "x": [
          "Decision Tree",
          "Random Forest",
          "Gradient Boosted Tree (sklearn)",
          "XGBoost"
         ],
         "xaxis": "x",
         "y": [
          0.8283764097518237,
          0.845656028965165,
          0.861186686395152,
          0.8657142249595333
         ],
         "yaxis": "y"
        },
        {
         "alignmentgroup": "True",
         "hovertemplate": "color=test<br>Model=%{x}<br>R2-score=%{text}<extra></extra>",
         "legendgroup": "test",
         "marker": {
          "color": "#55a868",
          "pattern": {
           "shape": ""
          }
         },
         "name": "test",
         "offsetgroup": "test",
         "orientation": "v",
         "showlegend": true,
         "text": [
          0.8351892218062194,
          0.8550377336426056,
          0.8732095511599891,
          0.8800627266943422
         ],
         "textposition": "outside",
         "texttemplate": "%{text:.4f}",
         "type": "bar",
         "x": [
          "Decision Tree",
          "Random Forest",
          "Gradient Boosted Tree (sklearn)",
          "XGBoost"
         ],
         "xaxis": "x",
         "y": [
          0.8351892218062194,
          0.8550377336426056,
          0.8732095511599891,
          0.8800627266943422
         ],
         "yaxis": "y"
        }
       ],
       "layout": {
        "autosize": true,
        "barmode": "group",
        "legend": {
         "title": {
          "text": "color"
         },
         "tracegroupgap": 0
        },
        "template": {
         "data": {
          "bar": [
           {
            "error_x": {
             "color": "#2a3f5f"
            },
            "error_y": {
             "color": "#2a3f5f"
            },
            "marker": {
             "line": {
              "color": "#E5ECF6",
              "width": 0.5
             },
             "pattern": {
              "fillmode": "overlay",
              "size": 10,
              "solidity": 0.2
             }
            },
            "type": "bar"
           }
          ],
          "barpolar": [
           {
            "marker": {
             "line": {
              "color": "#E5ECF6",
              "width": 0.5
             },
             "pattern": {
              "fillmode": "overlay",
              "size": 10,
              "solidity": 0.2
             }
            },
            "type": "barpolar"
           }
          ],
          "carpet": [
           {
            "aaxis": {
             "endlinecolor": "#2a3f5f",
             "gridcolor": "white",
             "linecolor": "white",
             "minorgridcolor": "white",
             "startlinecolor": "#2a3f5f"
            },
            "baxis": {
             "endlinecolor": "#2a3f5f",
             "gridcolor": "white",
             "linecolor": "white",
             "minorgridcolor": "white",
             "startlinecolor": "#2a3f5f"
            },
            "type": "carpet"
           }
          ],
          "choropleth": [
           {
            "colorbar": {
             "outlinewidth": 0,
             "ticks": ""
            },
            "type": "choropleth"
           }
          ],
          "contour": [
           {
            "colorbar": {
             "outlinewidth": 0,
             "ticks": ""
            },
            "colorscale": [
             [
              0,
              "#0d0887"
             ],
             [
              0.1111111111111111,
              "#46039f"
             ],
             [
              0.2222222222222222,
              "#7201a8"
             ],
             [
              0.3333333333333333,
              "#9c179e"
             ],
             [
              0.4444444444444444,
              "#bd3786"
             ],
             [
              0.5555555555555556,
              "#d8576b"
             ],
             [
              0.6666666666666666,
              "#ed7953"
             ],
             [
              0.7777777777777778,
              "#fb9f3a"
             ],
             [
              0.8888888888888888,
              "#fdca26"
             ],
             [
              1,
              "#f0f921"
             ]
            ],
            "type": "contour"
           }
          ],
          "contourcarpet": [
           {
            "colorbar": {
             "outlinewidth": 0,
             "ticks": ""
            },
            "type": "contourcarpet"
           }
          ],
          "heatmap": [
           {
            "colorbar": {
             "outlinewidth": 0,
             "ticks": ""
            },
            "colorscale": [
             [
              0,
              "#0d0887"
             ],
             [
              0.1111111111111111,
              "#46039f"
             ],
             [
              0.2222222222222222,
              "#7201a8"
             ],
             [
              0.3333333333333333,
              "#9c179e"
             ],
             [
              0.4444444444444444,
              "#bd3786"
             ],
             [
              0.5555555555555556,
              "#d8576b"
             ],
             [
              0.6666666666666666,
              "#ed7953"
             ],
             [
              0.7777777777777778,
              "#fb9f3a"
             ],
             [
              0.8888888888888888,
              "#fdca26"
             ],
             [
              1,
              "#f0f921"
             ]
            ],
            "type": "heatmap"
           }
          ],
          "heatmapgl": [
           {
            "colorbar": {
             "outlinewidth": 0,
             "ticks": ""
            },
            "colorscale": [
             [
              0,
              "#0d0887"
             ],
             [
              0.1111111111111111,
              "#46039f"
             ],
             [
              0.2222222222222222,
              "#7201a8"
             ],
             [
              0.3333333333333333,
              "#9c179e"
             ],
             [
              0.4444444444444444,
              "#bd3786"
             ],
             [
              0.5555555555555556,
              "#d8576b"
             ],
             [
              0.6666666666666666,
              "#ed7953"
             ],
             [
              0.7777777777777778,
              "#fb9f3a"
             ],
             [
              0.8888888888888888,
              "#fdca26"
             ],
             [
              1,
              "#f0f921"
             ]
            ],
            "type": "heatmapgl"
           }
          ],
          "histogram": [
           {
            "marker": {
             "pattern": {
              "fillmode": "overlay",
              "size": 10,
              "solidity": 0.2
             }
            },
            "type": "histogram"
           }
          ],
          "histogram2d": [
           {
            "colorbar": {
             "outlinewidth": 0,
             "ticks": ""
            },
            "colorscale": [
             [
              0,
              "#0d0887"
             ],
             [
              0.1111111111111111,
              "#46039f"
             ],
             [
              0.2222222222222222,
              "#7201a8"
             ],
             [
              0.3333333333333333,
              "#9c179e"
             ],
             [
              0.4444444444444444,
              "#bd3786"
             ],
             [
              0.5555555555555556,
              "#d8576b"
             ],
             [
              0.6666666666666666,
              "#ed7953"
             ],
             [
              0.7777777777777778,
              "#fb9f3a"
             ],
             [
              0.8888888888888888,
              "#fdca26"
             ],
             [
              1,
              "#f0f921"
             ]
            ],
            "type": "histogram2d"
           }
          ],
          "histogram2dcontour": [
           {
            "colorbar": {
             "outlinewidth": 0,
             "ticks": ""
            },
            "colorscale": [
             [
              0,
              "#0d0887"
             ],
             [
              0.1111111111111111,
              "#46039f"
             ],
             [
              0.2222222222222222,
              "#7201a8"
             ],
             [
              0.3333333333333333,
              "#9c179e"
             ],
             [
              0.4444444444444444,
              "#bd3786"
             ],
             [
              0.5555555555555556,
              "#d8576b"
             ],
             [
              0.6666666666666666,
              "#ed7953"
             ],
             [
              0.7777777777777778,
              "#fb9f3a"
             ],
             [
              0.8888888888888888,
              "#fdca26"
             ],
             [
              1,
              "#f0f921"
             ]
            ],
            "type": "histogram2dcontour"
           }
          ],
          "mesh3d": [
           {
            "colorbar": {
             "outlinewidth": 0,
             "ticks": ""
            },
            "type": "mesh3d"
           }
          ],
          "parcoords": [
           {
            "line": {
             "colorbar": {
              "outlinewidth": 0,
              "ticks": ""
             }
            },
            "type": "parcoords"
           }
          ],
          "pie": [
           {
            "automargin": true,
            "type": "pie"
           }
          ],
          "scatter": [
           {
            "fillpattern": {
             "fillmode": "overlay",
             "size": 10,
             "solidity": 0.2
            },
            "type": "scatter"
           }
          ],
          "scatter3d": [
           {
            "line": {
             "colorbar": {
              "outlinewidth": 0,
              "ticks": ""
             }
            },
            "marker": {
             "colorbar": {
              "outlinewidth": 0,
              "ticks": ""
             }
            },
            "type": "scatter3d"
           }
          ],
          "scattercarpet": [
           {
            "marker": {
             "colorbar": {
              "outlinewidth": 0,
              "ticks": ""
             }
            },
            "type": "scattercarpet"
           }
          ],
          "scattergeo": [
           {
            "marker": {
             "colorbar": {
              "outlinewidth": 0,
              "ticks": ""
             }
            },
            "type": "scattergeo"
           }
          ],
          "scattergl": [
           {
            "marker": {
             "colorbar": {
              "outlinewidth": 0,
              "ticks": ""
             }
            },
            "type": "scattergl"
           }
          ],
          "scattermapbox": [
           {
            "marker": {
             "colorbar": {
              "outlinewidth": 0,
              "ticks": ""
             }
            },
            "type": "scattermapbox"
           }
          ],
          "scatterpolar": [
           {
            "marker": {
             "colorbar": {
              "outlinewidth": 0,
              "ticks": ""
             }
            },
            "type": "scatterpolar"
           }
          ],
          "scatterpolargl": [
           {
            "marker": {
             "colorbar": {
              "outlinewidth": 0,
              "ticks": ""
             }
            },
            "type": "scatterpolargl"
           }
          ],
          "scatterternary": [
           {
            "marker": {
             "colorbar": {
              "outlinewidth": 0,
              "ticks": ""
             }
            },
            "type": "scatterternary"
           }
          ],
          "surface": [
           {
            "colorbar": {
             "outlinewidth": 0,
             "ticks": ""
            },
            "colorscale": [
             [
              0,
              "#0d0887"
             ],
             [
              0.1111111111111111,
              "#46039f"
             ],
             [
              0.2222222222222222,
              "#7201a8"
             ],
             [
              0.3333333333333333,
              "#9c179e"
             ],
             [
              0.4444444444444444,
              "#bd3786"
             ],
             [
              0.5555555555555556,
              "#d8576b"
             ],
             [
              0.6666666666666666,
              "#ed7953"
             ],
             [
              0.7777777777777778,
              "#fb9f3a"
             ],
             [
              0.8888888888888888,
              "#fdca26"
             ],
             [
              1,
              "#f0f921"
             ]
            ],
            "type": "surface"
           }
          ],
          "table": [
           {
            "cells": {
             "fill": {
              "color": "#EBF0F8"
             },
             "line": {
              "color": "white"
             }
            },
            "header": {
             "fill": {
              "color": "#C8D4E3"
             },
             "line": {
              "color": "white"
             }
            },
            "type": "table"
           }
          ]
         },
         "layout": {
          "annotationdefaults": {
           "arrowcolor": "#2a3f5f",
           "arrowhead": 0,
           "arrowwidth": 1
          },
          "autotypenumbers": "strict",
          "coloraxis": {
           "colorbar": {
            "outlinewidth": 0,
            "ticks": ""
           }
          },
          "colorscale": {
           "diverging": [
            [
             0,
             "#8e0152"
            ],
            [
             0.1,
             "#c51b7d"
            ],
            [
             0.2,
             "#de77ae"
            ],
            [
             0.3,
             "#f1b6da"
            ],
            [
             0.4,
             "#fde0ef"
            ],
            [
             0.5,
             "#f7f7f7"
            ],
            [
             0.6,
             "#e6f5d0"
            ],
            [
             0.7,
             "#b8e186"
            ],
            [
             0.8,
             "#7fbc41"
            ],
            [
             0.9,
             "#4d9221"
            ],
            [
             1,
             "#276419"
            ]
           ],
           "sequential": [
            [
             0,
             "#0d0887"
            ],
            [
             0.1111111111111111,
             "#46039f"
            ],
            [
             0.2222222222222222,
             "#7201a8"
            ],
            [
             0.3333333333333333,
             "#9c179e"
            ],
            [
             0.4444444444444444,
             "#bd3786"
            ],
            [
             0.5555555555555556,
             "#d8576b"
            ],
            [
             0.6666666666666666,
             "#ed7953"
            ],
            [
             0.7777777777777778,
             "#fb9f3a"
            ],
            [
             0.8888888888888888,
             "#fdca26"
            ],
            [
             1,
             "#f0f921"
            ]
           ],
           "sequentialminus": [
            [
             0,
             "#0d0887"
            ],
            [
             0.1111111111111111,
             "#46039f"
            ],
            [
             0.2222222222222222,
             "#7201a8"
            ],
            [
             0.3333333333333333,
             "#9c179e"
            ],
            [
             0.4444444444444444,
             "#bd3786"
            ],
            [
             0.5555555555555556,
             "#d8576b"
            ],
            [
             0.6666666666666666,
             "#ed7953"
            ],
            [
             0.7777777777777778,
             "#fb9f3a"
            ],
            [
             0.8888888888888888,
             "#fdca26"
            ],
            [
             1,
             "#f0f921"
            ]
           ]
          },
          "colorway": [
           "#636efa",
           "#EF553B",
           "#00cc96",
           "#ab63fa",
           "#FFA15A",
           "#19d3f3",
           "#FF6692",
           "#B6E880",
           "#FF97FF",
           "#FECB52"
          ],
          "font": {
           "color": "#2a3f5f"
          },
          "geo": {
           "bgcolor": "white",
           "lakecolor": "white",
           "landcolor": "#E5ECF6",
           "showlakes": true,
           "showland": true,
           "subunitcolor": "white"
          },
          "hoverlabel": {
           "align": "left"
          },
          "hovermode": "closest",
          "mapbox": {
           "style": "light"
          },
          "paper_bgcolor": "white",
          "plot_bgcolor": "#E5ECF6",
          "polar": {
           "angularaxis": {
            "gridcolor": "white",
            "linecolor": "white",
            "ticks": ""
           },
           "bgcolor": "#E5ECF6",
           "radialaxis": {
            "gridcolor": "white",
            "linecolor": "white",
            "ticks": ""
           }
          },
          "scene": {
           "xaxis": {
            "backgroundcolor": "#E5ECF6",
            "gridcolor": "white",
            "gridwidth": 2,
            "linecolor": "white",
            "showbackground": true,
            "ticks": "",
            "zerolinecolor": "white"
           },
           "yaxis": {
            "backgroundcolor": "#E5ECF6",
            "gridcolor": "white",
            "gridwidth": 2,
            "linecolor": "white",
            "showbackground": true,
            "ticks": "",
            "zerolinecolor": "white"
           },
           "zaxis": {
            "backgroundcolor": "#E5ECF6",
            "gridcolor": "white",
            "gridwidth": 2,
            "linecolor": "white",
            "showbackground": true,
            "ticks": "",
            "zerolinecolor": "white"
           }
          },
          "shapedefaults": {
           "line": {
            "color": "#2a3f5f"
           }
          },
          "ternary": {
           "aaxis": {
            "gridcolor": "white",
            "linecolor": "white",
            "ticks": ""
           },
           "baxis": {
            "gridcolor": "white",
            "linecolor": "white",
            "ticks": ""
           },
           "bgcolor": "#E5ECF6",
           "caxis": {
            "gridcolor": "white",
            "linecolor": "white",
            "ticks": ""
           }
          },
          "title": {
           "x": 0.05
          },
          "xaxis": {
           "automargin": true,
           "gridcolor": "white",
           "linecolor": "white",
           "ticks": "",
           "title": {
            "standoff": 15
           },
           "zerolinecolor": "white",
           "zerolinewidth": 2
          },
          "yaxis": {
           "automargin": true,
           "gridcolor": "white",
           "linecolor": "white",
           "ticks": "",
           "title": {
            "standoff": 15
           },
           "zerolinecolor": "white",
           "zerolinewidth": 2
          }
         }
        },
        "title": {
         "text": "R2-score for Different Tree Models",
         "x": 0.5
        },
        "xaxis": {
         "anchor": "y",
         "autorange": true,
         "domain": [
          0,
          1
         ],
         "range": [
          -0.5,
          3.5
         ],
         "title": {
          "text": "Model"
         },
         "type": "category"
        },
        "yaxis": {
         "anchor": "x",
         "domain": [
          0,
          1
         ],
         "range": [
          0.75,
          0.95
         ],
         "title": {
          "text": "R2-score"
         },
         "type": "linear"
        }
       }
      },
      "text/html": [
       "<div>                            <div id=\"34974e0d-1c6c-494c-95f7-ba6cd9c3a388\" class=\"plotly-graph-div\" style=\"height:525px; width:100%;\"></div>            <script type=\"text/javascript\">                require([\"plotly\"], function(Plotly) {                    window.PLOTLYENV=window.PLOTLYENV || {};                                    if (document.getElementById(\"34974e0d-1c6c-494c-95f7-ba6cd9c3a388\")) {                    Plotly.newPlot(                        \"34974e0d-1c6c-494c-95f7-ba6cd9c3a388\",                        [{\"alignmentgroup\":\"True\",\"hovertemplate\":\"color=train\\u003cbr\\u003eModel=%{x}\\u003cbr\\u003eR2-score=%{text}\\u003cextra\\u003e\\u003c\\u002fextra\\u003e\",\"legendgroup\":\"train\",\"marker\":{\"color\":\"#4c72b0\",\"pattern\":{\"shape\":\"\"}},\"name\":\"train\",\"offsetgroup\":\"train\",\"orientation\":\"v\",\"showlegend\":true,\"text\":[0.8501828372165627,0.8752875995121423,0.9033759051637653,0.9099536365851442],\"textposition\":\"outside\",\"x\":[\"Decision Tree\",\"Random Forest\",\"Gradient Boosted Tree (sklearn)\",\"XGBoost\"],\"xaxis\":\"x\",\"y\":[0.8501828372165627,0.8752875995121423,0.9033759051637653,0.9099536365851442],\"yaxis\":\"y\",\"type\":\"bar\",\"texttemplate\":\"%{text:.4f}\"},{\"alignmentgroup\":\"True\",\"hovertemplate\":\"color=val\\u003cbr\\u003eModel=%{x}\\u003cbr\\u003eR2-score=%{text}\\u003cextra\\u003e\\u003c\\u002fextra\\u003e\",\"legendgroup\":\"val\",\"marker\":{\"color\":\"#dd8452\",\"pattern\":{\"shape\":\"\"}},\"name\":\"val\",\"offsetgroup\":\"val\",\"orientation\":\"v\",\"showlegend\":true,\"text\":[0.8283764097518237,0.845656028965165,0.861186686395152,0.8657142249595333],\"textposition\":\"outside\",\"x\":[\"Decision Tree\",\"Random Forest\",\"Gradient Boosted Tree (sklearn)\",\"XGBoost\"],\"xaxis\":\"x\",\"y\":[0.8283764097518237,0.845656028965165,0.861186686395152,0.8657142249595333],\"yaxis\":\"y\",\"type\":\"bar\",\"texttemplate\":\"%{text:.4f}\"},{\"alignmentgroup\":\"True\",\"hovertemplate\":\"color=test\\u003cbr\\u003eModel=%{x}\\u003cbr\\u003eR2-score=%{text}\\u003cextra\\u003e\\u003c\\u002fextra\\u003e\",\"legendgroup\":\"test\",\"marker\":{\"color\":\"#55a868\",\"pattern\":{\"shape\":\"\"}},\"name\":\"test\",\"offsetgroup\":\"test\",\"orientation\":\"v\",\"showlegend\":true,\"text\":[0.8351892218062194,0.8550377336426056,0.8732095511599891,0.8800627266943422],\"textposition\":\"outside\",\"x\":[\"Decision Tree\",\"Random Forest\",\"Gradient Boosted Tree (sklearn)\",\"XGBoost\"],\"xaxis\":\"x\",\"y\":[0.8351892218062194,0.8550377336426056,0.8732095511599891,0.8800627266943422],\"yaxis\":\"y\",\"type\":\"bar\",\"texttemplate\":\"%{text:.4f}\"}],                        {\"template\":{\"data\":{\"histogram2dcontour\":[{\"type\":\"histogram2dcontour\",\"colorbar\":{\"outlinewidth\":0,\"ticks\":\"\"},\"colorscale\":[[0.0,\"#0d0887\"],[0.1111111111111111,\"#46039f\"],[0.2222222222222222,\"#7201a8\"],[0.3333333333333333,\"#9c179e\"],[0.4444444444444444,\"#bd3786\"],[0.5555555555555556,\"#d8576b\"],[0.6666666666666666,\"#ed7953\"],[0.7777777777777778,\"#fb9f3a\"],[0.8888888888888888,\"#fdca26\"],[1.0,\"#f0f921\"]]}],\"choropleth\":[{\"type\":\"choropleth\",\"colorbar\":{\"outlinewidth\":0,\"ticks\":\"\"}}],\"histogram2d\":[{\"type\":\"histogram2d\",\"colorbar\":{\"outlinewidth\":0,\"ticks\":\"\"},\"colorscale\":[[0.0,\"#0d0887\"],[0.1111111111111111,\"#46039f\"],[0.2222222222222222,\"#7201a8\"],[0.3333333333333333,\"#9c179e\"],[0.4444444444444444,\"#bd3786\"],[0.5555555555555556,\"#d8576b\"],[0.6666666666666666,\"#ed7953\"],[0.7777777777777778,\"#fb9f3a\"],[0.8888888888888888,\"#fdca26\"],[1.0,\"#f0f921\"]]}],\"heatmap\":[{\"type\":\"heatmap\",\"colorbar\":{\"outlinewidth\":0,\"ticks\":\"\"},\"colorscale\":[[0.0,\"#0d0887\"],[0.1111111111111111,\"#46039f\"],[0.2222222222222222,\"#7201a8\"],[0.3333333333333333,\"#9c179e\"],[0.4444444444444444,\"#bd3786\"],[0.5555555555555556,\"#d8576b\"],[0.6666666666666666,\"#ed7953\"],[0.7777777777777778,\"#fb9f3a\"],[0.8888888888888888,\"#fdca26\"],[1.0,\"#f0f921\"]]}],\"heatmapgl\":[{\"type\":\"heatmapgl\",\"colorbar\":{\"outlinewidth\":0,\"ticks\":\"\"},\"colorscale\":[[0.0,\"#0d0887\"],[0.1111111111111111,\"#46039f\"],[0.2222222222222222,\"#7201a8\"],[0.3333333333333333,\"#9c179e\"],[0.4444444444444444,\"#bd3786\"],[0.5555555555555556,\"#d8576b\"],[0.6666666666666666,\"#ed7953\"],[0.7777777777777778,\"#fb9f3a\"],[0.8888888888888888,\"#fdca26\"],[1.0,\"#f0f921\"]]}],\"contourcarpet\":[{\"type\":\"contourcarpet\",\"colorbar\":{\"outlinewidth\":0,\"ticks\":\"\"}}],\"contour\":[{\"type\":\"contour\",\"colorbar\":{\"outlinewidth\":0,\"ticks\":\"\"},\"colorscale\":[[0.0,\"#0d0887\"],[0.1111111111111111,\"#46039f\"],[0.2222222222222222,\"#7201a8\"],[0.3333333333333333,\"#9c179e\"],[0.4444444444444444,\"#bd3786\"],[0.5555555555555556,\"#d8576b\"],[0.6666666666666666,\"#ed7953\"],[0.7777777777777778,\"#fb9f3a\"],[0.8888888888888888,\"#fdca26\"],[1.0,\"#f0f921\"]]}],\"surface\":[{\"type\":\"surface\",\"colorbar\":{\"outlinewidth\":0,\"ticks\":\"\"},\"colorscale\":[[0.0,\"#0d0887\"],[0.1111111111111111,\"#46039f\"],[0.2222222222222222,\"#7201a8\"],[0.3333333333333333,\"#9c179e\"],[0.4444444444444444,\"#bd3786\"],[0.5555555555555556,\"#d8576b\"],[0.6666666666666666,\"#ed7953\"],[0.7777777777777778,\"#fb9f3a\"],[0.8888888888888888,\"#fdca26\"],[1.0,\"#f0f921\"]]}],\"mesh3d\":[{\"type\":\"mesh3d\",\"colorbar\":{\"outlinewidth\":0,\"ticks\":\"\"}}],\"scatter\":[{\"fillpattern\":{\"fillmode\":\"overlay\",\"size\":10,\"solidity\":0.2},\"type\":\"scatter\"}],\"parcoords\":[{\"type\":\"parcoords\",\"line\":{\"colorbar\":{\"outlinewidth\":0,\"ticks\":\"\"}}}],\"scatterpolargl\":[{\"type\":\"scatterpolargl\",\"marker\":{\"colorbar\":{\"outlinewidth\":0,\"ticks\":\"\"}}}],\"bar\":[{\"error_x\":{\"color\":\"#2a3f5f\"},\"error_y\":{\"color\":\"#2a3f5f\"},\"marker\":{\"line\":{\"color\":\"#E5ECF6\",\"width\":0.5},\"pattern\":{\"fillmode\":\"overlay\",\"size\":10,\"solidity\":0.2}},\"type\":\"bar\"}],\"scattergeo\":[{\"type\":\"scattergeo\",\"marker\":{\"colorbar\":{\"outlinewidth\":0,\"ticks\":\"\"}}}],\"scatterpolar\":[{\"type\":\"scatterpolar\",\"marker\":{\"colorbar\":{\"outlinewidth\":0,\"ticks\":\"\"}}}],\"histogram\":[{\"marker\":{\"pattern\":{\"fillmode\":\"overlay\",\"size\":10,\"solidity\":0.2}},\"type\":\"histogram\"}],\"scattergl\":[{\"type\":\"scattergl\",\"marker\":{\"colorbar\":{\"outlinewidth\":0,\"ticks\":\"\"}}}],\"scatter3d\":[{\"type\":\"scatter3d\",\"line\":{\"colorbar\":{\"outlinewidth\":0,\"ticks\":\"\"}},\"marker\":{\"colorbar\":{\"outlinewidth\":0,\"ticks\":\"\"}}}],\"scattermapbox\":[{\"type\":\"scattermapbox\",\"marker\":{\"colorbar\":{\"outlinewidth\":0,\"ticks\":\"\"}}}],\"scatterternary\":[{\"type\":\"scatterternary\",\"marker\":{\"colorbar\":{\"outlinewidth\":0,\"ticks\":\"\"}}}],\"scattercarpet\":[{\"type\":\"scattercarpet\",\"marker\":{\"colorbar\":{\"outlinewidth\":0,\"ticks\":\"\"}}}],\"carpet\":[{\"aaxis\":{\"endlinecolor\":\"#2a3f5f\",\"gridcolor\":\"white\",\"linecolor\":\"white\",\"minorgridcolor\":\"white\",\"startlinecolor\":\"#2a3f5f\"},\"baxis\":{\"endlinecolor\":\"#2a3f5f\",\"gridcolor\":\"white\",\"linecolor\":\"white\",\"minorgridcolor\":\"white\",\"startlinecolor\":\"#2a3f5f\"},\"type\":\"carpet\"}],\"table\":[{\"cells\":{\"fill\":{\"color\":\"#EBF0F8\"},\"line\":{\"color\":\"white\"}},\"header\":{\"fill\":{\"color\":\"#C8D4E3\"},\"line\":{\"color\":\"white\"}},\"type\":\"table\"}],\"barpolar\":[{\"marker\":{\"line\":{\"color\":\"#E5ECF6\",\"width\":0.5},\"pattern\":{\"fillmode\":\"overlay\",\"size\":10,\"solidity\":0.2}},\"type\":\"barpolar\"}],\"pie\":[{\"automargin\":true,\"type\":\"pie\"}]},\"layout\":{\"autotypenumbers\":\"strict\",\"colorway\":[\"#636efa\",\"#EF553B\",\"#00cc96\",\"#ab63fa\",\"#FFA15A\",\"#19d3f3\",\"#FF6692\",\"#B6E880\",\"#FF97FF\",\"#FECB52\"],\"font\":{\"color\":\"#2a3f5f\"},\"hovermode\":\"closest\",\"hoverlabel\":{\"align\":\"left\"},\"paper_bgcolor\":\"white\",\"plot_bgcolor\":\"#E5ECF6\",\"polar\":{\"bgcolor\":\"#E5ECF6\",\"angularaxis\":{\"gridcolor\":\"white\",\"linecolor\":\"white\",\"ticks\":\"\"},\"radialaxis\":{\"gridcolor\":\"white\",\"linecolor\":\"white\",\"ticks\":\"\"}},\"ternary\":{\"bgcolor\":\"#E5ECF6\",\"aaxis\":{\"gridcolor\":\"white\",\"linecolor\":\"white\",\"ticks\":\"\"},\"baxis\":{\"gridcolor\":\"white\",\"linecolor\":\"white\",\"ticks\":\"\"},\"caxis\":{\"gridcolor\":\"white\",\"linecolor\":\"white\",\"ticks\":\"\"}},\"coloraxis\":{\"colorbar\":{\"outlinewidth\":0,\"ticks\":\"\"}},\"colorscale\":{\"sequential\":[[0.0,\"#0d0887\"],[0.1111111111111111,\"#46039f\"],[0.2222222222222222,\"#7201a8\"],[0.3333333333333333,\"#9c179e\"],[0.4444444444444444,\"#bd3786\"],[0.5555555555555556,\"#d8576b\"],[0.6666666666666666,\"#ed7953\"],[0.7777777777777778,\"#fb9f3a\"],[0.8888888888888888,\"#fdca26\"],[1.0,\"#f0f921\"]],\"sequentialminus\":[[0.0,\"#0d0887\"],[0.1111111111111111,\"#46039f\"],[0.2222222222222222,\"#7201a8\"],[0.3333333333333333,\"#9c179e\"],[0.4444444444444444,\"#bd3786\"],[0.5555555555555556,\"#d8576b\"],[0.6666666666666666,\"#ed7953\"],[0.7777777777777778,\"#fb9f3a\"],[0.8888888888888888,\"#fdca26\"],[1.0,\"#f0f921\"]],\"diverging\":[[0,\"#8e0152\"],[0.1,\"#c51b7d\"],[0.2,\"#de77ae\"],[0.3,\"#f1b6da\"],[0.4,\"#fde0ef\"],[0.5,\"#f7f7f7\"],[0.6,\"#e6f5d0\"],[0.7,\"#b8e186\"],[0.8,\"#7fbc41\"],[0.9,\"#4d9221\"],[1,\"#276419\"]]},\"xaxis\":{\"gridcolor\":\"white\",\"linecolor\":\"white\",\"ticks\":\"\",\"title\":{\"standoff\":15},\"zerolinecolor\":\"white\",\"automargin\":true,\"zerolinewidth\":2},\"yaxis\":{\"gridcolor\":\"white\",\"linecolor\":\"white\",\"ticks\":\"\",\"title\":{\"standoff\":15},\"zerolinecolor\":\"white\",\"automargin\":true,\"zerolinewidth\":2},\"scene\":{\"xaxis\":{\"backgroundcolor\":\"#E5ECF6\",\"gridcolor\":\"white\",\"linecolor\":\"white\",\"showbackground\":true,\"ticks\":\"\",\"zerolinecolor\":\"white\",\"gridwidth\":2},\"yaxis\":{\"backgroundcolor\":\"#E5ECF6\",\"gridcolor\":\"white\",\"linecolor\":\"white\",\"showbackground\":true,\"ticks\":\"\",\"zerolinecolor\":\"white\",\"gridwidth\":2},\"zaxis\":{\"backgroundcolor\":\"#E5ECF6\",\"gridcolor\":\"white\",\"linecolor\":\"white\",\"showbackground\":true,\"ticks\":\"\",\"zerolinecolor\":\"white\",\"gridwidth\":2}},\"shapedefaults\":{\"line\":{\"color\":\"#2a3f5f\"}},\"annotationdefaults\":{\"arrowcolor\":\"#2a3f5f\",\"arrowhead\":0,\"arrowwidth\":1},\"geo\":{\"bgcolor\":\"white\",\"landcolor\":\"#E5ECF6\",\"subunitcolor\":\"white\",\"showland\":true,\"showlakes\":true,\"lakecolor\":\"white\"},\"title\":{\"x\":0.05},\"mapbox\":{\"style\":\"light\"}}},\"xaxis\":{\"anchor\":\"y\",\"domain\":[0.0,1.0],\"title\":{\"text\":\"Model\"}},\"yaxis\":{\"anchor\":\"x\",\"domain\":[0.0,1.0],\"title\":{\"text\":\"R2-score\"},\"range\":[0.75,0.95]},\"legend\":{\"title\":{\"text\":\"color\"},\"tracegroupgap\":0},\"title\":{\"text\":\"R2-score for Different Tree Models\",\"x\":0.5},\"barmode\":\"group\"},                        {\"responsive\": true}                    ).then(function(){\n",
       "                            \n",
       "var gd = document.getElementById('34974e0d-1c6c-494c-95f7-ba6cd9c3a388');\n",
       "var x = new MutationObserver(function (mutations, observer) {{\n",
       "        var display = window.getComputedStyle(gd).display;\n",
       "        if (!display || display === 'none') {{\n",
       "            console.log([gd, 'removed!']);\n",
       "            Plotly.purge(gd);\n",
       "            observer.disconnect();\n",
       "        }}\n",
       "}});\n",
       "\n",
       "// Listen for the removal of the full notebook cells\n",
       "var notebookContainer = gd.closest('#notebook-container');\n",
       "if (notebookContainer) {{\n",
       "    x.observe(notebookContainer, {childList: true});\n",
       "}}\n",
       "\n",
       "// Listen for the clearing of the current output cell\n",
       "var outputEl = gd.closest('.output');\n",
       "if (outputEl) {{\n",
       "    x.observe(outputEl, {childList: true});\n",
       "}}\n",
       "\n",
       "                        })                };                });            </script>        </div>"
      ]
     },
     "metadata": {},
     "output_type": "display_data"
    }
   ],
   "source": [
    "# Extract the 3 color code in the format \"#4C72B0\"\n",
    "deep_colors = sns.color_palette(\"deep\", 3).as_hex() \n",
    "# Set the plot.\n",
    "fig = px.bar(r2_data, \n",
    "             x=r2_data.index.get_level_values(0), \n",
    "             y=\"R2\",\n",
    "             color=r2_data.index.get_level_values(1), \n",
    "             barmode=\"group\", \n",
    "             title=\"R2-score for Different Tree Models\",\n",
    "             labels={\"x\": \"Model\", \"R2\": \"R2-score\"},\n",
    "             color_discrete_sequence=deep_colors,\n",
    "             text=\"R2\"\n",
    ")\n",
    "# Update the y-axis range if desired\n",
    "fig.update_layout(\n",
    "    yaxis=dict(range=[0.75, 0.95]),\n",
    "    title_x=0.5\n",
    ")\n",
    "fig.update_traces(texttemplate=\"%{text:.4f}\", textposition=\"outside\")\n",
    "# Show the plot.\n",
    "fig.show()\n"
   ]
  },
  {
   "cell_type": "markdown",
   "id": "59376988-77b7-4cd2-ad2b-b662f9c3736f",
   "metadata": {},
   "source": [
    "<div style=\"text-align: center;\">\n",
    "    Fig. 7.1. R2-score for Different Tree Models.\n",
    "</div>"
   ]
  },
  {
   "cell_type": "markdown",
   "id": "66ac519d-4826-4aef-a052-fe3d6eb57d12",
   "metadata": {},
   "source": [
    "# Conclusions"
   ]
  },
  {
   "cell_type": "markdown",
   "id": "3336fe5a-a7ae-4e55-b36b-943cd0c19798",
   "metadata": {},
   "source": [
    "- Decison Tree has an R2-score of 0.8352.\n",
    "- Random forest has an R2-score of 0.8550.\n",
    "- Gradient Boosted Tree (sklearn) has an R2-score of 0.8732.\n",
    "- XGBoost has an R2-score of 0.8801."
   ]
  }
 ],
 "metadata": {
  "kernelspec": {
   "display_name": "Python 3.9 (env_mc_tf)",
   "language": "python",
   "name": "env_mc_tf"
  },
  "language_info": {
   "codemirror_mode": {
    "name": "ipython",
    "version": 3
   },
   "file_extension": ".py",
   "mimetype": "text/x-python",
   "name": "python",
   "nbconvert_exporter": "python",
   "pygments_lexer": "ipython3",
   "version": "3.9.16"
  }
 },
 "nbformat": 4,
 "nbformat_minor": 5
}
