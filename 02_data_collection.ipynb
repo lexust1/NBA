{
 "cells": [
  {
   "cell_type": "markdown",
   "id": "dea866c1-8b39-4eea-b327-d57d802037b0",
   "metadata": {},
   "source": [
    "# 02. Data Collection"
   ]
  },
  {
   "cell_type": "markdown",
   "id": "a8831faf-5a08-4ce8-b78f-a619a1eb2096",
   "metadata": {},
   "source": [
    "## NBA SQLite database ([the NBA Database](https://github.com/wyattowalsh/nba-db))"
   ]
  },
  {
   "cell_type": "markdown",
   "id": "f92e8d1e-3b40-40d9-9a1c-2f3e51db82ef",
   "metadata": {},
   "source": [
    "The data is collected. See [01_problem_definition.ipynb](01_problem_definition.ipynb)."
   ]
  },
  {
   "cell_type": "markdown",
   "id": "5e0cedcd-3a5c-42cb-a678-a26232ea6431",
   "metadata": {},
   "source": [
    "## The NBA PosgreSQL database (collected over API)"
   ]
  },
  {
   "cell_type": "markdown",
   "id": "dc403c60-819a-4e1c-b7f1-63d308d7ad49",
   "metadata": {},
   "source": [
    "Create a PosgreSQL database using DBeaver and name it \"nba\". \n",
    "\n",
    "Then look at the API description to understand which tables we should create to store the data:"
   ]
  },
  {
   "cell_type": "markdown",
   "id": "a5ffd1da-505a-4dd6-869f-ea34ddefe62d",
   "metadata": {},
   "source": [
    "Description of API:\n",
    "\n",
    "https://www.balldontlie.io/home.html?shell#get-all-stats\n",
    "\n",
    "curl \"https://www.balldontlie.io/api/v1/stats\"\n",
    "\n",
    "The above command returns JSON structured like this:\n",
    "```\n",
    "{\n",
    "  \"data\": [\n",
    "    {\n",
    "      \"id\":29,\n",
    "      \"ast\":2,\n",
    "      \"blk\":2,\n",
    "      \"dreb\":8,\n",
    "      \"fg3_pct\":0.25,\n",
    "      \"fg3a\":4,\n",
    "      \"fg3m\":1,\n",
    "      \"fg_pct\":0.429,\n",
    "      \"fga\":21,\n",
    "      \"fgm\":9,\n",
    "      \"ft_pct\":0.8,\n",
    "      \"fta\":5,\n",
    "      \"ftm\":4,\n",
    "      \"game\":{\n",
    "        \"id\":1,\n",
    "        \"date\":\"2018-10-16T00:00:00.000Z\",\n",
    "        \"home_team_id\":2,\n",
    "        \"home_team_score\":105,\n",
    "        \"season\":2018,\n",
    "        \"visitor_team_id\":23,\n",
    "        \"visitor_team_score\":87\n",
    "      },\n",
    "      \"min\":\"36:49\",\n",
    "      \"oreb\":2,\n",
    "      \"pf\":3,\n",
    "      \"player\":{\n",
    "        \"id\":145,\n",
    "        \"first_name\":\"Joel\",\n",
    "        \"last_name\":\"Embiid\",\n",
    "        \"position\":\"F-C\",\n",
    "        \"team_id\":23\n",
    "      },\n",
    "      \"pts\":23,\n",
    "      \"reb\":10,\n",
    "      \"stl\":1,\n",
    "      \"team\":{\n",
    "        \"id\":23,\n",
    "        \"abbreviation\":\"PHI\",\n",
    "        \"city\":\"Philadelphia\",\n",
    "        \"conference\":\"East\",\n",
    "        \"division\":\"Atlantic\",\n",
    "        \"full_name\":\"Philadelphia 76ers\",\n",
    "        \"name\":\"76ers\"\n",
    "      },\n",
    "      \"turnover\":5\n",
    "    },\n",
    "    ...\n",
    "  ],\n",
    "  \"meta\": {\n",
    "    \"total_pages\": 2042,\n",
    "    \"current_page\": 1,\n",
    "    \"next_page\": 2,\n",
    "    \"per_page\": 25,\n",
    "    \"total_count\": 51045\n",
    "  }\n",
    "}\n",
    "```\n",
    "\n",
    "The API properties:\n",
    "- No email required\n",
    "- No API key required\n",
    "- Contains data from seasons 1946-current\n",
    "- Live(ish) game stats are available (updated every ~10 minutes)\n",
    "- Rate limit of 60 requests per minute\n",
    "  \n",
    "There are 4 groups in the JSON-file: game, player, team, and other statistics. So, we will create the games, players, teams and stats tables in the nba database.\n",
    "\n",
    "It is important to pay attention to the following points:\n",
    "- The \"player\" dictionary within the \"data\" dictionary contains the team_id key. Some players might play for different teams in a single season. But API provides information only about one team. In some cases, the team_id value within the \"player\" dictionary does not equal the id within the \"team\" dictionary. It can violate the key constraint that will be created between the players and teams tables. We will use the team value (id) from the \"team\" dictionary in both cases. This approach is appropriate, because we are primarily interested in player's team when the game happened.\n",
    "- The team id is located in the \"team\" dictionary (as id), \"game\" dictionary (as home_team_id and visitor_team_id), and \"player\" dictionary (as team_id). The stats table will also include the team_id. This means that the teams table will be linked with all other tables. If we do not insert all teams  in the teams table at the beggining we might face with key constraint issues. Therefore, we will first populate the teams table and then will populate the other tables to avoid violating foreign key constraints. \n"
   ]
  },
  {
   "cell_type": "markdown",
   "id": "32e6706b-6fae-4365-908d-69888eeeeb72",
   "metadata": {},
   "source": [
    "Import libraries and set environment:"
   ]
  },
  {
   "cell_type": "code",
   "execution_count": 12,
   "id": "822ba45c-9291-4fbc-a840-cc954fbf40eb",
   "metadata": {},
   "outputs": [
    {
     "data": {
      "text/plain": [
       "True"
      ]
     },
     "execution_count": 12,
     "metadata": {},
     "output_type": "execute_result"
    }
   ],
   "source": [
    "# Import the standard libraries.\n",
    "import os\n",
    "import datetime\n",
    "\n",
    "# Import the third party libraries.\n",
    "from dotenv import load_dotenv\n",
    "import psycopg\n",
    "\n",
    "# Import the local/project packages, modules, and fucntions.\n",
    "from utils.data_collection import (\n",
    "    create_tables,\n",
    "    get_table_names,\n",
    "    get_data,\n",
    "    insert_data_to_teams,\n",
    "    insert_data,\n",
    "    fetch_all_data,\n",
    "    prepare_df\n",
    ")\n",
    "# Set environment.\n",
    "load_dotenv()"
   ]
  },
  {
   "cell_type": "markdown",
   "id": "4fd6d088-7816-43d8-b81d-c0dce686fd1a",
   "metadata": {},
   "source": [
    "Establish a connection to our database and create a cursor:"
   ]
  },
  {
   "cell_type": "code",
   "execution_count": 2,
   "id": "0fd47dcd-2fb5-468e-9865-6f55bc410444",
   "metadata": {},
   "outputs": [],
   "source": [
    "# Connect to the PostgreSQL DB.\n",
    "conn = psycopg.connect(\n",
    "    dbname=\"nba\",\n",
    "    user=os.environ.get(\"user\"),\n",
    "    password=os.environ.get(\"password\"),\n",
    "    host=os.environ.get(\"host\"),\n",
    "    port=os.environ.get(\"port\")\n",
    ")\n",
    "# Create a cursor object.\n",
    "cur = conn.cursor()"
   ]
  },
  {
   "cell_type": "markdown",
   "id": "18dfca3a-9ebd-4893-867a-4ab8790ae726",
   "metadata": {},
   "source": [
    "Create the tables in the nba database ([see the create_tables function](utils/data_collection.py)) and save changes:"
   ]
  },
  {
   "cell_type": "code",
   "execution_count": 3,
   "id": "dadda414-86f2-45dc-8279-e2ba42e68912",
   "metadata": {},
   "outputs": [],
   "source": [
    "create_tables(cur)\n",
    "conn.commit()"
   ]
  },
  {
   "cell_type": "markdown",
   "id": "f391e813-d894-4887-ab87-1d886e39d0a4",
   "metadata": {},
   "source": [
    "Output the names of created tables ([see the get_table_names function](utils/data_collection.py)):"
   ]
  },
  {
   "cell_type": "code",
   "execution_count": 4,
   "id": "e348f5d7-4254-49ab-9745-dc63e006ed2a",
   "metadata": {},
   "outputs": [
    {
     "name": "stdout",
     "output_type": "stream",
     "text": [
      "2023-08-10 19:06:49,947 | utils.data_collection | INFO | The following tables have been created: ['teams', 'games', 'players', 'stats'].\n"
     ]
    }
   ],
   "source": [
    "get_table_names(cur)"
   ]
  },
  {
   "cell_type": "markdown",
   "id": "911de24d-46a9-48b8-8034-a94c3f0d0d9f",
   "metadata": {},
   "source": [
    "Use DBeaver to generate ER diagram for the nba PostgreSQL database:"
   ]
  },
  {
   "cell_type": "markdown",
   "id": "be3c4941-878d-4457-b70d-ab3b1beafbea",
   "metadata": {},
   "source": [
    "<div>\n",
    "    <img src=\"figures/2.1 ER diagram.png\" alt=\"Fig. 2.1. The nba PostgreSQL ER diagram.\" style=\"display: block; margin: 0 auto;\">\n",
    "    <p style=\"text-align: center;\">Fig. 2.1. The nba PostgreSQL ER diagram.</p>\n",
    "</div>"
   ]
  },
  {
   "cell_type": "markdown",
   "id": "d6191d41-cc4d-4ac5-bde1-ff3c0fba79ec",
   "metadata": {},
   "source": [
    "Insert the data into the teams tables and save changes in the nba database  ([see the insert_data_to_teams function](utils/data_collection.py))."
   ]
  },
  {
   "cell_type": "code",
   "execution_count": 5,
   "id": "b83e82da-83a6-41b6-bb2a-fa66f66a86c2",
   "metadata": {},
   "outputs": [
    {
     "name": "stdout",
     "output_type": "stream",
     "text": [
      "2023-08-10 19:06:56,934 | utils.data_collection | INFO | Successful API call to the teams endpoint.\n",
      "2023-08-10 19:06:56,944 | utils.data_collection | INFO | The data have been inserted to the teams tables.\n",
      "2023-08-10 19:06:56,948 | utils.data_collection | INFO | The changes in the DB have been saved.\n"
     ]
    }
   ],
   "source": [
    "insert_data_to_teams(cur, conn)"
   ]
  },
  {
   "cell_type": "markdown",
   "id": "0cb5a0b2-4945-4a89-95b8-c283d40fefaa",
   "metadata": {},
   "source": [
    "Insert the data into the games, players, and stats tables and save changes in the nba database. Use batches and seasons to insert the data\n",
    "([see the get_data function](utils/data_collection.py)). Collect the data from 1946 to 2023. It takes some hours. Note: The remote service sometimes closes the connection even if you haven't reached the limit. If this happens, change the starting year and run the cell again."
   ]
  },
  {
   "cell_type": "code",
   "execution_count": null,
   "id": "eaf47d20-090f-49a8-b2c0-edd12a2c6018",
   "metadata": {},
   "outputs": [],
   "source": [
    "seasons = list(range(1946, 2023))\n",
    "[get_data(cur, conn, season, start_page=1) for season in seasons]"
   ]
  },
  {
   "cell_type": "code",
   "execution_count": 21,
   "id": "03badebf-f4b1-4e16-987d-ecdfbae55043",
   "metadata": {},
   "outputs": [],
   "source": [
    "# Close the cursor and connection.\n",
    "cur.close()\n",
    "conn.close()"
   ]
  },
  {
   "cell_type": "markdown",
   "id": "80156ccd-6466-4591-a2a3-a468127f1ebb",
   "metadata": {},
   "source": [
    "Uncomment and run if you want to test the connection to the service:"
   ]
  },
  {
   "cell_type": "code",
   "execution_count": 19,
   "id": "dc507986-963a-43bb-a130-6beada68ed0d",
   "metadata": {},
   "outputs": [],
   "source": [
    "# import requests\n",
    "# response = requests.get(\n",
    "#     url=\"https://www.balldontlie.io/api/v1/stats\",\n",
    "#     params={\"page\": 1, \"per_page\": 100, \"seasons[]\": 2022}\n",
    "# )\n",
    "# data = response.json()"
   ]
  },
  {
   "cell_type": "code",
   "execution_count": null,
   "id": "70380154-1044-4f17-a914-1002b611a796",
   "metadata": {},
   "outputs": [],
   "source": [
    "# data"
   ]
  },
  {
   "cell_type": "markdown",
   "id": "7829d15a-9dab-4d1a-bf3b-e4dbf06e5830",
   "metadata": {},
   "source": [
    "Create a backup (dump) in DBeaver."
   ]
  },
  {
   "cell_type": "markdown",
   "id": "aca6554b-6995-467a-a709-0b028f017568",
   "metadata": {},
   "source": [
    "## The csv-files (collected using scraping)"
   ]
  },
  {
   "cell_type": "markdown",
   "id": "4f1e9ea3-3d7b-40a8-be78-1a1b6437277e",
   "metadata": {},
   "source": [
    "Two other databases do not have enough information, especially about birthdays. We will fetch the data from [basketball-reference.com](https://www.basketball-reference.com/) and save them as csv-files."
   ]
  },
  {
   "cell_type": "markdown",
   "id": "e9208664-24bf-4412-a5b6-7b9aa6fab4bd",
   "metadata": {},
   "source": [
    "Insert the data into the teams tables and save changes in the nba database  ([see the fetch_all_data function](utils/data_collection.py)):"
   ]
  },
  {
   "cell_type": "code",
   "execution_count": 2,
   "id": "7e3a8718-5524-4551-8561-c4c2f5aa58fc",
   "metadata": {},
   "outputs": [
    {
     "name": "stdout",
     "output_type": "stream",
     "text": [
      "2023-08-23 09:29:52,282 | utils.data_collection | INFO | Fetch data for letter: a. Waiting for 60 s ...\n",
      "2023-08-23 09:31:15,863 | utils.data_collection | INFO | Fetch data for letter: b. Waiting for 81 s ...\n",
      "2023-08-23 09:32:31,004 | utils.data_collection | INFO | Fetch data for letter: c. Waiting for 73 s ...\n",
      "2023-08-23 09:33:53,159 | utils.data_collection | INFO | Fetch data for letter: d. Waiting for 80 s ...\n",
      "2023-08-23 09:35:31,288 | utils.data_collection | INFO | Fetch data for letter: e. Waiting for 96 s ...\n",
      "2023-08-23 09:37:14,541 | utils.data_collection | INFO | Fetch data for letter: f. Waiting for 100 s ...\n",
      "2023-08-23 09:39:09,802 | utils.data_collection | INFO | Fetch data for letter: g. Waiting for 112 s ...\n",
      "2023-08-23 09:40:42,343 | utils.data_collection | INFO | Fetch data for letter: h. Waiting for 90 s ...\n",
      "2023-08-23 09:42:08,419 | utils.data_collection | INFO | Fetch data for letter: i. Waiting for 84 s ...\n",
      "2023-08-23 09:43:40,883 | utils.data_collection | INFO | Fetch data for letter: j. Waiting for 90 s ...\n",
      "2023-08-23 09:44:49,954 | utils.data_collection | INFO | Fetch data for letter: k. Waiting for 67 s ...\n",
      "2023-08-23 09:46:17,182 | utils.data_collection | INFO | Fetch data for letter: l. Waiting for 85 s ...\n",
      "2023-08-23 09:48:00,114 | utils.data_collection | INFO | Fetch data for letter: m. Waiting for 99 s ...\n",
      "2023-08-23 09:49:23,267 | utils.data_collection | INFO | Fetch data for letter: n. Waiting for 81 s ...\n",
      "2023-08-23 09:51:08,726 | utils.data_collection | INFO | Fetch data for letter: o. Waiting for 103 s ...\n",
      "2023-08-23 09:53:03,307 | utils.data_collection | INFO | Fetch data for letter: p. Waiting for 111 s ...\n",
      "2023-08-23 09:54:29,401 | utils.data_collection | INFO | Fetch data for letter: q. Waiting for 84 s ...\n",
      "2023-08-23 09:55:56,471 | utils.data_collection | INFO | Fetch data for letter: r. Waiting for 85 s ...\n",
      "2023-08-23 09:57:03,293 | utils.data_collection | INFO | Fetch data for letter: s. Waiting for 64 s ...\n",
      "2023-08-23 09:58:43,360 | utils.data_collection | INFO | Fetch data for letter: t. Waiting for 98 s ...\n",
      "2023-08-23 10:00:31,317 | utils.data_collection | INFO | Fetch data for letter: u. Waiting for 106 s ...\n",
      "2023-08-23 10:02:31,411 | utils.data_collection | INFO | Fetch data for letter: v. Waiting for 118 s ...\n",
      "2023-08-23 10:03:40,359 | utils.data_collection | INFO | Fetch data for letter: w. Waiting for 66 s ...\n",
      "2023-08-23 10:05:37,360 | utils.data_collection | INFO | Fetch data for letter: x. Waiting for 114 s ...\n",
      "2023-08-23 10:07:05,667 | utils.data_collection | INFO | Fetch data for letter: y. Waiting for 86 s ...\n",
      "2023-08-23 10:08:38,473 | utils.data_collection | INFO | Fetch data for letter: z. Waiting for 90 s ...\n"
     ]
    }
   ],
   "source": [
    "data = fetch_all_data()"
   ]
  },
  {
   "cell_type": "code",
   "execution_count": 4,
   "id": "7ca8fd0a-8a56-4ee6-a5b5-77c694ba9e1f",
   "metadata": {},
   "outputs": [
    {
     "data": {
      "text/html": [
       "<div>\n",
       "<style scoped>\n",
       "    .dataframe tbody tr th:only-of-type {\n",
       "        vertical-align: middle;\n",
       "    }\n",
       "\n",
       "    .dataframe tbody tr th {\n",
       "        vertical-align: top;\n",
       "    }\n",
       "\n",
       "    .dataframe thead th {\n",
       "        text-align: right;\n",
       "    }\n",
       "</style>\n",
       "<table border=\"1\" class=\"dataframe\">\n",
       "  <thead>\n",
       "    <tr style=\"text-align: right;\">\n",
       "      <th></th>\n",
       "      <th>name</th>\n",
       "      <th>from_year</th>\n",
       "      <th>to_year</th>\n",
       "      <th>pos</th>\n",
       "      <th>height</th>\n",
       "      <th>weight</th>\n",
       "      <th>birth_date</th>\n",
       "      <th>college</th>\n",
       "    </tr>\n",
       "  </thead>\n",
       "  <tbody>\n",
       "    <tr>\n",
       "      <th>0</th>\n",
       "      <td>Alaa Abdelnaby</td>\n",
       "      <td>1991</td>\n",
       "      <td>1995</td>\n",
       "      <td>F-C</td>\n",
       "      <td>6-10</td>\n",
       "      <td>240</td>\n",
       "      <td>June 24, 1968</td>\n",
       "      <td>Duke</td>\n",
       "    </tr>\n",
       "    <tr>\n",
       "      <th>1</th>\n",
       "      <td>Zaid Abdul-Aziz</td>\n",
       "      <td>1969</td>\n",
       "      <td>1978</td>\n",
       "      <td>C-F</td>\n",
       "      <td>6-9</td>\n",
       "      <td>235</td>\n",
       "      <td>April 7, 1946</td>\n",
       "      <td>Iowa State</td>\n",
       "    </tr>\n",
       "    <tr>\n",
       "      <th>2</th>\n",
       "      <td>Kareem Abdul-Jabbar*</td>\n",
       "      <td>1970</td>\n",
       "      <td>1989</td>\n",
       "      <td>C</td>\n",
       "      <td>7-2</td>\n",
       "      <td>225</td>\n",
       "      <td>April 16, 1947</td>\n",
       "      <td>UCLA</td>\n",
       "    </tr>\n",
       "    <tr>\n",
       "      <th>3</th>\n",
       "      <td>Mahmoud Abdul-Rauf</td>\n",
       "      <td>1991</td>\n",
       "      <td>2001</td>\n",
       "      <td>G</td>\n",
       "      <td>6-1</td>\n",
       "      <td>162</td>\n",
       "      <td>March 9, 1969</td>\n",
       "      <td>LSU</td>\n",
       "    </tr>\n",
       "    <tr>\n",
       "      <th>4</th>\n",
       "      <td>Tariq Abdul-Wahad</td>\n",
       "      <td>1998</td>\n",
       "      <td>2003</td>\n",
       "      <td>F</td>\n",
       "      <td>6-6</td>\n",
       "      <td>223</td>\n",
       "      <td>November 3, 1974</td>\n",
       "      <td>Michigan, San Jose State</td>\n",
       "    </tr>\n",
       "    <tr>\n",
       "      <th>...</th>\n",
       "      <td>...</td>\n",
       "      <td>...</td>\n",
       "      <td>...</td>\n",
       "      <td>...</td>\n",
       "      <td>...</td>\n",
       "      <td>...</td>\n",
       "      <td>...</td>\n",
       "      <td>...</td>\n",
       "    </tr>\n",
       "    <tr>\n",
       "      <th>5103</th>\n",
       "      <td>Ante Žižić</td>\n",
       "      <td>2018</td>\n",
       "      <td>2020</td>\n",
       "      <td>F-C</td>\n",
       "      <td>6-10</td>\n",
       "      <td>266</td>\n",
       "      <td>January 4, 1997</td>\n",
       "      <td></td>\n",
       "    </tr>\n",
       "    <tr>\n",
       "      <th>5104</th>\n",
       "      <td>Jim Zoet</td>\n",
       "      <td>1983</td>\n",
       "      <td>1983</td>\n",
       "      <td>C</td>\n",
       "      <td>7-1</td>\n",
       "      <td>240</td>\n",
       "      <td>December 20, 1953</td>\n",
       "      <td>Kent State University</td>\n",
       "    </tr>\n",
       "    <tr>\n",
       "      <th>5105</th>\n",
       "      <td>Bill Zopf</td>\n",
       "      <td>1971</td>\n",
       "      <td>1971</td>\n",
       "      <td>G</td>\n",
       "      <td>6-1</td>\n",
       "      <td>170</td>\n",
       "      <td>June 7, 1948</td>\n",
       "      <td>Duquesne</td>\n",
       "    </tr>\n",
       "    <tr>\n",
       "      <th>5106</th>\n",
       "      <td>Ivica Zubac</td>\n",
       "      <td>2017</td>\n",
       "      <td>2023</td>\n",
       "      <td>C</td>\n",
       "      <td>7-0</td>\n",
       "      <td>240</td>\n",
       "      <td>March 18, 1997</td>\n",
       "      <td></td>\n",
       "    </tr>\n",
       "    <tr>\n",
       "      <th>5107</th>\n",
       "      <td>Matt Zunic</td>\n",
       "      <td>1949</td>\n",
       "      <td>1949</td>\n",
       "      <td>G-F</td>\n",
       "      <td>6-3</td>\n",
       "      <td>195</td>\n",
       "      <td>December 19, 1919</td>\n",
       "      <td>George Washington</td>\n",
       "    </tr>\n",
       "  </tbody>\n",
       "</table>\n",
       "<p>5108 rows × 8 columns</p>\n",
       "</div>"
      ],
      "text/plain": [
       "                      name from_year to_year  pos height weight   \n",
       "0           Alaa Abdelnaby      1991    1995  F-C   6-10    240  \\\n",
       "1          Zaid Abdul-Aziz      1969    1978  C-F    6-9    235   \n",
       "2     Kareem Abdul-Jabbar*      1970    1989    C    7-2    225   \n",
       "3       Mahmoud Abdul-Rauf      1991    2001    G    6-1    162   \n",
       "4        Tariq Abdul-Wahad      1998    2003    F    6-6    223   \n",
       "...                    ...       ...     ...  ...    ...    ...   \n",
       "5103            Ante Žižić      2018    2020  F-C   6-10    266   \n",
       "5104              Jim Zoet      1983    1983    C    7-1    240   \n",
       "5105             Bill Zopf      1971    1971    G    6-1    170   \n",
       "5106           Ivica Zubac      2017    2023    C    7-0    240   \n",
       "5107            Matt Zunic      1949    1949  G-F    6-3    195   \n",
       "\n",
       "             birth_date                   college  \n",
       "0         June 24, 1968                      Duke  \n",
       "1         April 7, 1946                Iowa State  \n",
       "2        April 16, 1947                      UCLA  \n",
       "3         March 9, 1969                       LSU  \n",
       "4      November 3, 1974  Michigan, San Jose State  \n",
       "...                 ...                       ...  \n",
       "5103    January 4, 1997                            \n",
       "5104  December 20, 1953     Kent State University  \n",
       "5105       June 7, 1948                  Duquesne  \n",
       "5106     March 18, 1997                            \n",
       "5107  December 19, 1919         George Washington  \n",
       "\n",
       "[5108 rows x 8 columns]"
      ]
     },
     "execution_count": 4,
     "metadata": {},
     "output_type": "execute_result"
    }
   ],
   "source": [
    "data"
   ]
  },
  {
   "cell_type": "markdown",
   "id": "6a13b6f3-d4f9-4b01-a130-b51eba72bc33",
   "metadata": {},
   "source": [
    "Save the data dataframe as csv-file:"
   ]
  },
  {
   "cell_type": "code",
   "execution_count": 17,
   "id": "830e6bfb-bf14-4f98-bf67-2b97eef86380",
   "metadata": {},
   "outputs": [],
   "source": [
    "current_date = datetime.datetime.now().strftime('%Y%m%d_%H%M%S')  \n",
    "filename = f\"csv/basketball_reference_com/original_player_info_{current_date}.csv\"\n",
    "data.to_csv(filename, index=False)"
   ]
  },
  {
   "cell_type": "markdown",
   "id": "356c5f56-580b-4372-9486-0c2dbdda34fe",
   "metadata": {},
   "source": [
    "Convert the birth_date column to the timestamp type ([see the prepare_df function](utils/data_collection.py)):"
   ]
  },
  {
   "cell_type": "code",
   "execution_count": 7,
   "id": "a124f614-4341-4565-aaad-444d5bc04c54",
   "metadata": {},
   "outputs": [],
   "source": [
    "df_player_info = prepare_df(data)"
   ]
  },
  {
   "cell_type": "code",
   "execution_count": 8,
   "id": "06cde186-515d-4241-8b62-021cc636fa42",
   "metadata": {},
   "outputs": [
    {
     "data": {
      "text/html": [
       "<div>\n",
       "<style scoped>\n",
       "    .dataframe tbody tr th:only-of-type {\n",
       "        vertical-align: middle;\n",
       "    }\n",
       "\n",
       "    .dataframe tbody tr th {\n",
       "        vertical-align: top;\n",
       "    }\n",
       "\n",
       "    .dataframe thead th {\n",
       "        text-align: right;\n",
       "    }\n",
       "</style>\n",
       "<table border=\"1\" class=\"dataframe\">\n",
       "  <thead>\n",
       "    <tr style=\"text-align: right;\">\n",
       "      <th></th>\n",
       "      <th>name</th>\n",
       "      <th>from_year</th>\n",
       "      <th>to_year</th>\n",
       "      <th>pos</th>\n",
       "      <th>height</th>\n",
       "      <th>weight</th>\n",
       "      <th>birth_date</th>\n",
       "      <th>college</th>\n",
       "    </tr>\n",
       "  </thead>\n",
       "  <tbody>\n",
       "    <tr>\n",
       "      <th>0</th>\n",
       "      <td>Alaa Abdelnaby</td>\n",
       "      <td>1991</td>\n",
       "      <td>1995</td>\n",
       "      <td>F-C</td>\n",
       "      <td>6-10</td>\n",
       "      <td>240</td>\n",
       "      <td>1968-06-24</td>\n",
       "      <td>Duke</td>\n",
       "    </tr>\n",
       "    <tr>\n",
       "      <th>1</th>\n",
       "      <td>Zaid Abdul-Aziz</td>\n",
       "      <td>1969</td>\n",
       "      <td>1978</td>\n",
       "      <td>C-F</td>\n",
       "      <td>6-9</td>\n",
       "      <td>235</td>\n",
       "      <td>1946-04-07</td>\n",
       "      <td>Iowa State</td>\n",
       "    </tr>\n",
       "    <tr>\n",
       "      <th>2</th>\n",
       "      <td>Kareem Abdul-Jabbar*</td>\n",
       "      <td>1970</td>\n",
       "      <td>1989</td>\n",
       "      <td>C</td>\n",
       "      <td>7-2</td>\n",
       "      <td>225</td>\n",
       "      <td>1947-04-16</td>\n",
       "      <td>UCLA</td>\n",
       "    </tr>\n",
       "    <tr>\n",
       "      <th>3</th>\n",
       "      <td>Mahmoud Abdul-Rauf</td>\n",
       "      <td>1991</td>\n",
       "      <td>2001</td>\n",
       "      <td>G</td>\n",
       "      <td>6-1</td>\n",
       "      <td>162</td>\n",
       "      <td>1969-03-09</td>\n",
       "      <td>LSU</td>\n",
       "    </tr>\n",
       "    <tr>\n",
       "      <th>4</th>\n",
       "      <td>Tariq Abdul-Wahad</td>\n",
       "      <td>1998</td>\n",
       "      <td>2003</td>\n",
       "      <td>F</td>\n",
       "      <td>6-6</td>\n",
       "      <td>223</td>\n",
       "      <td>1974-11-03</td>\n",
       "      <td>Michigan, San Jose State</td>\n",
       "    </tr>\n",
       "    <tr>\n",
       "      <th>...</th>\n",
       "      <td>...</td>\n",
       "      <td>...</td>\n",
       "      <td>...</td>\n",
       "      <td>...</td>\n",
       "      <td>...</td>\n",
       "      <td>...</td>\n",
       "      <td>...</td>\n",
       "      <td>...</td>\n",
       "    </tr>\n",
       "    <tr>\n",
       "      <th>5103</th>\n",
       "      <td>Ante Žižić</td>\n",
       "      <td>2018</td>\n",
       "      <td>2020</td>\n",
       "      <td>F-C</td>\n",
       "      <td>6-10</td>\n",
       "      <td>266</td>\n",
       "      <td>1997-01-04</td>\n",
       "      <td></td>\n",
       "    </tr>\n",
       "    <tr>\n",
       "      <th>5104</th>\n",
       "      <td>Jim Zoet</td>\n",
       "      <td>1983</td>\n",
       "      <td>1983</td>\n",
       "      <td>C</td>\n",
       "      <td>7-1</td>\n",
       "      <td>240</td>\n",
       "      <td>1953-12-20</td>\n",
       "      <td>Kent State University</td>\n",
       "    </tr>\n",
       "    <tr>\n",
       "      <th>5105</th>\n",
       "      <td>Bill Zopf</td>\n",
       "      <td>1971</td>\n",
       "      <td>1971</td>\n",
       "      <td>G</td>\n",
       "      <td>6-1</td>\n",
       "      <td>170</td>\n",
       "      <td>1948-06-07</td>\n",
       "      <td>Duquesne</td>\n",
       "    </tr>\n",
       "    <tr>\n",
       "      <th>5106</th>\n",
       "      <td>Ivica Zubac</td>\n",
       "      <td>2017</td>\n",
       "      <td>2023</td>\n",
       "      <td>C</td>\n",
       "      <td>7-0</td>\n",
       "      <td>240</td>\n",
       "      <td>1997-03-18</td>\n",
       "      <td></td>\n",
       "    </tr>\n",
       "    <tr>\n",
       "      <th>5107</th>\n",
       "      <td>Matt Zunic</td>\n",
       "      <td>1949</td>\n",
       "      <td>1949</td>\n",
       "      <td>G-F</td>\n",
       "      <td>6-3</td>\n",
       "      <td>195</td>\n",
       "      <td>1919-12-19</td>\n",
       "      <td>George Washington</td>\n",
       "    </tr>\n",
       "  </tbody>\n",
       "</table>\n",
       "<p>5108 rows × 8 columns</p>\n",
       "</div>"
      ],
      "text/plain": [
       "                      name from_year to_year  pos height weight birth_date   \n",
       "0           Alaa Abdelnaby      1991    1995  F-C   6-10    240 1968-06-24  \\\n",
       "1          Zaid Abdul-Aziz      1969    1978  C-F    6-9    235 1946-04-07   \n",
       "2     Kareem Abdul-Jabbar*      1970    1989    C    7-2    225 1947-04-16   \n",
       "3       Mahmoud Abdul-Rauf      1991    2001    G    6-1    162 1969-03-09   \n",
       "4        Tariq Abdul-Wahad      1998    2003    F    6-6    223 1974-11-03   \n",
       "...                    ...       ...     ...  ...    ...    ...        ...   \n",
       "5103            Ante Žižić      2018    2020  F-C   6-10    266 1997-01-04   \n",
       "5104              Jim Zoet      1983    1983    C    7-1    240 1953-12-20   \n",
       "5105             Bill Zopf      1971    1971    G    6-1    170 1948-06-07   \n",
       "5106           Ivica Zubac      2017    2023    C    7-0    240 1997-03-18   \n",
       "5107            Matt Zunic      1949    1949  G-F    6-3    195 1919-12-19   \n",
       "\n",
       "                       college  \n",
       "0                         Duke  \n",
       "1                   Iowa State  \n",
       "2                         UCLA  \n",
       "3                          LSU  \n",
       "4     Michigan, San Jose State  \n",
       "...                        ...  \n",
       "5103                            \n",
       "5104     Kent State University  \n",
       "5105                  Duquesne  \n",
       "5106                            \n",
       "5107         George Washington  \n",
       "\n",
       "[5108 rows x 8 columns]"
      ]
     },
     "execution_count": 8,
     "metadata": {},
     "output_type": "execute_result"
    }
   ],
   "source": [
    "df_player_info"
   ]
  },
  {
   "cell_type": "markdown",
   "id": "c12d196e-0954-46b6-9b1d-ee7c1cfdaa63",
   "metadata": {},
   "source": [
    "Save the data dataframe as csv-file:"
   ]
  },
  {
   "cell_type": "code",
   "execution_count": 18,
   "id": "121e137d-4081-4988-acb6-73b4b67f2326",
   "metadata": {},
   "outputs": [],
   "source": [
    "current_date = datetime.datetime.now().strftime('%Y%m%d_%H%M%S')  \n",
    "filename = f\"csv/basketball_reference_com/df_player_info_{current_date}.csv\"\n",
    "df_player_info.to_csv(filename, index=False)"
   ]
  }
 ],
 "metadata": {
  "kernelspec": {
   "display_name": "Python 3.9 (env_mc_tf)",
   "language": "python",
   "name": "env_mc_tf"
  },
  "language_info": {
   "codemirror_mode": {
    "name": "ipython",
    "version": 3
   },
   "file_extension": ".py",
   "mimetype": "text/x-python",
   "name": "python",
   "nbconvert_exporter": "python",
   "pygments_lexer": "ipython3",
   "version": "3.9.16"
  }
 },
 "nbformat": 4,
 "nbformat_minor": 5
}
